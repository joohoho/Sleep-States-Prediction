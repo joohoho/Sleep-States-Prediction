{
 "cells": [
  {
   "cell_type": "code",
   "execution_count": 1,
   "id": "5f940934-d9a1-47e4-8597-699e1f87e408",
   "metadata": {},
   "outputs": [],
   "source": [
    "# inline plotting\n",
    "\n",
    "%matplotlib inline"
   ]
  },
  {
   "cell_type": "code",
   "execution_count": 142,
   "id": "501ab95b-96a3-4761-aae6-da20227308ac",
   "metadata": {
    "tags": []
   },
   "outputs": [],
   "source": [
    "# imports\n",
    "\n",
    "import numpy as np\n",
    "import pandas as pd\n",
    "import matplotlib.pyplot as plt\n",
    "\n",
    "from collections import Counter\n",
    "from statsmodels.graphics.tsaplots import plot_acf\n",
    "from joblib import parallel_backend\n",
    "\n",
    "from sklearn.preprocessing import OrdinalEncoder, MinMaxScaler, StandardScaler, LabelBinarizer\n",
    "from sklearn.model_selection import train_test_split, cross_val_score\n",
    "from sklearn.svm import SVC, NuSVC, LinearSVC\n",
    "from sklearn.tree import DecisionTreeClassifier\n",
    "from sklearn.inspection import permutation_importance\n",
    "from sklearn.metrics import classification_report, mean_squared_error, confusion_matrix, RocCurveDisplay, roc_auc_score\n",
    "\n",
    "from imblearn.under_sampling import RandomUnderSampler\n",
    "\n",
    "import pickle\n",
    "import mlflow\n",
    "import seaborn as sns\n",
    "\n",
    "from yellowbrick.classifier import ROCAUC\n",
    "from yellowbrick.classifier.rocauc import roc_auc\n",
    "from yellowbrick.model_selection import FeatureImportances"
   ]
  },
  {
   "cell_type": "markdown",
   "id": "14873da6-c534-47c1-885a-a7a15ee00ba2",
   "metadata": {},
   "source": [
    "# Sleep States Prediction"
   ]
  },
  {
   "cell_type": "markdown",
   "id": "ed3a5db4-45fb-459c-b091-eac9d0079909",
   "metadata": {},
   "source": [
    "## Course project"
   ]
  },
  {
   "cell_type": "markdown",
   "id": "ae1d6638-32fe-4943-b7a8-1a2b67b433f5",
   "metadata": {},
   "source": [
    "### Pipeline"
   ]
  },
  {
   "cell_type": "code",
   "execution_count": null,
   "id": "8fde3f66-e2e3-4ffe-9c65-3407e29e68b7",
   "metadata": {},
   "outputs": [],
   "source": []
  },
  {
   "cell_type": "code",
   "execution_count": null,
   "id": "628e9a8a-b3db-4ad7-a2e9-adbdd52c61d3",
   "metadata": {},
   "outputs": [],
   "source": []
  },
  {
   "cell_type": "markdown",
   "id": "0743f044-5eba-499d-bf3c-9e1bb5218919",
   "metadata": {},
   "source": [
    "### Read first dataset "
   ]
  },
  {
   "cell_type": "code",
   "execution_count": 5,
   "id": "1ab38c35-b240-461d-82af-ee76ecdb8be3",
   "metadata": {
    "tags": []
   },
   "outputs": [],
   "source": [
    "sleep_events = pd.read_csv(\"data/train_events.csv\")"
   ]
  },
  {
   "cell_type": "code",
   "execution_count": 6,
   "id": "18a06ad1-516d-403a-ab20-fc027c9d9aeb",
   "metadata": {
    "tags": []
   },
   "outputs": [
    {
     "data": {
      "text/html": [
       "<div>\n",
       "<style scoped>\n",
       "    .dataframe tbody tr th:only-of-type {\n",
       "        vertical-align: middle;\n",
       "    }\n",
       "\n",
       "    .dataframe tbody tr th {\n",
       "        vertical-align: top;\n",
       "    }\n",
       "\n",
       "    .dataframe thead th {\n",
       "        text-align: right;\n",
       "    }\n",
       "</style>\n",
       "<table border=\"1\" class=\"dataframe\">\n",
       "  <thead>\n",
       "    <tr style=\"text-align: right;\">\n",
       "      <th></th>\n",
       "      <th>series_id</th>\n",
       "      <th>night</th>\n",
       "      <th>event</th>\n",
       "      <th>step</th>\n",
       "      <th>timestamp</th>\n",
       "    </tr>\n",
       "  </thead>\n",
       "  <tbody>\n",
       "    <tr>\n",
       "      <th>0</th>\n",
       "      <td>038441c925bb</td>\n",
       "      <td>1</td>\n",
       "      <td>onset</td>\n",
       "      <td>4992.0</td>\n",
       "      <td>2018-08-14T22:26:00-0400</td>\n",
       "    </tr>\n",
       "    <tr>\n",
       "      <th>1</th>\n",
       "      <td>038441c925bb</td>\n",
       "      <td>1</td>\n",
       "      <td>wakeup</td>\n",
       "      <td>10932.0</td>\n",
       "      <td>2018-08-15T06:41:00-0400</td>\n",
       "    </tr>\n",
       "    <tr>\n",
       "      <th>2</th>\n",
       "      <td>038441c925bb</td>\n",
       "      <td>2</td>\n",
       "      <td>onset</td>\n",
       "      <td>20244.0</td>\n",
       "      <td>2018-08-15T19:37:00-0400</td>\n",
       "    </tr>\n",
       "    <tr>\n",
       "      <th>3</th>\n",
       "      <td>038441c925bb</td>\n",
       "      <td>2</td>\n",
       "      <td>wakeup</td>\n",
       "      <td>27492.0</td>\n",
       "      <td>2018-08-16T05:41:00-0400</td>\n",
       "    </tr>\n",
       "    <tr>\n",
       "      <th>4</th>\n",
       "      <td>038441c925bb</td>\n",
       "      <td>3</td>\n",
       "      <td>onset</td>\n",
       "      <td>39996.0</td>\n",
       "      <td>2018-08-16T23:03:00-0400</td>\n",
       "    </tr>\n",
       "  </tbody>\n",
       "</table>\n",
       "</div>"
      ],
      "text/plain": [
       "      series_id  night   event     step                 timestamp\n",
       "0  038441c925bb      1   onset   4992.0  2018-08-14T22:26:00-0400\n",
       "1  038441c925bb      1  wakeup  10932.0  2018-08-15T06:41:00-0400\n",
       "2  038441c925bb      2   onset  20244.0  2018-08-15T19:37:00-0400\n",
       "3  038441c925bb      2  wakeup  27492.0  2018-08-16T05:41:00-0400\n",
       "4  038441c925bb      3   onset  39996.0  2018-08-16T23:03:00-0400"
      ]
     },
     "execution_count": 6,
     "metadata": {},
     "output_type": "execute_result"
    }
   ],
   "source": [
    "sleep_events.head()"
   ]
  },
  {
   "cell_type": "code",
   "execution_count": 7,
   "id": "85025637-3eb3-439c-9437-5d6225c5c639",
   "metadata": {
    "tags": []
   },
   "outputs": [
    {
     "data": {
      "text/plain": [
       "(14508, 5)"
      ]
     },
     "execution_count": 7,
     "metadata": {},
     "output_type": "execute_result"
    }
   ],
   "source": [
    "sleep_events.shape"
   ]
  },
  {
   "cell_type": "code",
   "execution_count": 8,
   "id": "41108ed6-3f1a-4c5a-b9e9-6c8ec31f5c0e",
   "metadata": {
    "tags": []
   },
   "outputs": [
    {
     "data": {
      "text/html": [
       "<div>\n",
       "<style scoped>\n",
       "    .dataframe tbody tr th:only-of-type {\n",
       "        vertical-align: middle;\n",
       "    }\n",
       "\n",
       "    .dataframe tbody tr th {\n",
       "        vertical-align: top;\n",
       "    }\n",
       "\n",
       "    .dataframe thead th {\n",
       "        text-align: right;\n",
       "    }\n",
       "</style>\n",
       "<table border=\"1\" class=\"dataframe\">\n",
       "  <thead>\n",
       "    <tr style=\"text-align: right;\">\n",
       "      <th></th>\n",
       "      <th>count</th>\n",
       "      <th>mean</th>\n",
       "      <th>std</th>\n",
       "      <th>min</th>\n",
       "      <th>25%</th>\n",
       "      <th>50%</th>\n",
       "      <th>75%</th>\n",
       "      <th>max</th>\n",
       "    </tr>\n",
       "  </thead>\n",
       "  <tbody>\n",
       "    <tr>\n",
       "      <th>night</th>\n",
       "      <td>14508.0</td>\n",
       "      <td>15.120072</td>\n",
       "      <td>10.286758</td>\n",
       "      <td>1.0</td>\n",
       "      <td>7.0</td>\n",
       "      <td>14.0</td>\n",
       "      <td>21.0</td>\n",
       "      <td>84.0</td>\n",
       "    </tr>\n",
       "    <tr>\n",
       "      <th>step</th>\n",
       "      <td>9585.0</td>\n",
       "      <td>214352.123944</td>\n",
       "      <td>141268.408192</td>\n",
       "      <td>936.0</td>\n",
       "      <td>95436.0</td>\n",
       "      <td>200604.0</td>\n",
       "      <td>317520.0</td>\n",
       "      <td>739392.0</td>\n",
       "    </tr>\n",
       "  </tbody>\n",
       "</table>\n",
       "</div>"
      ],
      "text/plain": [
       "         count           mean            std    min      25%       50%  \\\n",
       "night  14508.0      15.120072      10.286758    1.0      7.0      14.0   \n",
       "step    9585.0  214352.123944  141268.408192  936.0  95436.0  200604.0   \n",
       "\n",
       "            75%       max  \n",
       "night      21.0      84.0  \n",
       "step   317520.0  739392.0  "
      ]
     },
     "execution_count": 8,
     "metadata": {},
     "output_type": "execute_result"
    }
   ],
   "source": [
    "sleep_events.describe().T"
   ]
  },
  {
   "cell_type": "code",
   "execution_count": 9,
   "id": "2b75ccbc-49b6-460b-b7e3-725c8c688be6",
   "metadata": {},
   "outputs": [
    {
     "data": {
      "text/plain": [
       "277"
      ]
     },
     "execution_count": 9,
     "metadata": {},
     "output_type": "execute_result"
    }
   ],
   "source": [
    "# Count of uniqie series observations\n",
    "\n",
    "np.count_nonzero(sleep_events.series_id.unique())"
   ]
  },
  {
   "cell_type": "code",
   "execution_count": 10,
   "id": "009fc304-4945-447e-bc10-06520c265502",
   "metadata": {
    "tags": []
   },
   "outputs": [
    {
     "data": {
      "text/plain": [
       "series_id     object\n",
       "night          int64\n",
       "event         object\n",
       "step         float64\n",
       "timestamp     object\n",
       "dtype: object"
      ]
     },
     "execution_count": 10,
     "metadata": {},
     "output_type": "execute_result"
    }
   ],
   "source": [
    "sleep_events.dtypes"
   ]
  },
  {
   "cell_type": "code",
   "execution_count": 11,
   "id": "cbf3ce20-ae48-4822-8ed6-43be95f80014",
   "metadata": {
    "tags": []
   },
   "outputs": [
    {
     "name": "stdout",
     "output_type": "stream",
     "text": [
      "<class 'pandas.core.frame.DataFrame'>\n",
      "RangeIndex: 14508 entries, 0 to 14507\n",
      "Data columns (total 5 columns):\n",
      " #   Column     Non-Null Count  Dtype  \n",
      "---  ------     --------------  -----  \n",
      " 0   series_id  14508 non-null  object \n",
      " 1   night      14508 non-null  int64  \n",
      " 2   event      14508 non-null  object \n",
      " 3   step       9585 non-null   float64\n",
      " 4   timestamp  9585 non-null   object \n",
      "dtypes: float64(1), int64(1), object(3)\n",
      "memory usage: 566.8+ KB\n"
     ]
    }
   ],
   "source": [
    "sleep_events.info()"
   ]
  },
  {
   "cell_type": "markdown",
   "id": "4846675e-139d-40eb-b3f4-082707162fc4",
   "metadata": {},
   "source": [
    "### Features extraction"
   ]
  },
  {
   "cell_type": "code",
   "execution_count": 12,
   "id": "c440210f-62bc-463f-926e-27bca44eabab",
   "metadata": {
    "tags": []
   },
   "outputs": [
    {
     "data": {
      "text/plain": [
       "0          4992.0\n",
       "1         10932.0\n",
       "2         20244.0\n",
       "3         27492.0\n",
       "4         39996.0\n",
       "           ...   \n",
       "14503    560604.0\n",
       "14504    574620.0\n",
       "14505    581604.0\n",
       "14506         NaN\n",
       "14507         NaN\n",
       "Name: step, Length: 14508, dtype: float64"
      ]
     },
     "execution_count": 12,
     "metadata": {},
     "output_type": "execute_result"
    }
   ],
   "source": [
    "sleep_events.step"
   ]
  },
  {
   "cell_type": "code",
   "execution_count": 13,
   "id": "b9ff2e7c-8cfe-4aea-90e9-23b7f4e1a9e4",
   "metadata": {
    "tags": []
   },
   "outputs": [],
   "source": [
    "def plot_step(num_steps, steps):\n",
    "\n",
    "    plt.plot(np.arange(0, num_steps), steps)\n",
    "\n",
    "    plt.xlabel(\"time series\")\n",
    "    plt.ylabel(\"step\")\n",
    "    plt.semilogx()\n",
    "    plt.semilogy()\n",
    "    plt.show()"
   ]
  },
  {
   "cell_type": "code",
   "execution_count": 14,
   "id": "a0f6e399-2a35-416d-be8b-f08c9f452746",
   "metadata": {
    "tags": []
   },
   "outputs": [
    {
     "data": {
      "image/png": "[encoded data removed]",
      "text/plain": [
       "<Figure size 640x480 with 1 Axes>"
      ]
     },
     "metadata": {},
     "output_type": "display_data"
    }
   ],
   "source": [
    "plot_step(len(sleep_events.step), sleep_events.step)"
   ]
  },
  {
   "cell_type": "code",
   "execution_count": 15,
   "id": "a74733c2-cbf1-4f3c-9d0f-47cc6db4c36c",
   "metadata": {
    "tags": []
   },
   "outputs": [
    {
     "data": {
      "text/plain": [
       "0       2018-08-15 02:26:00+00:00\n",
       "1       2018-08-15 10:41:00+00:00\n",
       "2       2018-08-15 23:37:00+00:00\n",
       "3       2018-08-16 09:41:00+00:00\n",
       "4       2018-08-17 03:03:00+00:00\n",
       "                   ...           \n",
       "14503   2017-09-06 08:07:00+00:00\n",
       "14504   2017-09-07 03:35:00+00:00\n",
       "14505   2017-09-07 13:17:00+00:00\n",
       "14506                         NaT\n",
       "14507                         NaT\n",
       "Name: timestamp, Length: 14508, dtype: datetime64[ns, UTC]"
      ]
     },
     "execution_count": 15,
     "metadata": {},
     "output_type": "execute_result"
    }
   ],
   "source": [
    "sleep_events[\"timestamp\"] = sleep_events.timestamp.astype(\"datetime64[ns, UTC]\")\n",
    "sleep_events.timestamp"
   ]
  },
  {
   "cell_type": "code",
   "execution_count": 16,
   "id": "7fc11011-e22a-4a6d-b9ba-e5c91ad333d5",
   "metadata": {
    "tags": []
   },
   "outputs": [
    {
     "data": {
      "text/plain": [
       "0       2018-08-15 02:26:00+00:00\n",
       "1       2018-08-15 10:41:00+00:00\n",
       "2       2018-08-15 23:37:00+00:00\n",
       "3       2018-08-16 09:41:00+00:00\n",
       "4       2018-08-17 03:03:00+00:00\n",
       "                   ...           \n",
       "14503   2017-09-06 08:07:00+00:00\n",
       "14504   2017-09-07 03:35:00+00:00\n",
       "14505   2017-09-07 13:17:00+00:00\n",
       "14506   2017-09-07 13:17:00+00:00\n",
       "14507   2017-09-07 13:17:00+00:00\n",
       "Name: timestamp, Length: 14508, dtype: datetime64[ns, UTC]"
      ]
     },
     "execution_count": 16,
     "metadata": {},
     "output_type": "execute_result"
    }
   ],
   "source": [
    "# handle missing values in \"timestamp\"\n",
    "\n",
    "sleep_events[\"timestamp\"] = sleep_events[\"timestamp\"].interpolate(Axis = 0)\n",
    "sleep_events.timestamp"
   ]
  },
  {
   "cell_type": "code",
   "execution_count": 17,
   "id": "a2df83af-6347-4679-ad6e-80dfb2a29aaa",
   "metadata": {
    "tags": []
   },
   "outputs": [
    {
     "data": {
      "image/png": "[encoded data removed]",
      "text/plain": [
       "<Figure size 640x480 with 1 Axes>"
      ]
     },
     "metadata": {},
     "output_type": "display_data"
    }
   ],
   "source": [
    "sleep_events[\"step\"] = sleep_events.step.interpolate(Axis = 0)\n",
    "\n",
    "plot_step(len(sleep_events.step), sleep_events.step)"
   ]
  },
  {
   "cell_type": "code",
   "execution_count": 18,
   "id": "5fe1bceb-ca4c-4065-9077-06c7e287afbe",
   "metadata": {
    "tags": []
   },
   "outputs": [
    {
     "data": {
      "text/plain": [
       "series_id                 object\n",
       "night                      int64\n",
       "event                     object\n",
       "step                     float64\n",
       "timestamp    datetime64[ns, UTC]\n",
       "dtype: object"
      ]
     },
     "execution_count": 18,
     "metadata": {},
     "output_type": "execute_result"
    }
   ],
   "source": [
    "sleep_events.dtypes"
   ]
  },
  {
   "cell_type": "code",
   "execution_count": 19,
   "id": "9e0a6da5-8f26-457b-8006-8b90189e1506",
   "metadata": {
    "tags": []
   },
   "outputs": [
    {
     "data": {
      "text/html": [
       "<div>\n",
       "<style scoped>\n",
       "    .dataframe tbody tr th:only-of-type {\n",
       "        vertical-align: middle;\n",
       "    }\n",
       "\n",
       "    .dataframe tbody tr th {\n",
       "        vertical-align: top;\n",
       "    }\n",
       "\n",
       "    .dataframe thead th {\n",
       "        text-align: right;\n",
       "    }\n",
       "</style>\n",
       "<table border=\"1\" class=\"dataframe\">\n",
       "  <thead>\n",
       "    <tr style=\"text-align: right;\">\n",
       "      <th></th>\n",
       "      <th>series_id</th>\n",
       "      <th>night</th>\n",
       "      <th>event</th>\n",
       "      <th>step</th>\n",
       "      <th>timestamp</th>\n",
       "    </tr>\n",
       "  </thead>\n",
       "  <tbody>\n",
       "    <tr>\n",
       "      <th>0</th>\n",
       "      <td>038441c925bb</td>\n",
       "      <td>1</td>\n",
       "      <td>onset</td>\n",
       "      <td>4992.0</td>\n",
       "      <td>2018-08-15 02:26:00+00:00</td>\n",
       "    </tr>\n",
       "    <tr>\n",
       "      <th>1</th>\n",
       "      <td>038441c925bb</td>\n",
       "      <td>1</td>\n",
       "      <td>wakeup</td>\n",
       "      <td>10932.0</td>\n",
       "      <td>2018-08-15 10:41:00+00:00</td>\n",
       "    </tr>\n",
       "    <tr>\n",
       "      <th>2</th>\n",
       "      <td>038441c925bb</td>\n",
       "      <td>2</td>\n",
       "      <td>onset</td>\n",
       "      <td>20244.0</td>\n",
       "      <td>2018-08-15 23:37:00+00:00</td>\n",
       "    </tr>\n",
       "    <tr>\n",
       "      <th>3</th>\n",
       "      <td>038441c925bb</td>\n",
       "      <td>2</td>\n",
       "      <td>wakeup</td>\n",
       "      <td>27492.0</td>\n",
       "      <td>2018-08-16 09:41:00+00:00</td>\n",
       "    </tr>\n",
       "    <tr>\n",
       "      <th>4</th>\n",
       "      <td>038441c925bb</td>\n",
       "      <td>3</td>\n",
       "      <td>onset</td>\n",
       "      <td>39996.0</td>\n",
       "      <td>2018-08-17 03:03:00+00:00</td>\n",
       "    </tr>\n",
       "  </tbody>\n",
       "</table>\n",
       "</div>"
      ],
      "text/plain": [
       "      series_id  night   event     step                 timestamp\n",
       "0  038441c925bb      1   onset   4992.0 2018-08-15 02:26:00+00:00\n",
       "1  038441c925bb      1  wakeup  10932.0 2018-08-15 10:41:00+00:00\n",
       "2  038441c925bb      2   onset  20244.0 2018-08-15 23:37:00+00:00\n",
       "3  038441c925bb      2  wakeup  27492.0 2018-08-16 09:41:00+00:00\n",
       "4  038441c925bb      3   onset  39996.0 2018-08-17 03:03:00+00:00"
      ]
     },
     "execution_count": 19,
     "metadata": {},
     "output_type": "execute_result"
    }
   ],
   "source": [
    "sleep_events.head()"
   ]
  },
  {
   "cell_type": "markdown",
   "id": "7d2ae3a6-7bca-4dd2-87d7-68b5ae1c8719",
   "metadata": {},
   "source": [
    "### Encoding"
   ]
  },
  {
   "cell_type": "code",
   "execution_count": 20,
   "id": "3bc16fd4-eb81-4e30-ba32-c07b49dd2e55",
   "metadata": {
    "tags": []
   },
   "outputs": [],
   "source": [
    "encoder = OrdinalEncoder()\n",
    "\n",
    "# nd array\n",
    "cat_features = list(zip(sleep_events.series_id, sleep_events.event))\n",
    "\n",
    "# cat_features\n",
    "cat_features_transformed = encoder.fit_transform(cat_features)"
   ]
  },
  {
   "cell_type": "code",
   "execution_count": 21,
   "id": "54df9261-221a-42f1-9c87-4c31f8cdbd9f",
   "metadata": {
    "tags": []
   },
   "outputs": [],
   "source": [
    "sleep_events[\"series_id\"], sleep_events[\"event\"] = cat_features_transformed[:, 0], cat_features_transformed[:, 1]"
   ]
  },
  {
   "cell_type": "code",
   "execution_count": 22,
   "id": "ca25a7d8-06fd-44a0-90eb-673164890272",
   "metadata": {
    "tags": []
   },
   "outputs": [
    {
     "data": {
      "text/plain": [
       "array([0., 1.])"
      ]
     },
     "execution_count": 22,
     "metadata": {},
     "output_type": "execute_result"
    }
   ],
   "source": [
    "sleep_events.event.unique()"
   ]
  },
  {
   "cell_type": "code",
   "execution_count": 23,
   "id": "f09046e4-08b7-4b99-9dbf-51768b48c9bd",
   "metadata": {
    "tags": []
   },
   "outputs": [
    {
     "data": {
      "text/html": [
       "<div>\n",
       "<style scoped>\n",
       "    .dataframe tbody tr th:only-of-type {\n",
       "        vertical-align: middle;\n",
       "    }\n",
       "\n",
       "    .dataframe tbody tr th {\n",
       "        vertical-align: top;\n",
       "    }\n",
       "\n",
       "    .dataframe thead th {\n",
       "        text-align: right;\n",
       "    }\n",
       "</style>\n",
       "<table border=\"1\" class=\"dataframe\">\n",
       "  <thead>\n",
       "    <tr style=\"text-align: right;\">\n",
       "      <th></th>\n",
       "      <th>series_id</th>\n",
       "      <th>night</th>\n",
       "      <th>event</th>\n",
       "      <th>step</th>\n",
       "      <th>timestamp</th>\n",
       "    </tr>\n",
       "  </thead>\n",
       "  <tbody>\n",
       "    <tr>\n",
       "      <th>0</th>\n",
       "      <td>0.0</td>\n",
       "      <td>1</td>\n",
       "      <td>0.0</td>\n",
       "      <td>4992.0</td>\n",
       "      <td>2018-08-15 02:26:00+00:00</td>\n",
       "    </tr>\n",
       "    <tr>\n",
       "      <th>1</th>\n",
       "      <td>0.0</td>\n",
       "      <td>1</td>\n",
       "      <td>1.0</td>\n",
       "      <td>10932.0</td>\n",
       "      <td>2018-08-15 10:41:00+00:00</td>\n",
       "    </tr>\n",
       "    <tr>\n",
       "      <th>2</th>\n",
       "      <td>0.0</td>\n",
       "      <td>2</td>\n",
       "      <td>0.0</td>\n",
       "      <td>20244.0</td>\n",
       "      <td>2018-08-15 23:37:00+00:00</td>\n",
       "    </tr>\n",
       "    <tr>\n",
       "      <th>3</th>\n",
       "      <td>0.0</td>\n",
       "      <td>2</td>\n",
       "      <td>1.0</td>\n",
       "      <td>27492.0</td>\n",
       "      <td>2018-08-16 09:41:00+00:00</td>\n",
       "    </tr>\n",
       "    <tr>\n",
       "      <th>4</th>\n",
       "      <td>0.0</td>\n",
       "      <td>3</td>\n",
       "      <td>0.0</td>\n",
       "      <td>39996.0</td>\n",
       "      <td>2018-08-17 03:03:00+00:00</td>\n",
       "    </tr>\n",
       "  </tbody>\n",
       "</table>\n",
       "</div>"
      ],
      "text/plain": [
       "   series_id  night  event     step                 timestamp\n",
       "0        0.0      1    0.0   4992.0 2018-08-15 02:26:00+00:00\n",
       "1        0.0      1    1.0  10932.0 2018-08-15 10:41:00+00:00\n",
       "2        0.0      2    0.0  20244.0 2018-08-15 23:37:00+00:00\n",
       "3        0.0      2    1.0  27492.0 2018-08-16 09:41:00+00:00\n",
       "4        0.0      3    0.0  39996.0 2018-08-17 03:03:00+00:00"
      ]
     },
     "execution_count": 23,
     "metadata": {},
     "output_type": "execute_result"
    }
   ],
   "source": [
    "sleep_events.head()"
   ]
  },
  {
   "cell_type": "markdown",
   "id": "f64bced7-f603-4136-8a80-94b27482f563",
   "metadata": {
    "tags": []
   },
   "source": [
    "#### Visualize autocorrelation "
   ]
  },
  {
   "cell_type": "code",
   "execution_count": 24,
   "id": "e0d7ea9e-9339-4430-b45f-935a7f26b83f",
   "metadata": {
    "tags": []
   },
   "outputs": [],
   "source": [
    "sleep_events_indexed = sleep_events.set_index(\"timestamp\")"
   ]
  },
  {
   "cell_type": "code",
   "execution_count": 25,
   "id": "d6db2e58-95c2-44a5-a2f9-82a098237b3b",
   "metadata": {
    "tags": []
   },
   "outputs": [
    {
     "data": {
      "text/plain": [
       "(Timestamp('2017-08-06 02:44:00+0000', tz='UTC'),\n",
       " Timestamp('2019-07-05 09:33:00+0000', tz='UTC'))"
      ]
     },
     "execution_count": 25,
     "metadata": {},
     "output_type": "execute_result"
    }
   ],
   "source": [
    "sleep_events_indexed.index.min(), sleep_events_indexed.index.max()"
   ]
  },
  {
   "cell_type": "code",
   "execution_count": 26,
   "id": "b236ff67-8fc3-45e4-97e1-bd55a01c5b38",
   "metadata": {
    "tags": []
   },
   "outputs": [],
   "source": [
    "def plot_autocorr(data, n_lags):\n",
    "    plot_acf(data, lags = n_lags)\n",
    "    \n",
    "    plt.xlabel(\"n_lags\")\n",
    "    plt.ylabel(\"Percentage autocorr\")\n",
    "    plt.show()"
   ]
  },
  {
   "cell_type": "code",
   "execution_count": 27,
   "id": "bf8054ce-0715-4a45-bd88-ff1372c81693",
   "metadata": {
    "tags": []
   },
   "outputs": [
    {
     "data": {
      "image/png": "[encoded data removed]",
      "text/plain": [
       "<Figure size 640x480 with 1 Axes>"
      ]
     },
     "metadata": {},
     "output_type": "display_data"
    }
   ],
   "source": [
    "plot_autocorr(sleep_events_indexed.step, 100)"
   ]
  },
  {
   "cell_type": "markdown",
   "id": "e6b347f6-27a0-4406-bc93-33acdc552075",
   "metadata": {
    "tags": []
   },
   "source": [
    "След определен момент автокорелацията става незначима (светлосинята област) - около 20 лага назад."
   ]
  },
  {
   "cell_type": "code",
   "execution_count": 28,
   "id": "a0f484b5-5d9b-4fcc-8ff5-a198d2ea12d6",
   "metadata": {
    "tags": []
   },
   "outputs": [
    {
     "data": {
      "image/png": "[encoded data removed]",
      "text/plain": [
       "<Figure size 640x480 with 1 Axes>"
      ]
     },
     "metadata": {},
     "output_type": "display_data"
    }
   ],
   "source": [
    "plot_autocorr(sleep_events_indexed.step, 20)"
   ]
  },
  {
   "cell_type": "markdown",
   "id": "babe1a54-fc60-4fab-ae9e-c0ea71e390e8",
   "metadata": {},
   "source": [
    "### Load second larger dataset"
   ]
  },
  {
   "cell_type": "code",
   "execution_count": 29,
   "id": "d1525644-fa6c-46a1-b4d3-1b2d46153691",
   "metadata": {
    "tags": []
   },
   "outputs": [],
   "source": [
    "with parallel_backend(\"loky\", n_jobs = 50):\n",
    "    sleep_train = pd.read_parquet(\"data/train_series.parquet\")"
   ]
  },
  {
   "cell_type": "code",
   "execution_count": 30,
   "id": "e3a2dc58-d318-4d8e-91c9-a49996015e53",
   "metadata": {},
   "outputs": [],
   "source": [
    "# sleep_train = pd.read_parquet(\"data/train_series.parquet\")"
   ]
  },
  {
   "cell_type": "code",
   "execution_count": 31,
   "id": "080aebe8-6d38-49c6-acd0-fac0a2be6a90",
   "metadata": {
    "tags": []
   },
   "outputs": [
    {
     "data": {
      "text/plain": [
       "series_id     object\n",
       "step          uint32\n",
       "timestamp     object\n",
       "anglez       float32\n",
       "enmo         float32\n",
       "dtype: object"
      ]
     },
     "execution_count": 31,
     "metadata": {},
     "output_type": "execute_result"
    }
   ],
   "source": [
    "sleep_train.dtypes"
   ]
  },
  {
   "cell_type": "code",
   "execution_count": 32,
   "id": "13c545f3-84f1-4a74-8bf7-c94f2b0d1892",
   "metadata": {
    "tags": []
   },
   "outputs": [
    {
     "data": {
      "text/plain": [
       "(127946340, 5)"
      ]
     },
     "execution_count": 32,
     "metadata": {},
     "output_type": "execute_result"
    }
   ],
   "source": [
    "sleep_train.shape"
   ]
  },
  {
   "cell_type": "code",
   "execution_count": 33,
   "id": "68e1704f-e690-4c75-8e05-545c8c71b781",
   "metadata": {
    "tags": []
   },
   "outputs": [
    {
     "data": {
      "text/html": [
       "<div>\n",
       "<style scoped>\n",
       "    .dataframe tbody tr th:only-of-type {\n",
       "        vertical-align: middle;\n",
       "    }\n",
       "\n",
       "    .dataframe tbody tr th {\n",
       "        vertical-align: top;\n",
       "    }\n",
       "\n",
       "    .dataframe thead th {\n",
       "        text-align: right;\n",
       "    }\n",
       "</style>\n",
       "<table border=\"1\" class=\"dataframe\">\n",
       "  <thead>\n",
       "    <tr style=\"text-align: right;\">\n",
       "      <th></th>\n",
       "      <th>series_id</th>\n",
       "      <th>step</th>\n",
       "      <th>timestamp</th>\n",
       "      <th>anglez</th>\n",
       "      <th>enmo</th>\n",
       "    </tr>\n",
       "  </thead>\n",
       "  <tbody>\n",
       "    <tr>\n",
       "      <th>0</th>\n",
       "      <td>038441c925bb</td>\n",
       "      <td>0</td>\n",
       "      <td>2018-08-14T15:30:00-0400</td>\n",
       "      <td>2.6367</td>\n",
       "      <td>0.0217</td>\n",
       "    </tr>\n",
       "    <tr>\n",
       "      <th>1</th>\n",
       "      <td>038441c925bb</td>\n",
       "      <td>1</td>\n",
       "      <td>2018-08-14T15:30:05-0400</td>\n",
       "      <td>2.6368</td>\n",
       "      <td>0.0215</td>\n",
       "    </tr>\n",
       "    <tr>\n",
       "      <th>2</th>\n",
       "      <td>038441c925bb</td>\n",
       "      <td>2</td>\n",
       "      <td>2018-08-14T15:30:10-0400</td>\n",
       "      <td>2.6370</td>\n",
       "      <td>0.0216</td>\n",
       "    </tr>\n",
       "    <tr>\n",
       "      <th>3</th>\n",
       "      <td>038441c925bb</td>\n",
       "      <td>3</td>\n",
       "      <td>2018-08-14T15:30:15-0400</td>\n",
       "      <td>2.6368</td>\n",
       "      <td>0.0213</td>\n",
       "    </tr>\n",
       "    <tr>\n",
       "      <th>4</th>\n",
       "      <td>038441c925bb</td>\n",
       "      <td>4</td>\n",
       "      <td>2018-08-14T15:30:20-0400</td>\n",
       "      <td>2.6368</td>\n",
       "      <td>0.0215</td>\n",
       "    </tr>\n",
       "  </tbody>\n",
       "</table>\n",
       "</div>"
      ],
      "text/plain": [
       "      series_id  step                 timestamp  anglez    enmo\n",
       "0  038441c925bb     0  2018-08-14T15:30:00-0400  2.6367  0.0217\n",
       "1  038441c925bb     1  2018-08-14T15:30:05-0400  2.6368  0.0215\n",
       "2  038441c925bb     2  2018-08-14T15:30:10-0400  2.6370  0.0216\n",
       "3  038441c925bb     3  2018-08-14T15:30:15-0400  2.6368  0.0213\n",
       "4  038441c925bb     4  2018-08-14T15:30:20-0400  2.6368  0.0215"
      ]
     },
     "execution_count": 33,
     "metadata": {},
     "output_type": "execute_result"
    }
   ],
   "source": [
    "sleep_train.head()"
   ]
  },
  {
   "cell_type": "code",
   "execution_count": 34,
   "id": "760ad578-a05a-44a2-b9e1-03a6c7bb7069",
   "metadata": {
    "tags": []
   },
   "outputs": [
    {
     "data": {
      "text/plain": [
       "277"
      ]
     },
     "execution_count": 34,
     "metadata": {},
     "output_type": "execute_result"
    }
   ],
   "source": [
    "# number of unique series\n",
    "\n",
    "np.count_nonzero(sleep_train.series_id.unique())"
   ]
  },
  {
   "cell_type": "markdown",
   "id": "b6ddf96c-405e-4982-a1a6-3b151d515c2c",
   "metadata": {},
   "source": [
    "#### Two tries to convert whole timestamp column as datetime format"
   ]
  },
  {
   "cell_type": "code",
   "execution_count": 33,
   "id": "a94e1bf0-cacb-4262-b486-49ab58f97450",
   "metadata": {
    "tags": []
   },
   "outputs": [],
   "source": [
    "# with parallel_backend(\"loky\", n_jobs = 100):\n",
    "#     sleep_train[\"timestamp\"] = sleep_train.timestamp.astype(\"datetime64[ns, UTC]\")"
   ]
  },
  {
   "cell_type": "code",
   "execution_count": 34,
   "id": "94872613-2fe5-4aaa-a73b-cb0764aa9fca",
   "metadata": {
    "tags": []
   },
   "outputs": [],
   "source": [
    "# sleep_train[\"time\"] = sleep_train.timestamp.astype(\"datetime64[ns, UTC]\").dt.hour\n",
    "\n",
    "# sleep_train = sleep_train.drop(columns = \"timestamp\")"
   ]
  },
  {
   "cell_type": "markdown",
   "id": "b9e8db19-76cf-4861-9767-cd6bd7026341",
   "metadata": {},
   "source": [
    "#### some features transformations"
   ]
  },
  {
   "cell_type": "code",
   "execution_count": 35,
   "id": "18b0ed6f-21a3-417d-8e10-80fb3beccab8",
   "metadata": {
    "tags": []
   },
   "outputs": [],
   "source": [
    "sleep_train[\"step\"] = sleep_train.step.astype(float)"
   ]
  },
  {
   "cell_type": "code",
   "execution_count": 36,
   "id": "105843e1-3b90-476b-a60e-f1863eaf82fc",
   "metadata": {
    "tags": []
   },
   "outputs": [],
   "source": [
    "# convert series_id to float64.\n",
    "\n",
    "series_ids = np.array(sleep_train.series_id).reshape(-1, 1)\n",
    "\n",
    "series_ids = encoder.fit_transform(series_ids)"
   ]
  },
  {
   "cell_type": "code",
   "execution_count": 37,
   "id": "db8cb5ee-e10b-4256-93ce-8bc830b27975",
   "metadata": {
    "tags": []
   },
   "outputs": [],
   "source": [
    "sleep_train[\"series_id\"] = series_ids"
   ]
  },
  {
   "cell_type": "code",
   "execution_count": 38,
   "id": "12c5a117-96c3-469f-a79b-32f416c49773",
   "metadata": {
    "tags": []
   },
   "outputs": [
    {
     "data": {
      "text/plain": [
       "series_id    float64\n",
       "step         float64\n",
       "timestamp     object\n",
       "anglez       float32\n",
       "enmo         float32\n",
       "dtype: object"
      ]
     },
     "execution_count": 38,
     "metadata": {},
     "output_type": "execute_result"
    }
   ],
   "source": [
    "sleep_train.dtypes"
   ]
  },
  {
   "cell_type": "code",
   "execution_count": 39,
   "id": "21a02763-5f82-44bb-9f61-75f54146495d",
   "metadata": {
    "tags": []
   },
   "outputs": [
    {
     "data": {
      "text/html": [
       "<div>\n",
       "<style scoped>\n",
       "    .dataframe tbody tr th:only-of-type {\n",
       "        vertical-align: middle;\n",
       "    }\n",
       "\n",
       "    .dataframe tbody tr th {\n",
       "        vertical-align: top;\n",
       "    }\n",
       "\n",
       "    .dataframe thead th {\n",
       "        text-align: right;\n",
       "    }\n",
       "</style>\n",
       "<table border=\"1\" class=\"dataframe\">\n",
       "  <thead>\n",
       "    <tr style=\"text-align: right;\">\n",
       "      <th></th>\n",
       "      <th>series_id</th>\n",
       "      <th>step</th>\n",
       "      <th>timestamp</th>\n",
       "      <th>anglez</th>\n",
       "      <th>enmo</th>\n",
       "    </tr>\n",
       "  </thead>\n",
       "  <tbody>\n",
       "    <tr>\n",
       "      <th>0</th>\n",
       "      <td>0.0</td>\n",
       "      <td>0.0</td>\n",
       "      <td>2018-08-14T15:30:00-0400</td>\n",
       "      <td>2.6367</td>\n",
       "      <td>0.0217</td>\n",
       "    </tr>\n",
       "    <tr>\n",
       "      <th>1</th>\n",
       "      <td>0.0</td>\n",
       "      <td>1.0</td>\n",
       "      <td>2018-08-14T15:30:05-0400</td>\n",
       "      <td>2.6368</td>\n",
       "      <td>0.0215</td>\n",
       "    </tr>\n",
       "    <tr>\n",
       "      <th>2</th>\n",
       "      <td>0.0</td>\n",
       "      <td>2.0</td>\n",
       "      <td>2018-08-14T15:30:10-0400</td>\n",
       "      <td>2.6370</td>\n",
       "      <td>0.0216</td>\n",
       "    </tr>\n",
       "    <tr>\n",
       "      <th>3</th>\n",
       "      <td>0.0</td>\n",
       "      <td>3.0</td>\n",
       "      <td>2018-08-14T15:30:15-0400</td>\n",
       "      <td>2.6368</td>\n",
       "      <td>0.0213</td>\n",
       "    </tr>\n",
       "    <tr>\n",
       "      <th>4</th>\n",
       "      <td>0.0</td>\n",
       "      <td>4.0</td>\n",
       "      <td>2018-08-14T15:30:20-0400</td>\n",
       "      <td>2.6368</td>\n",
       "      <td>0.0215</td>\n",
       "    </tr>\n",
       "  </tbody>\n",
       "</table>\n",
       "</div>"
      ],
      "text/plain": [
       "   series_id  step                 timestamp  anglez    enmo\n",
       "0        0.0   0.0  2018-08-14T15:30:00-0400  2.6367  0.0217\n",
       "1        0.0   1.0  2018-08-14T15:30:05-0400  2.6368  0.0215\n",
       "2        0.0   2.0  2018-08-14T15:30:10-0400  2.6370  0.0216\n",
       "3        0.0   3.0  2018-08-14T15:30:15-0400  2.6368  0.0213\n",
       "4        0.0   4.0  2018-08-14T15:30:20-0400  2.6368  0.0215"
      ]
     },
     "execution_count": 39,
     "metadata": {},
     "output_type": "execute_result"
    }
   ],
   "source": [
    "sleep_train.head()"
   ]
  },
  {
   "cell_type": "code",
   "execution_count": 45,
   "id": "33c19e18-211b-4fba-8b6b-b8465c8f146b",
   "metadata": {
    "tags": []
   },
   "outputs": [
    {
     "data": {
      "text/plain": [
       "'2017-08-04T17:30:00-0400'"
      ]
     },
     "execution_count": 45,
     "metadata": {},
     "output_type": "execute_result"
    }
   ],
   "source": [
    "sleep_train.timestamp.min()"
   ]
  },
  {
   "cell_type": "code",
   "execution_count": 46,
   "id": "2b33eeb7-76f9-45a5-bb37-ec19b8f14873",
   "metadata": {
    "tags": []
   },
   "outputs": [
    {
     "data": {
      "text/plain": [
       "'2019-07-09T09:44:55-0400'"
      ]
     },
     "execution_count": 46,
     "metadata": {},
     "output_type": "execute_result"
    }
   ],
   "source": [
    "sleep_train.timestamp.max()"
   ]
  },
  {
   "cell_type": "markdown",
   "id": "d04b9dde-a6e7-400c-bbf2-e8b7be00a0b6",
   "metadata": {},
   "source": [
    "### Merge train dataset with labels and useful features"
   ]
  },
  {
   "cell_type": "code",
   "execution_count": 40,
   "id": "07a90962-6a87-4f25-a28c-b212f2a0dc13",
   "metadata": {},
   "outputs": [],
   "source": [
    "# merge useful information \n",
    "\n",
    "with parallel_backend(\"loky\", n_jobs = 200):\n",
    "    sleep_train_labeled = pd.merge(sleep_train, sleep_events, how = \"left\", on = [\"series_id\", \"step\"], sort = False)"
   ]
  },
  {
   "cell_type": "code",
   "execution_count": 41,
   "id": "47821f18-5c5f-4294-b843-b540bfb8f795",
   "metadata": {
    "tags": []
   },
   "outputs": [
    {
     "data": {
      "text/plain": [
       "(127946342, 8)"
      ]
     },
     "execution_count": 41,
     "metadata": {},
     "output_type": "execute_result"
    }
   ],
   "source": [
    "sleep_train_labeled.shape"
   ]
  },
  {
   "cell_type": "code",
   "execution_count": 42,
   "id": "874f23bf-8d2b-4ab9-b016-d33e170af1f2",
   "metadata": {
    "tags": []
   },
   "outputs": [
    {
     "data": {
      "text/html": [
       "<div>\n",
       "<style scoped>\n",
       "    .dataframe tbody tr th:only-of-type {\n",
       "        vertical-align: middle;\n",
       "    }\n",
       "\n",
       "    .dataframe tbody tr th {\n",
       "        vertical-align: top;\n",
       "    }\n",
       "\n",
       "    .dataframe thead th {\n",
       "        text-align: right;\n",
       "    }\n",
       "</style>\n",
       "<table border=\"1\" class=\"dataframe\">\n",
       "  <thead>\n",
       "    <tr style=\"text-align: right;\">\n",
       "      <th></th>\n",
       "      <th>series_id</th>\n",
       "      <th>step</th>\n",
       "      <th>timestamp_x</th>\n",
       "      <th>anglez</th>\n",
       "      <th>enmo</th>\n",
       "      <th>night</th>\n",
       "      <th>event</th>\n",
       "      <th>timestamp_y</th>\n",
       "    </tr>\n",
       "  </thead>\n",
       "  <tbody>\n",
       "    <tr>\n",
       "      <th>0</th>\n",
       "      <td>0.0</td>\n",
       "      <td>0.0</td>\n",
       "      <td>2018-08-14T15:30:00-0400</td>\n",
       "      <td>2.6367</td>\n",
       "      <td>0.0217</td>\n",
       "      <td>NaN</td>\n",
       "      <td>NaN</td>\n",
       "      <td>NaT</td>\n",
       "    </tr>\n",
       "    <tr>\n",
       "      <th>1</th>\n",
       "      <td>0.0</td>\n",
       "      <td>1.0</td>\n",
       "      <td>2018-08-14T15:30:05-0400</td>\n",
       "      <td>2.6368</td>\n",
       "      <td>0.0215</td>\n",
       "      <td>NaN</td>\n",
       "      <td>NaN</td>\n",
       "      <td>NaT</td>\n",
       "    </tr>\n",
       "    <tr>\n",
       "      <th>2</th>\n",
       "      <td>0.0</td>\n",
       "      <td>2.0</td>\n",
       "      <td>2018-08-14T15:30:10-0400</td>\n",
       "      <td>2.6370</td>\n",
       "      <td>0.0216</td>\n",
       "      <td>NaN</td>\n",
       "      <td>NaN</td>\n",
       "      <td>NaT</td>\n",
       "    </tr>\n",
       "    <tr>\n",
       "      <th>3</th>\n",
       "      <td>0.0</td>\n",
       "      <td>3.0</td>\n",
       "      <td>2018-08-14T15:30:15-0400</td>\n",
       "      <td>2.6368</td>\n",
       "      <td>0.0213</td>\n",
       "      <td>NaN</td>\n",
       "      <td>NaN</td>\n",
       "      <td>NaT</td>\n",
       "    </tr>\n",
       "    <tr>\n",
       "      <th>4</th>\n",
       "      <td>0.0</td>\n",
       "      <td>4.0</td>\n",
       "      <td>2018-08-14T15:30:20-0400</td>\n",
       "      <td>2.6368</td>\n",
       "      <td>0.0215</td>\n",
       "      <td>NaN</td>\n",
       "      <td>NaN</td>\n",
       "      <td>NaT</td>\n",
       "    </tr>\n",
       "  </tbody>\n",
       "</table>\n",
       "</div>"
      ],
      "text/plain": [
       "   series_id  step               timestamp_x  anglez    enmo  night  event  \\\n",
       "0        0.0   0.0  2018-08-14T15:30:00-0400  2.6367  0.0217    NaN    NaN   \n",
       "1        0.0   1.0  2018-08-14T15:30:05-0400  2.6368  0.0215    NaN    NaN   \n",
       "2        0.0   2.0  2018-08-14T15:30:10-0400  2.6370  0.0216    NaN    NaN   \n",
       "3        0.0   3.0  2018-08-14T15:30:15-0400  2.6368  0.0213    NaN    NaN   \n",
       "4        0.0   4.0  2018-08-14T15:30:20-0400  2.6368  0.0215    NaN    NaN   \n",
       "\n",
       "  timestamp_y  \n",
       "0         NaT  \n",
       "1         NaT  \n",
       "2         NaT  \n",
       "3         NaT  \n",
       "4         NaT  "
      ]
     },
     "execution_count": 42,
     "metadata": {},
     "output_type": "execute_result"
    }
   ],
   "source": [
    "sleep_train_labeled.head()"
   ]
  },
  {
   "cell_type": "code",
   "execution_count": 43,
   "id": "a7d83bcc-44df-47ef-b16d-318ca5e489fc",
   "metadata": {},
   "outputs": [
    {
     "name": "stdout",
     "output_type": "stream",
     "text": [
      "<class 'pandas.core.frame.DataFrame'>\n",
      "RangeIndex: 127946342 entries, 0 to 127946341\n",
      "Data columns (total 8 columns):\n",
      " #   Column       Dtype              \n",
      "---  ------       -----              \n",
      " 0   series_id    float64            \n",
      " 1   step         float64            \n",
      " 2   timestamp_x  object             \n",
      " 3   anglez       float32            \n",
      " 4   enmo         float32            \n",
      " 5   night        float64            \n",
      " 6   event        float64            \n",
      " 7   timestamp_y  datetime64[ns, UTC]\n",
      "dtypes: datetime64[ns, UTC](1), float32(2), float64(4), object(1)\n",
      "memory usage: 6.7+ GB\n"
     ]
    }
   ],
   "source": [
    "sleep_train_labeled.info()"
   ]
  },
  {
   "cell_type": "code",
   "execution_count": 44,
   "id": "b6973d5d-cf36-4121-b822-e414446737f9",
   "metadata": {
    "tags": []
   },
   "outputs": [
    {
     "data": {
      "text/plain": [
       "array([-1.,  0.,  1.])"
      ]
     },
     "execution_count": 44,
     "metadata": {},
     "output_type": "execute_result"
    }
   ],
   "source": [
    "sleep_train_labeled[\"event\"] = sleep_train_labeled.event.fillna(-1)\n",
    "\n",
    "sleep_train_labeled.event.unique()"
   ]
  },
  {
   "cell_type": "markdown",
   "id": "3d2c9fe0-373a-4995-a0b4-a560a1336713",
   "metadata": {},
   "source": [
    "### Undersampling with shuffle = False"
   ]
  },
  {
   "cell_type": "code",
   "execution_count": 113,
   "id": "d7a19e35-427b-4912-86af-1584aef4973f",
   "metadata": {
    "tags": []
   },
   "outputs": [
    {
     "data": {
      "text/plain": [
       "event\n",
       "-1.0    127935631\n",
       " 1.0         5356\n",
       " 0.0         5355\n",
       "Name: count, dtype: int64"
      ]
     },
     "execution_count": 113,
     "metadata": {},
     "output_type": "execute_result"
    }
   ],
   "source": [
    "#count the classes\n",
    "\n",
    "class_counts = sleep_train_lab.value_counts()\n",
    "class_counts"
   ]
  },
  {
   "cell_type": "code",
   "execution_count": 114,
   "id": "426a590e-e803-47dd-a465-88b0ad9db7fc",
   "metadata": {
    "tags": []
   },
   "outputs": [
    {
     "data": {
      "text/plain": [
       "5355"
      ]
     },
     "execution_count": 114,
     "metadata": {},
     "output_type": "execute_result"
    }
   ],
   "source": [
    "# find the minimum class counts\n",
    "\n",
    "min_class_count = class_counts.min()\n",
    "min_class_count"
   ]
  },
  {
   "cell_type": "code",
   "execution_count": 115,
   "id": "43f9937c-faac-43b9-924c-7dd6a013944a",
   "metadata": {
    "tags": []
   },
   "outputs": [
    {
     "data": {
      "text/html": [
       "<div>\n",
       "<style scoped>\n",
       "    .dataframe tbody tr th:only-of-type {\n",
       "        vertical-align: middle;\n",
       "    }\n",
       "\n",
       "    .dataframe tbody tr th {\n",
       "        vertical-align: top;\n",
       "    }\n",
       "\n",
       "    .dataframe thead th {\n",
       "        text-align: right;\n",
       "    }\n",
       "</style>\n",
       "<table border=\"1\" class=\"dataframe\">\n",
       "  <thead>\n",
       "    <tr style=\"text-align: right;\">\n",
       "      <th></th>\n",
       "      <th>series_id</th>\n",
       "      <th>step</th>\n",
       "      <th>timestamp_x</th>\n",
       "      <th>anglez</th>\n",
       "      <th>enmo</th>\n",
       "      <th>night</th>\n",
       "      <th>event</th>\n",
       "      <th>timestamp_y</th>\n",
       "    </tr>\n",
       "  </thead>\n",
       "  <tbody>\n",
       "    <tr>\n",
       "      <th>0</th>\n",
       "      <td>0.0</td>\n",
       "      <td>0.0</td>\n",
       "      <td>2018-08-14T15:30:00-0400</td>\n",
       "      <td>2.6367</td>\n",
       "      <td>0.0217</td>\n",
       "      <td>NaN</td>\n",
       "      <td>-1.0</td>\n",
       "      <td>NaT</td>\n",
       "    </tr>\n",
       "    <tr>\n",
       "      <th>1</th>\n",
       "      <td>0.0</td>\n",
       "      <td>1.0</td>\n",
       "      <td>2018-08-14T15:30:05-0400</td>\n",
       "      <td>2.6368</td>\n",
       "      <td>0.0215</td>\n",
       "      <td>NaN</td>\n",
       "      <td>-1.0</td>\n",
       "      <td>NaT</td>\n",
       "    </tr>\n",
       "    <tr>\n",
       "      <th>2</th>\n",
       "      <td>0.0</td>\n",
       "      <td>2.0</td>\n",
       "      <td>2018-08-14T15:30:10-0400</td>\n",
       "      <td>2.6370</td>\n",
       "      <td>0.0216</td>\n",
       "      <td>NaN</td>\n",
       "      <td>-1.0</td>\n",
       "      <td>NaT</td>\n",
       "    </tr>\n",
       "    <tr>\n",
       "      <th>3</th>\n",
       "      <td>0.0</td>\n",
       "      <td>3.0</td>\n",
       "      <td>2018-08-14T15:30:15-0400</td>\n",
       "      <td>2.6368</td>\n",
       "      <td>0.0213</td>\n",
       "      <td>NaN</td>\n",
       "      <td>-1.0</td>\n",
       "      <td>NaT</td>\n",
       "    </tr>\n",
       "    <tr>\n",
       "      <th>4</th>\n",
       "      <td>0.0</td>\n",
       "      <td>4.0</td>\n",
       "      <td>2018-08-14T15:30:20-0400</td>\n",
       "      <td>2.6368</td>\n",
       "      <td>0.0215</td>\n",
       "      <td>NaN</td>\n",
       "      <td>-1.0</td>\n",
       "      <td>NaT</td>\n",
       "    </tr>\n",
       "  </tbody>\n",
       "</table>\n",
       "</div>"
      ],
      "text/plain": [
       "   series_id  step               timestamp_x  anglez    enmo  night  event  \\\n",
       "0        0.0   0.0  2018-08-14T15:30:00-0400  2.6367  0.0217    NaN   -1.0   \n",
       "1        0.0   1.0  2018-08-14T15:30:05-0400  2.6368  0.0215    NaN   -1.0   \n",
       "2        0.0   2.0  2018-08-14T15:30:10-0400  2.6370  0.0216    NaN   -1.0   \n",
       "3        0.0   3.0  2018-08-14T15:30:15-0400  2.6368  0.0213    NaN   -1.0   \n",
       "4        0.0   4.0  2018-08-14T15:30:20-0400  2.6368  0.0215    NaN   -1.0   \n",
       "\n",
       "  timestamp_y  \n",
       "0         NaT  \n",
       "1         NaT  \n",
       "2         NaT  \n",
       "3         NaT  \n",
       "4         NaT  "
      ]
     },
     "execution_count": 115,
     "metadata": {},
     "output_type": "execute_result"
    }
   ],
   "source": [
    "# Resample each class to have an equal number of samples without shuffling\n",
    "\n",
    "sleep_train_resampled = sleep_train_labeled.groupby(\"event\", group_keys = False).apply(lambda x: x.head(min_class_count))\n",
    "sleep_train_resampled.head()"
   ]
  },
  {
   "cell_type": "code",
   "execution_count": 116,
   "id": "11970904-02c4-420e-ae59-8216b86d6741",
   "metadata": {
    "tags": []
   },
   "outputs": [
    {
     "data": {
      "text/plain": [
       "event\n",
       "-1.0    5355\n",
       " 0.0    5355\n",
       " 1.0    5355\n",
       "Name: count, dtype: int64"
      ]
     },
     "execution_count": 116,
     "metadata": {},
     "output_type": "execute_result"
    }
   ],
   "source": [
    "sleep_train_resampled.event.value_counts()"
   ]
  },
  {
   "cell_type": "code",
   "execution_count": 117,
   "id": "6ae8c57c-f550-489b-ab28-3c56c2585700",
   "metadata": {
    "tags": []
   },
   "outputs": [],
   "source": [
    "sleep_train_att_resample = sleep_train_resampled.drop(columns = \"event\")"
   ]
  },
  {
   "cell_type": "code",
   "execution_count": 118,
   "id": "08a12271-7350-417e-9f4a-bed6b8289d1c",
   "metadata": {
    "tags": []
   },
   "outputs": [
    {
     "data": {
      "text/plain": [
       "(16065, 7)"
      ]
     },
     "execution_count": 118,
     "metadata": {},
     "output_type": "execute_result"
    }
   ],
   "source": [
    "sleep_train_att_resample.shape"
   ]
  },
  {
   "cell_type": "code",
   "execution_count": 119,
   "id": "487d91f4-bd9f-4954-b6a3-d6a7d88b9f7d",
   "metadata": {
    "tags": []
   },
   "outputs": [],
   "source": [
    "sleep_train_lab_resample = sleep_train_resampled.event"
   ]
  },
  {
   "cell_type": "markdown",
   "id": "1aac811e-6fb7-4b23-8eed-b414b500269b",
   "metadata": {},
   "source": [
    "### Feature engeneering"
   ]
  },
  {
   "cell_type": "code",
   "execution_count": 120,
   "id": "ff062497-f4c2-43fd-9fef-d2b4eb4f7cdd",
   "metadata": {},
   "outputs": [],
   "source": [
    "sleep_train_att_resample[\"timestamp_x\"] = sleep_train_att_resample.timestamp_x.astype(\"datetime64[ns, UTC]\")"
   ]
  },
  {
   "cell_type": "code",
   "execution_count": 121,
   "id": "7ee316d5-59ed-49d6-873a-6ee19c3a22d0",
   "metadata": {
    "tags": []
   },
   "outputs": [
    {
     "data": {
      "text/plain": [
       "series_id                  float64\n",
       "step                       float64\n",
       "timestamp_x    datetime64[ns, UTC]\n",
       "anglez                     float32\n",
       "enmo                       float32\n",
       "night                      float64\n",
       "timestamp_y    datetime64[ns, UTC]\n",
       "dtype: object"
      ]
     },
     "execution_count": 121,
     "metadata": {},
     "output_type": "execute_result"
    }
   ],
   "source": [
    "sleep_train_att_resample.dtypes"
   ]
  },
  {
   "cell_type": "code",
   "execution_count": 122,
   "id": "a4ba13a8-2de4-415d-8e63-69dbc28ac7a5",
   "metadata": {
    "tags": []
   },
   "outputs": [
    {
     "data": {
      "text/html": [
       "<div>\n",
       "<style scoped>\n",
       "    .dataframe tbody tr th:only-of-type {\n",
       "        vertical-align: middle;\n",
       "    }\n",
       "\n",
       "    .dataframe tbody tr th {\n",
       "        vertical-align: top;\n",
       "    }\n",
       "\n",
       "    .dataframe thead th {\n",
       "        text-align: right;\n",
       "    }\n",
       "</style>\n",
       "<table border=\"1\" class=\"dataframe\">\n",
       "  <thead>\n",
       "    <tr style=\"text-align: right;\">\n",
       "      <th></th>\n",
       "      <th>series_id</th>\n",
       "      <th>step</th>\n",
       "      <th>anglez</th>\n",
       "      <th>enmo</th>\n",
       "      <th>night</th>\n",
       "      <th>timestamp</th>\n",
       "    </tr>\n",
       "  </thead>\n",
       "  <tbody>\n",
       "    <tr>\n",
       "      <th>0</th>\n",
       "      <td>0.0</td>\n",
       "      <td>0.0</td>\n",
       "      <td>2.6367</td>\n",
       "      <td>0.0217</td>\n",
       "      <td>NaN</td>\n",
       "      <td>2018-08-14 19:30:00+00:00</td>\n",
       "    </tr>\n",
       "    <tr>\n",
       "      <th>1</th>\n",
       "      <td>0.0</td>\n",
       "      <td>1.0</td>\n",
       "      <td>2.6368</td>\n",
       "      <td>0.0215</td>\n",
       "      <td>NaN</td>\n",
       "      <td>2018-08-14 19:30:05+00:00</td>\n",
       "    </tr>\n",
       "    <tr>\n",
       "      <th>2</th>\n",
       "      <td>0.0</td>\n",
       "      <td>2.0</td>\n",
       "      <td>2.6370</td>\n",
       "      <td>0.0216</td>\n",
       "      <td>NaN</td>\n",
       "      <td>2018-08-14 19:30:10+00:00</td>\n",
       "    </tr>\n",
       "    <tr>\n",
       "      <th>3</th>\n",
       "      <td>0.0</td>\n",
       "      <td>3.0</td>\n",
       "      <td>2.6368</td>\n",
       "      <td>0.0213</td>\n",
       "      <td>NaN</td>\n",
       "      <td>2018-08-14 19:30:15+00:00</td>\n",
       "    </tr>\n",
       "    <tr>\n",
       "      <th>4</th>\n",
       "      <td>0.0</td>\n",
       "      <td>4.0</td>\n",
       "      <td>2.6368</td>\n",
       "      <td>0.0215</td>\n",
       "      <td>NaN</td>\n",
       "      <td>2018-08-14 19:30:20+00:00</td>\n",
       "    </tr>\n",
       "  </tbody>\n",
       "</table>\n",
       "</div>"
      ],
      "text/plain": [
       "   series_id  step  anglez    enmo  night                 timestamp\n",
       "0        0.0   0.0  2.6367  0.0217    NaN 2018-08-14 19:30:00+00:00\n",
       "1        0.0   1.0  2.6368  0.0215    NaN 2018-08-14 19:30:05+00:00\n",
       "2        0.0   2.0  2.6370  0.0216    NaN 2018-08-14 19:30:10+00:00\n",
       "3        0.0   3.0  2.6368  0.0213    NaN 2018-08-14 19:30:15+00:00\n",
       "4        0.0   4.0  2.6368  0.0215    NaN 2018-08-14 19:30:20+00:00"
      ]
     },
     "execution_count": 122,
     "metadata": {},
     "output_type": "execute_result"
    }
   ],
   "source": [
    "# Merge two columns timestamp in one\n",
    "\n",
    "sleep_train_att_resample[\"timestamp\"] = sleep_train_att_resample.timestamp_y.fillna(sleep_train_att_resample.timestamp_x)\n",
    "sleep_train_att_resample = sleep_train_att_resample.drop(columns = [\"timestamp_x\", \"timestamp_y\"])\n",
    "sleep_train_att_resample.head()"
   ]
  },
  {
   "cell_type": "markdown",
   "id": "98ba4115-f60c-413d-90c7-307305867514",
   "metadata": {},
   "source": [
    "#### Add higher order features"
   ]
  },
  {
   "cell_type": "code",
   "execution_count": 123,
   "id": "9f4c4a1c-843e-4a1c-a466-d87617cf1c36",
   "metadata": {},
   "outputs": [],
   "source": [
    "# Add columns date and hour\n",
    "\n",
    "sleep_train_att_resample[\"date\"] = sleep_train_att_resample.timestamp.dt.date\n",
    "sleep_train_att_resample[\"hour\"] = sleep_train_att_resample.timestamp.dt.hour"
   ]
  },
  {
   "cell_type": "code",
   "execution_count": 124,
   "id": "9761fe9c-0fda-4eaf-bbc9-565d547dfe6e",
   "metadata": {},
   "outputs": [
    {
     "data": {
      "text/html": [
       "<div>\n",
       "<style scoped>\n",
       "    .dataframe tbody tr th:only-of-type {\n",
       "        vertical-align: middle;\n",
       "    }\n",
       "\n",
       "    .dataframe tbody tr th {\n",
       "        vertical-align: top;\n",
       "    }\n",
       "\n",
       "    .dataframe thead th {\n",
       "        text-align: right;\n",
       "    }\n",
       "</style>\n",
       "<table border=\"1\" class=\"dataframe\">\n",
       "  <thead>\n",
       "    <tr style=\"text-align: right;\">\n",
       "      <th></th>\n",
       "      <th>series_id</th>\n",
       "      <th>step</th>\n",
       "      <th>anglez</th>\n",
       "      <th>enmo</th>\n",
       "      <th>night</th>\n",
       "      <th>timestamp</th>\n",
       "      <th>date</th>\n",
       "      <th>hour</th>\n",
       "      <th>step_diff</th>\n",
       "      <th>hour_diff</th>\n",
       "    </tr>\n",
       "  </thead>\n",
       "  <tbody>\n",
       "    <tr>\n",
       "      <th>0</th>\n",
       "      <td>0.0</td>\n",
       "      <td>0.0</td>\n",
       "      <td>2.6367</td>\n",
       "      <td>0.0217</td>\n",
       "      <td>NaN</td>\n",
       "      <td>2018-08-14 19:30:00+00:00</td>\n",
       "      <td>2018-08-14</td>\n",
       "      <td>19</td>\n",
       "      <td>NaN</td>\n",
       "      <td>NaN</td>\n",
       "    </tr>\n",
       "    <tr>\n",
       "      <th>1</th>\n",
       "      <td>0.0</td>\n",
       "      <td>1.0</td>\n",
       "      <td>2.6368</td>\n",
       "      <td>0.0215</td>\n",
       "      <td>NaN</td>\n",
       "      <td>2018-08-14 19:30:05+00:00</td>\n",
       "      <td>2018-08-14</td>\n",
       "      <td>19</td>\n",
       "      <td>1.0</td>\n",
       "      <td>0.0</td>\n",
       "    </tr>\n",
       "    <tr>\n",
       "      <th>2</th>\n",
       "      <td>0.0</td>\n",
       "      <td>2.0</td>\n",
       "      <td>2.6370</td>\n",
       "      <td>0.0216</td>\n",
       "      <td>NaN</td>\n",
       "      <td>2018-08-14 19:30:10+00:00</td>\n",
       "      <td>2018-08-14</td>\n",
       "      <td>19</td>\n",
       "      <td>1.0</td>\n",
       "      <td>0.0</td>\n",
       "    </tr>\n",
       "    <tr>\n",
       "      <th>3</th>\n",
       "      <td>0.0</td>\n",
       "      <td>3.0</td>\n",
       "      <td>2.6368</td>\n",
       "      <td>0.0213</td>\n",
       "      <td>NaN</td>\n",
       "      <td>2018-08-14 19:30:15+00:00</td>\n",
       "      <td>2018-08-14</td>\n",
       "      <td>19</td>\n",
       "      <td>1.0</td>\n",
       "      <td>0.0</td>\n",
       "    </tr>\n",
       "    <tr>\n",
       "      <th>4</th>\n",
       "      <td>0.0</td>\n",
       "      <td>4.0</td>\n",
       "      <td>2.6368</td>\n",
       "      <td>0.0215</td>\n",
       "      <td>NaN</td>\n",
       "      <td>2018-08-14 19:30:20+00:00</td>\n",
       "      <td>2018-08-14</td>\n",
       "      <td>19</td>\n",
       "      <td>1.0</td>\n",
       "      <td>0.0</td>\n",
       "    </tr>\n",
       "  </tbody>\n",
       "</table>\n",
       "</div>"
      ],
      "text/plain": [
       "   series_id  step  anglez    enmo  night                 timestamp  \\\n",
       "0        0.0   0.0  2.6367  0.0217    NaN 2018-08-14 19:30:00+00:00   \n",
       "1        0.0   1.0  2.6368  0.0215    NaN 2018-08-14 19:30:05+00:00   \n",
       "2        0.0   2.0  2.6370  0.0216    NaN 2018-08-14 19:30:10+00:00   \n",
       "3        0.0   3.0  2.6368  0.0213    NaN 2018-08-14 19:30:15+00:00   \n",
       "4        0.0   4.0  2.6368  0.0215    NaN 2018-08-14 19:30:20+00:00   \n",
       "\n",
       "         date  hour  step_diff  hour_diff  \n",
       "0  2018-08-14    19        NaN        NaN  \n",
       "1  2018-08-14    19        1.0        0.0  \n",
       "2  2018-08-14    19        1.0        0.0  \n",
       "3  2018-08-14    19        1.0        0.0  \n",
       "4  2018-08-14    19        1.0        0.0  "
      ]
     },
     "execution_count": 124,
     "metadata": {},
     "output_type": "execute_result"
    }
   ],
   "source": [
    "# add time delta and step delta between events\n",
    "\n",
    "sleep_train_att_resample[\"step_diff\"] = sleep_train_att_resample.groupby(\"series_id\")[\"step\"].diff()\n",
    "sleep_train_att_resample[\"hour_diff\"] = sleep_train_att_resample.groupby(\"series_id\")[\"hour\"].diff()\n",
    "sleep_train_att_resample.head()"
   ]
  },
  {
   "cell_type": "code",
   "execution_count": 125,
   "id": "38c1ea6d-9971-4acb-876c-60bd296cb3a1",
   "metadata": {},
   "outputs": [],
   "source": [
    "# working out the 24 hours substraction\n",
    "\n",
    "hour_diff = [hour_diff + 24 if hour_diff < 0 else hour_diff for hour_diff in sleep_train_att_resample.hour_diff]\n",
    "sleep_train_att_resample.hour_diff = hour_diff"
   ]
  },
  {
   "cell_type": "code",
   "execution_count": 126,
   "id": "b63f5e52-ff9b-4536-9490-7dcf74b48b3b",
   "metadata": {},
   "outputs": [
    {
     "data": {
      "text/html": [
       "<div>\n",
       "<style scoped>\n",
       "    .dataframe tbody tr th:only-of-type {\n",
       "        vertical-align: middle;\n",
       "    }\n",
       "\n",
       "    .dataframe tbody tr th {\n",
       "        vertical-align: top;\n",
       "    }\n",
       "\n",
       "    .dataframe thead th {\n",
       "        text-align: right;\n",
       "    }\n",
       "</style>\n",
       "<table border=\"1\" class=\"dataframe\">\n",
       "  <thead>\n",
       "    <tr style=\"text-align: right;\">\n",
       "      <th></th>\n",
       "      <th>series_id</th>\n",
       "      <th>step</th>\n",
       "      <th>anglez</th>\n",
       "      <th>enmo</th>\n",
       "      <th>night</th>\n",
       "      <th>timestamp</th>\n",
       "      <th>date</th>\n",
       "      <th>hour</th>\n",
       "      <th>step_diff</th>\n",
       "      <th>hour_diff</th>\n",
       "    </tr>\n",
       "  </thead>\n",
       "  <tbody>\n",
       "    <tr>\n",
       "      <th>0</th>\n",
       "      <td>0.0</td>\n",
       "      <td>0.0</td>\n",
       "      <td>2.6367</td>\n",
       "      <td>0.0217</td>\n",
       "      <td>0.0</td>\n",
       "      <td>2018-08-14 19:30:00+00:00</td>\n",
       "      <td>2018-08-14</td>\n",
       "      <td>19</td>\n",
       "      <td>0.0</td>\n",
       "      <td>0.0</td>\n",
       "    </tr>\n",
       "    <tr>\n",
       "      <th>1</th>\n",
       "      <td>0.0</td>\n",
       "      <td>1.0</td>\n",
       "      <td>2.6368</td>\n",
       "      <td>0.0215</td>\n",
       "      <td>0.0</td>\n",
       "      <td>2018-08-14 19:30:05+00:00</td>\n",
       "      <td>2018-08-14</td>\n",
       "      <td>19</td>\n",
       "      <td>1.0</td>\n",
       "      <td>0.0</td>\n",
       "    </tr>\n",
       "    <tr>\n",
       "      <th>2</th>\n",
       "      <td>0.0</td>\n",
       "      <td>2.0</td>\n",
       "      <td>2.6370</td>\n",
       "      <td>0.0216</td>\n",
       "      <td>0.0</td>\n",
       "      <td>2018-08-14 19:30:10+00:00</td>\n",
       "      <td>2018-08-14</td>\n",
       "      <td>19</td>\n",
       "      <td>1.0</td>\n",
       "      <td>0.0</td>\n",
       "    </tr>\n",
       "    <tr>\n",
       "      <th>3</th>\n",
       "      <td>0.0</td>\n",
       "      <td>3.0</td>\n",
       "      <td>2.6368</td>\n",
       "      <td>0.0213</td>\n",
       "      <td>0.0</td>\n",
       "      <td>2018-08-14 19:30:15+00:00</td>\n",
       "      <td>2018-08-14</td>\n",
       "      <td>19</td>\n",
       "      <td>1.0</td>\n",
       "      <td>0.0</td>\n",
       "    </tr>\n",
       "    <tr>\n",
       "      <th>4</th>\n",
       "      <td>0.0</td>\n",
       "      <td>4.0</td>\n",
       "      <td>2.6368</td>\n",
       "      <td>0.0215</td>\n",
       "      <td>0.0</td>\n",
       "      <td>2018-08-14 19:30:20+00:00</td>\n",
       "      <td>2018-08-14</td>\n",
       "      <td>19</td>\n",
       "      <td>1.0</td>\n",
       "      <td>0.0</td>\n",
       "    </tr>\n",
       "  </tbody>\n",
       "</table>\n",
       "</div>"
      ],
      "text/plain": [
       "   series_id  step  anglez    enmo  night                 timestamp  \\\n",
       "0        0.0   0.0  2.6367  0.0217    0.0 2018-08-14 19:30:00+00:00   \n",
       "1        0.0   1.0  2.6368  0.0215    0.0 2018-08-14 19:30:05+00:00   \n",
       "2        0.0   2.0  2.6370  0.0216    0.0 2018-08-14 19:30:10+00:00   \n",
       "3        0.0   3.0  2.6368  0.0213    0.0 2018-08-14 19:30:15+00:00   \n",
       "4        0.0   4.0  2.6368  0.0215    0.0 2018-08-14 19:30:20+00:00   \n",
       "\n",
       "         date  hour  step_diff  hour_diff  \n",
       "0  2018-08-14    19        0.0        0.0  \n",
       "1  2018-08-14    19        1.0        0.0  \n",
       "2  2018-08-14    19        1.0        0.0  \n",
       "3  2018-08-14    19        1.0        0.0  \n",
       "4  2018-08-14    19        1.0        0.0  "
      ]
     },
     "execution_count": 126,
     "metadata": {},
     "output_type": "execute_result"
    }
   ],
   "source": [
    "# I need to fill na\n",
    "\n",
    "sleep_train_att_resample = sleep_train_att_resample.fillna(0)\n",
    "sleep_train_att_resample.head()"
   ]
  },
  {
   "cell_type": "code",
   "execution_count": 127,
   "id": "d1f64be0-dff5-448e-95cd-671f666dd438",
   "metadata": {},
   "outputs": [],
   "source": [
    "# \"series_id\" and \"night\" consist of high entropy, not a useful feature for the model\n",
    "\n",
    "sleep_train_att_resample = sleep_train_att_resample.drop(columns = [\"series_id\", \"night\"])"
   ]
  },
  {
   "cell_type": "code",
   "execution_count": 128,
   "id": "41b0995e-ae34-43c9-80a3-d45e4b6cc4d6",
   "metadata": {
    "tags": []
   },
   "outputs": [
    {
     "data": {
      "text/plain": [
       "step                     float64\n",
       "anglez                   float32\n",
       "enmo                     float32\n",
       "timestamp    datetime64[ns, UTC]\n",
       "date                      object\n",
       "hour                       int32\n",
       "step_diff                float64\n",
       "hour_diff                float64\n",
       "dtype: object"
      ]
     },
     "execution_count": 128,
     "metadata": {},
     "output_type": "execute_result"
    }
   ],
   "source": [
    "sleep_train_att_resample.dtypes"
   ]
  },
  {
   "cell_type": "code",
   "execution_count": 129,
   "id": "3bd43324-fb36-4b0c-bf81-fc94119f032c",
   "metadata": {
    "tags": []
   },
   "outputs": [],
   "source": [
    "# change type ot column \"date\"\n",
    "\n",
    "sleep_train_att_resample[\"date\"] = pd.to_datetime(sleep_train_att_resample[\"date\"])"
   ]
  },
  {
   "cell_type": "code",
   "execution_count": 130,
   "id": "b9a9ac4e-b860-47e8-8df8-2adecebdf754",
   "metadata": {
    "tags": []
   },
   "outputs": [
    {
     "data": {
      "text/plain": [
       "step                     float64\n",
       "anglez                   float32\n",
       "enmo                     float32\n",
       "timestamp    datetime64[ns, UTC]\n",
       "date              datetime64[ns]\n",
       "hour                       int32\n",
       "step_diff                float64\n",
       "hour_diff                float64\n",
       "dtype: object"
      ]
     },
     "execution_count": 130,
     "metadata": {},
     "output_type": "execute_result"
    }
   ],
   "source": [
    "sleep_train_att_resample.dtypes"
   ]
  },
  {
   "cell_type": "markdown",
   "id": "81be7dbf-e40d-4642-aa9d-cfbb89d61cf9",
   "metadata": {
    "tags": []
   },
   "source": [
    "#### check variables \"anglez\" and \"enmo\" distributions"
   ]
  },
  {
   "cell_type": "code",
   "execution_count": 131,
   "id": "39791650-1225-4de3-8611-b8eab519b46c",
   "metadata": {
    "tags": []
   },
   "outputs": [],
   "source": [
    "def show_distr(dataset, column, num_bins):\n",
    "\n",
    "    plt.hist(dataset[column], alpha = 0.7)\n",
    "    \n",
    "    plt.semilogy()\n",
    "    plt.xlabel(\"Value\")\n",
    "    plt.ylabel(\"Counts\")\n",
    "    plt.title(column)\n",
    "    plt.show()"
   ]
  },
  {
   "cell_type": "code",
   "execution_count": 132,
   "id": "8819792d-d905-4555-a0f4-3968509ee896",
   "metadata": {
    "tags": []
   },
   "outputs": [
    {
     "data": {
      "image/png": "[encoded data removed]",
      "text/plain": [
       "<Figure size 640x480 with 1 Axes>"
      ]
     },
     "metadata": {},
     "output_type": "display_data"
    }
   ],
   "source": [
    "show_distr(sleep_train_att_resample, \"anglez\", \"fd\")"
   ]
  },
  {
   "cell_type": "code",
   "execution_count": 133,
   "id": "b773bd7f-3714-4f7c-8483-a5b2f46b88a5",
   "metadata": {
    "tags": []
   },
   "outputs": [],
   "source": [
    "min_anglez, max_anglez = sleep_train_att_resample.anglez.min(), sleep_train_att_resample.anglez.max()"
   ]
  },
  {
   "cell_type": "code",
   "execution_count": 134,
   "id": "88a0f0c1-5c66-4826-ab62-ca96cc61f028",
   "metadata": {
    "tags": []
   },
   "outputs": [
    {
     "data": {
      "text/plain": [
       "(-89.77680206298828, 89.7654037475586)"
      ]
     },
     "execution_count": 134,
     "metadata": {},
     "output_type": "execute_result"
    }
   ],
   "source": [
    "min_anglez, max_anglez"
   ]
  },
  {
   "cell_type": "markdown",
   "id": "6cc256ec-5ead-43a9-83cd-144e676c6ed7",
   "metadata": {},
   "source": [
    "Anglez feature is with Gaussian distribution, so we will use standart scaling for its values."
   ]
  },
  {
   "cell_type": "code",
   "execution_count": 135,
   "id": "19912a44-7fe7-4f7f-8e66-e9708d75b09d",
   "metadata": {
    "tags": []
   },
   "outputs": [
    {
     "data": {
      "image/png": "[encoded data removed]",
      "text/plain": [
       "<Figure size 640x480 with 1 Axes>"
      ]
     },
     "metadata": {},
     "output_type": "display_data"
    }
   ],
   "source": [
    "show_distr(sleep_train_att_resample, \"enmo\", \"fd\")"
   ]
  },
  {
   "cell_type": "code",
   "execution_count": 136,
   "id": "1b1753c4-6908-4f86-a01b-11e7a8f436d0",
   "metadata": {
    "tags": []
   },
   "outputs": [],
   "source": [
    "min_enmo, max_enmo = sleep_train_att_resample.enmo.min(), sleep_train_att_resample.enmo.max()"
   ]
  },
  {
   "cell_type": "code",
   "execution_count": 137,
   "id": "f0bbe108-9565-4b88-bc17-b7ec9123e744",
   "metadata": {
    "tags": []
   },
   "outputs": [
    {
     "data": {
      "text/plain": [
       "(0.0, 1.2232999801635742)"
      ]
     },
     "execution_count": 137,
     "metadata": {},
     "output_type": "execute_result"
    }
   ],
   "source": [
    "min_enmo, max_enmo"
   ]
  },
  {
   "cell_type": "markdown",
   "id": "bbda421e-e807-4a4d-a118-4263144dca2e",
   "metadata": {},
   "source": [
    "Enmo feature is with Exponential distribution, so we will use MinMax scaling for its values."
   ]
  },
  {
   "cell_type": "markdown",
   "id": "19d2d3a6-2a2a-4715-ab39-4dfff709141a",
   "metadata": {},
   "source": [
    "### Features Engeneering\n",
    "#### Scaling the data"
   ]
  },
  {
   "cell_type": "markdown",
   "id": "faec69ba-07f6-40f1-95c8-20c0c1a717ce",
   "metadata": {},
   "source": [
    "##### anglez with StandardScaler"
   ]
  },
  {
   "cell_type": "code",
   "execution_count": 138,
   "id": "1bca42bb-898d-45ab-a34d-e63c434fa733",
   "metadata": {},
   "outputs": [],
   "source": [
    "std_scaler = StandardScaler()"
   ]
  },
  {
   "cell_type": "code",
   "execution_count": 139,
   "id": "ef39fc13-9772-4ad9-9e23-36ab99775e18",
   "metadata": {
    "tags": []
   },
   "outputs": [],
   "source": [
    "anglez = np.array(sleep_train_att_resample.anglez).reshape(-1, 1)"
   ]
  },
  {
   "cell_type": "code",
   "execution_count": 140,
   "id": "1e2c362c-5d60-4ca0-8374-f535ea6ebe1b",
   "metadata": {
    "tags": []
   },
   "outputs": [
    {
     "data": {
      "text/html": [
       "<style>#sk-container-id-2 {color: black;}#sk-container-id-2 pre{padding: 0;}#sk-container-id-2 div.sk-toggleable {background-color: white;}#sk-container-id-2 label.sk-toggleable__label {cursor: pointer;display: block;width: 100%;margin-bottom: 0;padding: 0.3em;box-sizing: border-box;text-align: center;}#sk-container-id-2 label.sk-toggleable__label-arrow:before {content: \"▸\";float: left;margin-right: 0.25em;color: #696969;}#sk-container-id-2 label.sk-toggleable__label-arrow:hover:before {color: black;}#sk-container-id-2 div.sk-estimator:hover label.sk-toggleable__label-arrow:before {color: black;}#sk-container-id-2 div.sk-toggleable__content {max-height: 0;max-width: 0;overflow: hidden;text-align: left;background-color: #f0f8ff;}#sk-container-id-2 div.sk-toggleable__content pre {margin: 0.2em;color: black;border-radius: 0.25em;background-color: #f0f8ff;}#sk-container-id-2 input.sk-toggleable__control:checked~div.sk-toggleable__content {max-height: 200px;max-width: 100%;overflow: auto;}#sk-container-id-2 input.sk-toggleable__control:checked~label.sk-toggleable__label-arrow:before {content: \"▾\";}#sk-container-id-2 div.sk-estimator input.sk-toggleable__control:checked~label.sk-toggleable__label {background-color: #d4ebff;}#sk-container-id-2 div.sk-label input.sk-toggleable__control:checked~label.sk-toggleable__label {background-color: #d4ebff;}#sk-container-id-2 input.sk-hidden--visually {border: 0;clip: rect(1px 1px 1px 1px);clip: rect(1px, 1px, 1px, 1px);height: 1px;margin: -1px;overflow: hidden;padding: 0;position: absolute;width: 1px;}#sk-container-id-2 div.sk-estimator {font-family: monospace;background-color: #f0f8ff;border: 1px dotted black;border-radius: 0.25em;box-sizing: border-box;margin-bottom: 0.5em;}#sk-container-id-2 div.sk-estimator:hover {background-color: #d4ebff;}#sk-container-id-2 div.sk-parallel-item::after {content: \"\";width: 100%;border-bottom: 1px solid gray;flex-grow: 1;}#sk-container-id-2 div.sk-label:hover label.sk-toggleable__label {background-color: #d4ebff;}#sk-container-id-2 div.sk-serial::before {content: \"\";position: absolute;border-left: 1px solid gray;box-sizing: border-box;top: 0;bottom: 0;left: 50%;z-index: 0;}#sk-container-id-2 div.sk-serial {display: flex;flex-direction: column;align-items: center;background-color: white;padding-right: 0.2em;padding-left: 0.2em;position: relative;}#sk-container-id-2 div.sk-item {position: relative;z-index: 1;}#sk-container-id-2 div.sk-parallel {display: flex;align-items: stretch;justify-content: center;background-color: white;position: relative;}#sk-container-id-2 div.sk-item::before, #sk-container-id-2 div.sk-parallel-item::before {content: \"\";position: absolute;border-left: 1px solid gray;box-sizing: border-box;top: 0;bottom: 0;left: 50%;z-index: -1;}#sk-container-id-2 div.sk-parallel-item {display: flex;flex-direction: column;z-index: 1;position: relative;background-color: white;}#sk-container-id-2 div.sk-parallel-item:first-child::after {align-self: flex-end;width: 50%;}#sk-container-id-2 div.sk-parallel-item:last-child::after {align-self: flex-start;width: 50%;}#sk-container-id-2 div.sk-parallel-item:only-child::after {width: 0;}#sk-container-id-2 div.sk-dashed-wrapped {border: 1px dashed gray;margin: 0 0.4em 0.5em 0.4em;box-sizing: border-box;padding-bottom: 0.4em;background-color: white;}#sk-container-id-2 div.sk-label label {font-family: monospace;font-weight: bold;display: inline-block;line-height: 1.2em;}#sk-container-id-2 div.sk-label-container {text-align: center;}#sk-container-id-2 div.sk-container {/* jupyter's `normalize.less` sets `[hidden] { display: none; }` but bootstrap.min.css set `[hidden] { display: none !important; }` so we also need the `!important` here to be able to override the default hidden behavior on the sphinx rendered scikit-learn.org. See: https://github.com/scikit-learn/scikit-learn/issues/21755 */display: inline-block !important;position: relative;}#sk-container-id-2 div.sk-text-repr-fallback {display: none;}</style><div id=\"sk-container-id-2\" class=\"sk-top-container\"><div class=\"sk-text-repr-fallback\"><pre>StandardScaler()</pre><b>In a Jupyter environment, please rerun this cell to show the HTML representation or trust the notebook. <br />On GitHub, the HTML representation is unable to render, please try loading this page with nbviewer.org.</b></div><div class=\"sk-container\" hidden><div class=\"sk-item\"><div class=\"sk-estimator sk-toggleable\"><input class=\"sk-toggleable__control sk-hidden--visually\" id=\"sk-estimator-id-2\" type=\"checkbox\" checked><label for=\"sk-estimator-id-2\" class=\"sk-toggleable__label sk-toggleable__label-arrow\">StandardScaler</label><div class=\"sk-toggleable__content\"><pre>StandardScaler()</pre></div></div></div></div></div>"
      ],
      "text/plain": [
       "StandardScaler()"
      ]
     },
     "execution_count": 140,
     "metadata": {},
     "output_type": "execute_result"
    }
   ],
   "source": [
    "std_scaler.fit(anglez)"
   ]
  },
  {
   "cell_type": "code",
   "execution_count": 141,
   "id": "04105f86-b69f-47e5-8258-ca9464c937a8",
   "metadata": {
    "tags": []
   },
   "outputs": [],
   "source": [
    "anglez = std_scaler.transform(anglez)"
   ]
  },
  {
   "cell_type": "code",
   "execution_count": 142,
   "id": "2eb6e699-19e5-4ca6-bf30-65bd6da6285f",
   "metadata": {
    "tags": []
   },
   "outputs": [
    {
     "data": {
      "text/plain": [
       "(-1.6881027, 2.2659771, 3.7992627e-09, 1.0)"
      ]
     },
     "execution_count": 142,
     "metadata": {},
     "output_type": "execute_result"
    }
   ],
   "source": [
    "anglez.min(), anglez.max(), anglez.mean(), anglez.std()"
   ]
  },
  {
   "cell_type": "markdown",
   "id": "5c591364-3d93-4214-9035-f4f1c440021f",
   "metadata": {},
   "source": [
    "##### all others with MinMaxScaler"
   ]
  },
  {
   "cell_type": "code",
   "execution_count": 143,
   "id": "7376b46f-5e48-4db6-a9ef-124e62ba30a6",
   "metadata": {},
   "outputs": [],
   "source": [
    "mm_scaler = MinMaxScaler()"
   ]
  },
  {
   "cell_type": "code",
   "execution_count": 144,
   "id": "c29b6694-db10-4d36-bf19-c1904cf16ed1",
   "metadata": {},
   "outputs": [],
   "source": [
    "mm_features = np.array(sleep_train_att_resample.drop(columns = [\"anglez\", \"timestamp\", \"date\"]))"
   ]
  },
  {
   "cell_type": "code",
   "execution_count": 145,
   "id": "e02a1d56-8f90-4364-bcef-852c706ac5a2",
   "metadata": {},
   "outputs": [
    {
     "data": {
      "text/html": [
       "<style>#sk-container-id-3 {color: black;}#sk-container-id-3 pre{padding: 0;}#sk-container-id-3 div.sk-toggleable {background-color: white;}#sk-container-id-3 label.sk-toggleable__label {cursor: pointer;display: block;width: 100%;margin-bottom: 0;padding: 0.3em;box-sizing: border-box;text-align: center;}#sk-container-id-3 label.sk-toggleable__label-arrow:before {content: \"▸\";float: left;margin-right: 0.25em;color: #696969;}#sk-container-id-3 label.sk-toggleable__label-arrow:hover:before {color: black;}#sk-container-id-3 div.sk-estimator:hover label.sk-toggleable__label-arrow:before {color: black;}#sk-container-id-3 div.sk-toggleable__content {max-height: 0;max-width: 0;overflow: hidden;text-align: left;background-color: #f0f8ff;}#sk-container-id-3 div.sk-toggleable__content pre {margin: 0.2em;color: black;border-radius: 0.25em;background-color: #f0f8ff;}#sk-container-id-3 input.sk-toggleable__control:checked~div.sk-toggleable__content {max-height: 200px;max-width: 100%;overflow: auto;}#sk-container-id-3 input.sk-toggleable__control:checked~label.sk-toggleable__label-arrow:before {content: \"▾\";}#sk-container-id-3 div.sk-estimator input.sk-toggleable__control:checked~label.sk-toggleable__label {background-color: #d4ebff;}#sk-container-id-3 div.sk-label input.sk-toggleable__control:checked~label.sk-toggleable__label {background-color: #d4ebff;}#sk-container-id-3 input.sk-hidden--visually {border: 0;clip: rect(1px 1px 1px 1px);clip: rect(1px, 1px, 1px, 1px);height: 1px;margin: -1px;overflow: hidden;padding: 0;position: absolute;width: 1px;}#sk-container-id-3 div.sk-estimator {font-family: monospace;background-color: #f0f8ff;border: 1px dotted black;border-radius: 0.25em;box-sizing: border-box;margin-bottom: 0.5em;}#sk-container-id-3 div.sk-estimator:hover {background-color: #d4ebff;}#sk-container-id-3 div.sk-parallel-item::after {content: \"\";width: 100%;border-bottom: 1px solid gray;flex-grow: 1;}#sk-container-id-3 div.sk-label:hover label.sk-toggleable__label {background-color: #d4ebff;}#sk-container-id-3 div.sk-serial::before {content: \"\";position: absolute;border-left: 1px solid gray;box-sizing: border-box;top: 0;bottom: 0;left: 50%;z-index: 0;}#sk-container-id-3 div.sk-serial {display: flex;flex-direction: column;align-items: center;background-color: white;padding-right: 0.2em;padding-left: 0.2em;position: relative;}#sk-container-id-3 div.sk-item {position: relative;z-index: 1;}#sk-container-id-3 div.sk-parallel {display: flex;align-items: stretch;justify-content: center;background-color: white;position: relative;}#sk-container-id-3 div.sk-item::before, #sk-container-id-3 div.sk-parallel-item::before {content: \"\";position: absolute;border-left: 1px solid gray;box-sizing: border-box;top: 0;bottom: 0;left: 50%;z-index: -1;}#sk-container-id-3 div.sk-parallel-item {display: flex;flex-direction: column;z-index: 1;position: relative;background-color: white;}#sk-container-id-3 div.sk-parallel-item:first-child::after {align-self: flex-end;width: 50%;}#sk-container-id-3 div.sk-parallel-item:last-child::after {align-self: flex-start;width: 50%;}#sk-container-id-3 div.sk-parallel-item:only-child::after {width: 0;}#sk-container-id-3 div.sk-dashed-wrapped {border: 1px dashed gray;margin: 0 0.4em 0.5em 0.4em;box-sizing: border-box;padding-bottom: 0.4em;background-color: white;}#sk-container-id-3 div.sk-label label {font-family: monospace;font-weight: bold;display: inline-block;line-height: 1.2em;}#sk-container-id-3 div.sk-label-container {text-align: center;}#sk-container-id-3 div.sk-container {/* jupyter's `normalize.less` sets `[hidden] { display: none; }` but bootstrap.min.css set `[hidden] { display: none !important; }` so we also need the `!important` here to be able to override the default hidden behavior on the sphinx rendered scikit-learn.org. See: https://github.com/scikit-learn/scikit-learn/issues/21755 */display: inline-block !important;position: relative;}#sk-container-id-3 div.sk-text-repr-fallback {display: none;}</style><div id=\"sk-container-id-3\" class=\"sk-top-container\"><div class=\"sk-text-repr-fallback\"><pre>MinMaxScaler()</pre><b>In a Jupyter environment, please rerun this cell to show the HTML representation or trust the notebook. <br />On GitHub, the HTML representation is unable to render, please try loading this page with nbviewer.org.</b></div><div class=\"sk-container\" hidden><div class=\"sk-item\"><div class=\"sk-estimator sk-toggleable\"><input class=\"sk-toggleable__control sk-hidden--visually\" id=\"sk-estimator-id-3\" type=\"checkbox\" checked><label for=\"sk-estimator-id-3\" class=\"sk-toggleable__label sk-toggleable__label-arrow\">MinMaxScaler</label><div class=\"sk-toggleable__content\"><pre>MinMaxScaler()</pre></div></div></div></div></div>"
      ],
      "text/plain": [
       "MinMaxScaler()"
      ]
     },
     "execution_count": 145,
     "metadata": {},
     "output_type": "execute_result"
    }
   ],
   "source": [
    "mm_scaler.fit(mm_features)"
   ]
  },
  {
   "cell_type": "code",
   "execution_count": 146,
   "id": "8ce1787a-a5b4-4a23-8c13-602d0fd3e046",
   "metadata": {
    "tags": []
   },
   "outputs": [],
   "source": [
    "mm_features = mm_scaler.transform(mm_features)"
   ]
  },
  {
   "cell_type": "code",
   "execution_count": 147,
   "id": "60b69b7e-c81d-4c76-8643-c57af7369152",
   "metadata": {
    "tags": []
   },
   "outputs": [],
   "source": [
    "col_names = [\"step\", \"enmo\", \"hour\", \"step_diff\", \"hour_diff\"]"
   ]
  },
  {
   "cell_type": "code",
   "execution_count": 148,
   "id": "47475d4d-7fc2-41e7-a981-f6f872eb773c",
   "metadata": {
    "tags": []
   },
   "outputs": [],
   "source": [
    "sleep_train_att_resample = pd.DataFrame(mm_features)"
   ]
  },
  {
   "cell_type": "code",
   "execution_count": 149,
   "id": "ee572d7a-78d5-4a1d-951f-fdd680e5e0f4",
   "metadata": {
    "tags": []
   },
   "outputs": [],
   "source": [
    "sleep_train_att_resample.columns = col_names"
   ]
  },
  {
   "cell_type": "code",
   "execution_count": 150,
   "id": "32c3a9a8-2dd9-48e4-af65-d84ef3547850",
   "metadata": {
    "tags": []
   },
   "outputs": [],
   "source": [
    "sleep_train_att_resample[\"anglez\"] = anglez"
   ]
  },
  {
   "cell_type": "code",
   "execution_count": 151,
   "id": "0d4a764c-3d4a-4831-b20b-f2310bb5cc23",
   "metadata": {
    "tags": []
   },
   "outputs": [
    {
     "data": {
      "text/html": [
       "<div>\n",
       "<style scoped>\n",
       "    .dataframe tbody tr th:only-of-type {\n",
       "        vertical-align: middle;\n",
       "    }\n",
       "\n",
       "    .dataframe tbody tr th {\n",
       "        vertical-align: top;\n",
       "    }\n",
       "\n",
       "    .dataframe thead th {\n",
       "        text-align: right;\n",
       "    }\n",
       "</style>\n",
       "<table border=\"1\" class=\"dataframe\">\n",
       "  <thead>\n",
       "    <tr style=\"text-align: right;\">\n",
       "      <th></th>\n",
       "      <th>step</th>\n",
       "      <th>enmo</th>\n",
       "      <th>hour</th>\n",
       "      <th>step_diff</th>\n",
       "      <th>hour_diff</th>\n",
       "      <th>anglez</th>\n",
       "    </tr>\n",
       "  </thead>\n",
       "  <tbody>\n",
       "    <tr>\n",
       "      <th>0</th>\n",
       "      <td>0.000000</td>\n",
       "      <td>0.017739</td>\n",
       "      <td>0.826087</td>\n",
       "      <td>0.735031</td>\n",
       "      <td>0.0</td>\n",
       "      <td>0.347131</td>\n",
       "    </tr>\n",
       "    <tr>\n",
       "      <th>1</th>\n",
       "      <td>0.000001</td>\n",
       "      <td>0.017575</td>\n",
       "      <td>0.826087</td>\n",
       "      <td>0.735032</td>\n",
       "      <td>0.0</td>\n",
       "      <td>0.347133</td>\n",
       "    </tr>\n",
       "    <tr>\n",
       "      <th>2</th>\n",
       "      <td>0.000003</td>\n",
       "      <td>0.017657</td>\n",
       "      <td>0.826087</td>\n",
       "      <td>0.735032</td>\n",
       "      <td>0.0</td>\n",
       "      <td>0.347138</td>\n",
       "    </tr>\n",
       "    <tr>\n",
       "      <th>3</th>\n",
       "      <td>0.000004</td>\n",
       "      <td>0.017412</td>\n",
       "      <td>0.826087</td>\n",
       "      <td>0.735032</td>\n",
       "      <td>0.0</td>\n",
       "      <td>0.347133</td>\n",
       "    </tr>\n",
       "    <tr>\n",
       "      <th>4</th>\n",
       "      <td>0.000005</td>\n",
       "      <td>0.017575</td>\n",
       "      <td>0.826087</td>\n",
       "      <td>0.735032</td>\n",
       "      <td>0.0</td>\n",
       "      <td>0.347133</td>\n",
       "    </tr>\n",
       "  </tbody>\n",
       "</table>\n",
       "</div>"
      ],
      "text/plain": [
       "       step      enmo      hour  step_diff  hour_diff    anglez\n",
       "0  0.000000  0.017739  0.826087   0.735031        0.0  0.347131\n",
       "1  0.000001  0.017575  0.826087   0.735032        0.0  0.347133\n",
       "2  0.000003  0.017657  0.826087   0.735032        0.0  0.347138\n",
       "3  0.000004  0.017412  0.826087   0.735032        0.0  0.347133\n",
       "4  0.000005  0.017575  0.826087   0.735032        0.0  0.347133"
      ]
     },
     "execution_count": 151,
     "metadata": {},
     "output_type": "execute_result"
    }
   ],
   "source": [
    "sleep_train_att_resample.head()"
   ]
  },
  {
   "cell_type": "code",
   "execution_count": 152,
   "id": "3b4fc402-1932-4be1-8139-947889c01748",
   "metadata": {
    "tags": []
   },
   "outputs": [
    {
     "data": {
      "text/plain": [
       "(16065, 6)"
      ]
     },
     "execution_count": 152,
     "metadata": {},
     "output_type": "execute_result"
    }
   ],
   "source": [
    "sleep_train_att_resample.shape"
   ]
  },
  {
   "cell_type": "markdown",
   "id": "2a7716b6-e565-42d9-86ae-8c2d580d6b7b",
   "metadata": {},
   "source": [
    "### Train and test split"
   ]
  },
  {
   "cell_type": "code",
   "execution_count": 229,
   "id": "f8f1f656-7cca-48c3-9760-0cbe207f3415",
   "metadata": {
    "tags": []
   },
   "outputs": [],
   "source": [
    "sleep_attributes, sleep_labels = sleep_train_att_resample, sleep_train_lab_resample"
   ]
  },
  {
   "cell_type": "code",
   "execution_count": 230,
   "id": "9fb31abe-53f1-4190-8ecd-9fabe97466d0",
   "metadata": {},
   "outputs": [],
   "source": [
    "sleep_attributes_train, sleep_attributes_test, sleep_labels_train, sleep_labels_test = train_test_split(sleep_attributes, sleep_labels, test_size = 0.2, random_state = 11)"
   ]
  },
  {
   "cell_type": "markdown",
   "id": "cc4718ab-28e0-4917-8e7d-5462162b2dbe",
   "metadata": {},
   "source": [
    "### Pickle object serialization"
   ]
  },
  {
   "cell_type": "markdown",
   "id": "0f2ce98f-7ece-4488-88af-8b41177f8d9a",
   "metadata": {},
   "source": [
    "#### save the train and test datasets with serialization"
   ]
  },
  {
   "cell_type": "code",
   "execution_count": 233,
   "id": "5de8b799-4976-481b-baad-9bf322688e30",
   "metadata": {
    "tags": []
   },
   "outputs": [
    {
     "data": {
      "text/plain": [
       "<function BufferedWriter.close>"
      ]
     },
     "execution_count": 233,
     "metadata": {},
     "output_type": "execute_result"
    }
   ],
   "source": [
    "# with open(\"sleep_attributes_train.pkl\", \"wb\") as f:   # open a pkl file\n",
    "#     pickle.dump(sleep_attributes_train, f)            # serialize the trainset\n",
    "# f.close"
   ]
  },
  {
   "cell_type": "code",
   "execution_count": 234,
   "id": "5febf670-4d16-4e06-a4d2-09bf0ac9b67a",
   "metadata": {
    "tags": []
   },
   "outputs": [
    {
     "data": {
      "text/plain": [
       "<function BufferedWriter.close>"
      ]
     },
     "execution_count": 234,
     "metadata": {},
     "output_type": "execute_result"
    }
   ],
   "source": [
    "# with open(\"sleep_attributes_test.pkl\", \"wb\") as f:   # open a pkl file\n",
    "#     pickle.dump(sleep_attributes_test, f)            # serialize the trainset\n",
    "# f.close"
   ]
  },
  {
   "cell_type": "code",
   "execution_count": 235,
   "id": "69c80a77-37dc-4910-85da-5189eb88ad30",
   "metadata": {
    "tags": []
   },
   "outputs": [
    {
     "data": {
      "text/plain": [
       "<function BufferedWriter.close>"
      ]
     },
     "execution_count": 235,
     "metadata": {},
     "output_type": "execute_result"
    }
   ],
   "source": [
    "# with open(\"sleep_labels_train.pkl\", \"wb\") as f:   # open a pkl file\n",
    "#     pickle.dump(sleep_labels_train, f)            # serialize the testset\n",
    "# f.close"
   ]
  },
  {
   "cell_type": "code",
   "execution_count": 236,
   "id": "8f00af50-ac04-4a08-b6fe-adca90b12079",
   "metadata": {
    "tags": []
   },
   "outputs": [
    {
     "data": {
      "text/plain": [
       "<function BufferedWriter.close>"
      ]
     },
     "execution_count": 236,
     "metadata": {},
     "output_type": "execute_result"
    }
   ],
   "source": [
    "# with open(\"sleep_labels_test.pkl\", \"wb\") as f:   # open a pkl file\n",
    "#     pickle.dump(sleep_labels_test, f)            # serialize the testset\n",
    "# f.close"
   ]
  },
  {
   "cell_type": "markdown",
   "id": "d9dadf45-c449-47eb-b8df-d8d85dbdbc93",
   "metadata": {},
   "source": [
    "#### deserialize objects"
   ]
  },
  {
   "cell_type": "code",
   "execution_count": 3,
   "id": "63b7dcbc-d2f7-42a3-984e-c791af3e976b",
   "metadata": {
    "tags": []
   },
   "outputs": [
    {
     "name": "stdout",
     "output_type": "stream",
     "text": [
      "\n"
     ]
    }
   ],
   "source": [
    "# with open(\"sleep_attributes_train.pkl\", \"rb\") as f:\n",
    "#     sleep_attributes_train = pickle.load(f)\n",
    "#     print()"
   ]
  },
  {
   "cell_type": "code",
   "execution_count": 5,
   "id": "6386eca0-650a-42c3-98ef-300c00a81625",
   "metadata": {
    "tags": []
   },
   "outputs": [
    {
     "name": "stdout",
     "output_type": "stream",
     "text": [
      "\n"
     ]
    }
   ],
   "source": [
    "# with open(\"sleep_labels_train.pkl\", \"rb\") as f:\n",
    "#     sleep_labels_train = pickle.load(f)\n",
    "#     print()"
   ]
  },
  {
   "cell_type": "code",
   "execution_count": 6,
   "id": "b5272c19-8073-44bf-b7df-2170d44589ed",
   "metadata": {
    "tags": []
   },
   "outputs": [
    {
     "name": "stdout",
     "output_type": "stream",
     "text": [
      "\n"
     ]
    }
   ],
   "source": [
    "# deserialize the file and print it\n",
    "\n",
    "# with open(\"sleep_attributes_test.pkl\", \"rb\") as f:\n",
    "#     sleep_attributes_test = pickle.load(f)\n",
    "#     print()"
   ]
  },
  {
   "cell_type": "code",
   "execution_count": 7,
   "id": "3791ead1-e0b1-4d6b-980a-58aad053fc2b",
   "metadata": {
    "tags": []
   },
   "outputs": [
    {
     "name": "stdout",
     "output_type": "stream",
     "text": [
      "\n"
     ]
    }
   ],
   "source": [
    "# deserialize the file and print it\n",
    "\n",
    "# with open(\"sleep_labels_test.pkl\", \"rb\") as f:\n",
    "#     sleep_labels_test = pickle.load(f)\n",
    "#     print()"
   ]
  },
  {
   "cell_type": "markdown",
   "id": "ba66e7d6-d340-4cf3-b975-854cb1ecf7fd",
   "metadata": {},
   "source": [
    "### mlflow"
   ]
  },
  {
   "cell_type": "code",
   "execution_count": null,
   "id": "34170b7d-4d9f-44f2-a167-b60e5b4b2270",
   "metadata": {
    "tags": []
   },
   "outputs": [],
   "source": [
    "# experiment = mlflow.create_experiment(name = \"P1_v3\")"
   ]
  },
  {
   "cell_type": "code",
   "execution_count": 56,
   "id": "17558a7f-6c75-4cf6-8e0f-9f73cc0a6ba3",
   "metadata": {
    "tags": []
   },
   "outputs": [
    {
     "data": {
      "text/plain": [
       "<ActiveRun: >"
      ]
     },
     "execution_count": 56,
     "metadata": {},
     "output_type": "execute_result"
    }
   ],
   "source": [
    "# mlflow.start_run()"
   ]
  },
  {
   "cell_type": "code",
   "execution_count": 238,
   "id": "9d87c3a8-3517-481e-9532-60986743af27",
   "metadata": {
    "tags": []
   },
   "outputs": [],
   "source": [
    "# mlflow.log_artifact(\"P1_v3_serialized_objects/sleep_attributes_train.pkl\")"
   ]
  },
  {
   "cell_type": "code",
   "execution_count": 239,
   "id": "6bc34899-1af0-45c4-bfd0-607acf517514",
   "metadata": {
    "tags": []
   },
   "outputs": [],
   "source": [
    "# mlflow.log_artifact(\"P1_v3_serialized_objects/sleep_attributes_test.pkl\")"
   ]
  },
  {
   "cell_type": "code",
   "execution_count": 240,
   "id": "31efdb6a-201b-4a28-86b2-150a90c32e00",
   "metadata": {
    "tags": []
   },
   "outputs": [],
   "source": [
    "# mlflow.log_artifact(\"P1_v3_serialized_objects/sleep_labels_train.pkl\")"
   ]
  },
  {
   "cell_type": "code",
   "execution_count": 241,
   "id": "7d8f8e9e-88db-4ab7-b2dd-867717b114aa",
   "metadata": {
    "tags": []
   },
   "outputs": [],
   "source": [
    "# mlflow.log_artifact(\"P1_v3_serialized_objects/sleep_labels_test.pkl\")"
   ]
  },
  {
   "cell_type": "code",
   "execution_count": 248,
   "id": "05776990-0f07-42f6-a5b1-33d5f9e82ce2",
   "metadata": {
    "tags": []
   },
   "outputs": [
    {
     "data": {
      "text/plain": [
       "0.2"
      ]
     },
     "execution_count": 248,
     "metadata": {},
     "output_type": "execute_result"
    }
   ],
   "source": [
    "# mlflow.log_param(\"test_size\", 0.2)"
   ]
  },
  {
   "cell_type": "code",
   "execution_count": 249,
   "id": "b59cc059-9f1d-4ad4-a451-de347104e712",
   "metadata": {
    "tags": []
   },
   "outputs": [
    {
     "data": {
      "text/plain": [
       "False"
      ]
     },
     "execution_count": 249,
     "metadata": {},
     "output_type": "execute_result"
    }
   ],
   "source": [
    "# mlflow.log_param(\"shuffle_times\", False)"
   ]
  },
  {
   "cell_type": "code",
   "execution_count": 65,
   "id": "1ae2d103-2cf3-41f3-8d87-f396813fa24c",
   "metadata": {
    "tags": []
   },
   "outputs": [],
   "source": [
    "# mlflow.end_run()"
   ]
  },
  {
   "cell_type": "markdown",
   "id": "9cecd31d-4a78-4891-a908-f8c95be3cf23",
   "metadata": {},
   "source": [
    "### Algorithm"
   ]
  },
  {
   "cell_type": "markdown",
   "id": "ece1dd8e-0fbe-4cbd-b578-552fe766a5c4",
   "metadata": {},
   "source": [
    "### SVMs \n",
    "for 3 classes the alg trains three algorithms separately\n",
    "\n",
    "3*(3-1)/2 = 6/2 = 3"
   ]
  },
  {
   "cell_type": "raw",
   "id": "1c6d5744-11dc-41c0-81a5-1c0d1f991955",
   "metadata": {
    "tags": []
   },
   "source": [
    "High complexity: {m*n_2}\n",
    "m - features\n",
    "n - observations"
   ]
  },
  {
   "cell_type": "markdown",
   "id": "4bdf0e38-3ea5-423a-92e0-a4bd1a3d5ee1",
   "metadata": {},
   "source": [
    "#### Nu SVM rbf"
   ]
  },
  {
   "cell_type": "code",
   "execution_count": 48,
   "id": "90130466-26f3-456d-b3e6-a7d077991c8a",
   "metadata": {},
   "outputs": [],
   "source": [
    "nu_svm = NuSVC(kernel = \"rbf\", gamma = \"scale\", nu = 0.28, random_state = 11, probability = True)"
   ]
  },
  {
   "cell_type": "code",
   "execution_count": 64,
   "id": "dd4f4a54-8513-4b0b-b279-a4f342b34b22",
   "metadata": {
    "tags": []
   },
   "outputs": [
    {
     "data": {
      "text/plain": [
       "6359"
      ]
     },
     "execution_count": 64,
     "metadata": {},
     "output_type": "execute_result"
    }
   ],
   "source": [
    "# mlflow.log_param(\"support vectors\", 6359)"
   ]
  },
  {
   "cell_type": "code",
   "execution_count": 49,
   "id": "74a84dc7-7355-4443-bfec-8a2146a89647",
   "metadata": {},
   "outputs": [
    {
     "data": {
      "text/html": [
       "<style>#sk-container-id-3 {color: black;}#sk-container-id-3 pre{padding: 0;}#sk-container-id-3 div.sk-toggleable {background-color: white;}#sk-container-id-3 label.sk-toggleable__label {cursor: pointer;display: block;width: 100%;margin-bottom: 0;padding: 0.3em;box-sizing: border-box;text-align: center;}#sk-container-id-3 label.sk-toggleable__label-arrow:before {content: \"▸\";float: left;margin-right: 0.25em;color: #696969;}#sk-container-id-3 label.sk-toggleable__label-arrow:hover:before {color: black;}#sk-container-id-3 div.sk-estimator:hover label.sk-toggleable__label-arrow:before {color: black;}#sk-container-id-3 div.sk-toggleable__content {max-height: 0;max-width: 0;overflow: hidden;text-align: left;background-color: #f0f8ff;}#sk-container-id-3 div.sk-toggleable__content pre {margin: 0.2em;color: black;border-radius: 0.25em;background-color: #f0f8ff;}#sk-container-id-3 input.sk-toggleable__control:checked~div.sk-toggleable__content {max-height: 200px;max-width: 100%;overflow: auto;}#sk-container-id-3 input.sk-toggleable__control:checked~label.sk-toggleable__label-arrow:before {content: \"▾\";}#sk-container-id-3 div.sk-estimator input.sk-toggleable__control:checked~label.sk-toggleable__label {background-color: #d4ebff;}#sk-container-id-3 div.sk-label input.sk-toggleable__control:checked~label.sk-toggleable__label {background-color: #d4ebff;}#sk-container-id-3 input.sk-hidden--visually {border: 0;clip: rect(1px 1px 1px 1px);clip: rect(1px, 1px, 1px, 1px);height: 1px;margin: -1px;overflow: hidden;padding: 0;position: absolute;width: 1px;}#sk-container-id-3 div.sk-estimator {font-family: monospace;background-color: #f0f8ff;border: 1px dotted black;border-radius: 0.25em;box-sizing: border-box;margin-bottom: 0.5em;}#sk-container-id-3 div.sk-estimator:hover {background-color: #d4ebff;}#sk-container-id-3 div.sk-parallel-item::after {content: \"\";width: 100%;border-bottom: 1px solid gray;flex-grow: 1;}#sk-container-id-3 div.sk-label:hover label.sk-toggleable__label {background-color: #d4ebff;}#sk-container-id-3 div.sk-serial::before {content: \"\";position: absolute;border-left: 1px solid gray;box-sizing: border-box;top: 0;bottom: 0;left: 50%;z-index: 0;}#sk-container-id-3 div.sk-serial {display: flex;flex-direction: column;align-items: center;background-color: white;padding-right: 0.2em;padding-left: 0.2em;position: relative;}#sk-container-id-3 div.sk-item {position: relative;z-index: 1;}#sk-container-id-3 div.sk-parallel {display: flex;align-items: stretch;justify-content: center;background-color: white;position: relative;}#sk-container-id-3 div.sk-item::before, #sk-container-id-3 div.sk-parallel-item::before {content: \"\";position: absolute;border-left: 1px solid gray;box-sizing: border-box;top: 0;bottom: 0;left: 50%;z-index: -1;}#sk-container-id-3 div.sk-parallel-item {display: flex;flex-direction: column;z-index: 1;position: relative;background-color: white;}#sk-container-id-3 div.sk-parallel-item:first-child::after {align-self: flex-end;width: 50%;}#sk-container-id-3 div.sk-parallel-item:last-child::after {align-self: flex-start;width: 50%;}#sk-container-id-3 div.sk-parallel-item:only-child::after {width: 0;}#sk-container-id-3 div.sk-dashed-wrapped {border: 1px dashed gray;margin: 0 0.4em 0.5em 0.4em;box-sizing: border-box;padding-bottom: 0.4em;background-color: white;}#sk-container-id-3 div.sk-label label {font-family: monospace;font-weight: bold;display: inline-block;line-height: 1.2em;}#sk-container-id-3 div.sk-label-container {text-align: center;}#sk-container-id-3 div.sk-container {/* jupyter's `normalize.less` sets `[hidden] { display: none; }` but bootstrap.min.css set `[hidden] { display: none !important; }` so we also need the `!important` here to be able to override the default hidden behavior on the sphinx rendered scikit-learn.org. See: https://github.com/scikit-learn/scikit-learn/issues/21755 */display: inline-block !important;position: relative;}#sk-container-id-3 div.sk-text-repr-fallback {display: none;}</style><div id=\"sk-container-id-3\" class=\"sk-top-container\"><div class=\"sk-text-repr-fallback\"><pre>NuSVC(nu=0.28, probability=True, random_state=11)</pre><b>In a Jupyter environment, please rerun this cell to show the HTML representation or trust the notebook. <br />On GitHub, the HTML representation is unable to render, please try loading this page with nbviewer.org.</b></div><div class=\"sk-container\" hidden><div class=\"sk-item\"><div class=\"sk-estimator sk-toggleable\"><input class=\"sk-toggleable__control sk-hidden--visually\" id=\"sk-estimator-id-3\" type=\"checkbox\" checked><label for=\"sk-estimator-id-3\" class=\"sk-toggleable__label sk-toggleable__label-arrow\">NuSVC</label><div class=\"sk-toggleable__content\"><pre>NuSVC(nu=0.28, probability=True, random_state=11)</pre></div></div></div></div></div>"
      ],
      "text/plain": [
       "NuSVC(nu=0.28, probability=True, random_state=11)"
      ]
     },
     "execution_count": 49,
     "metadata": {},
     "output_type": "execute_result"
    }
   ],
   "source": [
    "nu_svm.fit(sleep_attributes_train, sleep_labels_train)"
   ]
  },
  {
   "cell_type": "code",
   "execution_count": 50,
   "id": "a6bf4933-59aa-40fd-83bf-c2e237159f62",
   "metadata": {
    "tags": []
   },
   "outputs": [],
   "source": [
    "predictions = nu_svm.predict(sleep_attributes_test)"
   ]
  },
  {
   "cell_type": "code",
   "execution_count": 51,
   "id": "c35fe7d6-ac41-4244-bf80-90b31781a90b",
   "metadata": {
    "tags": []
   },
   "outputs": [],
   "source": [
    "predictions_proba = nu_svm.predict_proba(sleep_attributes_test)"
   ]
  },
  {
   "cell_type": "markdown",
   "id": "14a1d7f4-08a6-4285-bf22-00aad573c512",
   "metadata": {},
   "source": [
    "#### Evaluation metrics"
   ]
  },
  {
   "cell_type": "code",
   "execution_count": 52,
   "id": "79a5679b-ff67-4aba-97bc-dc0404154ec0",
   "metadata": {
    "tags": []
   },
   "outputs": [
    {
     "data": {
      "text/plain": [
       "0.921724245253657"
      ]
     },
     "execution_count": 52,
     "metadata": {},
     "output_type": "execute_result"
    }
   ],
   "source": [
    "nu_svm.score(sleep_attributes_train, sleep_labels_train)"
   ]
  },
  {
   "cell_type": "code",
   "execution_count": 250,
   "id": "5e8d1be8-6975-443b-aede-ff83045c7264",
   "metadata": {
    "tags": []
   },
   "outputs": [],
   "source": [
    "# mlflow.log_metric(\"trainset score\", 0.8564425770308123)"
   ]
  },
  {
   "cell_type": "code",
   "execution_count": 53,
   "id": "247c0c3b-f3a7-4b45-9928-d04085251715",
   "metadata": {
    "tags": []
   },
   "outputs": [
    {
     "data": {
      "text/plain": [
       "0.9299719887955182"
      ]
     },
     "execution_count": 53,
     "metadata": {},
     "output_type": "execute_result"
    }
   ],
   "source": [
    "nu_svm.score(sleep_attributes_test, sleep_labels_test)"
   ]
  },
  {
   "cell_type": "code",
   "execution_count": 253,
   "id": "b580b2f3-42b5-4c3b-b1a2-cf1a24181f64",
   "metadata": {
    "tags": []
   },
   "outputs": [],
   "source": [
    "# mlflow.log_metric(\"testset score\", 0.8633675692499222)"
   ]
  },
  {
   "cell_type": "code",
   "execution_count": 44,
   "id": "8b1399f5-fc2c-4065-90a1-940eaafe1a65",
   "metadata": {
    "tags": []
   },
   "outputs": [
    {
     "data": {
      "text/plain": [
       "6359"
      ]
     },
     "execution_count": 44,
     "metadata": {},
     "output_type": "execute_result"
    }
   ],
   "source": [
    "len(nu_svm.support_vectors_)"
   ]
  },
  {
   "cell_type": "code",
   "execution_count": 45,
   "id": "df5f4b23-e6e3-40fc-8209-5aebb5a20e1a",
   "metadata": {
    "tags": []
   },
   "outputs": [
    {
     "data": {
      "text/plain": [
       "array([0.80094885, 1.81321149, 0.86873577])"
      ]
     },
     "execution_count": 45,
     "metadata": {},
     "output_type": "execute_result"
    }
   ],
   "source": [
    "nu_svm.intercept_"
   ]
  },
  {
   "cell_type": "code",
   "execution_count": 46,
   "id": "205ba726-d874-4f30-833d-038885f70db0",
   "metadata": {},
   "outputs": [],
   "source": [
    "#Think if this brings any point?\n",
    "\n",
    "MSE = mean_squared_error(sleep_labels_test, predictions)"
   ]
  },
  {
   "cell_type": "code",
   "execution_count": 47,
   "id": "d379cdcc-ea9c-4556-9f57-fe7c7b29cd40",
   "metadata": {
    "tags": []
   },
   "outputs": [
    {
     "data": {
      "text/plain": [
       "0.3019801853905368"
      ]
     },
     "execution_count": 47,
     "metadata": {},
     "output_type": "execute_result"
    }
   ],
   "source": [
    "np.sqrt(MSE)"
   ]
  },
  {
   "cell_type": "code",
   "execution_count": 428,
   "id": "75d89728-faec-49ee-8299-790510aa64e3",
   "metadata": {
    "tags": []
   },
   "outputs": [],
   "source": [
    "# mlflow.log_metric(\"sqrt_MSE\", 0.4786119571636231)"
   ]
  },
  {
   "cell_type": "code",
   "execution_count": 93,
   "id": "b73eacfd-c49f-4c43-8070-d8210f59e43d",
   "metadata": {
    "tags": []
   },
   "outputs": [],
   "source": [
    "# mlflow.end_run()"
   ]
  },
  {
   "cell_type": "markdown",
   "id": "0dd35f04-2218-43df-a523-f4e2b9d220bc",
   "metadata": {},
   "source": [
    "##### cross validation score"
   ]
  },
  {
   "cell_type": "code",
   "execution_count": 149,
   "id": "42806bc0-9ce5-41e5-b6a1-3920fb87095f",
   "metadata": {
    "tags": []
   },
   "outputs": [
    {
     "data": {
      "text/plain": [
       "array([0.92337612, 0.91793077, 0.92451362, 0.9233463 , 0.92023346])"
      ]
     },
     "execution_count": 149,
     "metadata": {},
     "output_type": "execute_result"
    }
   ],
   "source": [
    "scores = cross_val_score(nu_svm, sleep_attributes_train, sleep_labels_train, cv = 5)\n",
    "scores"
   ]
  },
  {
   "cell_type": "markdown",
   "id": "b17a219c-6bcb-4ebf-9e4b-a3875e3bba8f",
   "metadata": {},
   "source": [
    "#### Classification report"
   ]
  },
  {
   "cell_type": "code",
   "execution_count": 327,
   "id": "45a94d24-c3a3-47db-9f53-2fe3731ba577",
   "metadata": {
    "tags": []
   },
   "outputs": [],
   "source": [
    "labels_names = [\"no_event\", \"onset\", \"wakeup\"]"
   ]
  },
  {
   "cell_type": "code",
   "execution_count": 333,
   "id": "23e8cc6a-9dff-457f-a984-403ebf074a88",
   "metadata": {
    "tags": []
   },
   "outputs": [
    {
     "name": "stdout",
     "output_type": "stream",
     "text": [
      "              precision    recall  f1-score   support\n",
      "\n",
      "        -1.0       0.82      0.86      0.84      1087\n",
      "         0.0       0.85      0.84      0.84      1079\n",
      "         1.0       0.93      0.89      0.91      1047\n",
      "\n",
      "    accuracy                           0.86      3213\n",
      "   macro avg       0.87      0.86      0.86      3213\n",
      "weighted avg       0.86      0.86      0.86      3213\n",
      "\n"
     ]
    }
   ],
   "source": [
    "print(classification_report(sleep_labels_test, predictions))"
   ]
  },
  {
   "cell_type": "markdown",
   "id": "9f222f7d-e50c-435f-927e-c91d59acc5b5",
   "metadata": {},
   "source": [
    "#### Confusion Matrix"
   ]
  },
  {
   "cell_type": "code",
   "execution_count": 260,
   "id": "172240db-0680-47ac-9e66-744f4cf778e0",
   "metadata": {
    "tags": []
   },
   "outputs": [
    {
     "data": {
      "text/plain": [
       "array([[937, 150,   0],\n",
       "       [103, 901,  75],\n",
       "       [ 99,  12, 936]], dtype=int64)"
      ]
     },
     "execution_count": 260,
     "metadata": {},
     "output_type": "execute_result"
    }
   ],
   "source": [
    "cm = confusion_matrix(sleep_labels_test, predictions)\n",
    "cm"
   ]
  },
  {
   "cell_type": "code",
   "execution_count": 334,
   "id": "c6eeb807-996f-4f0b-9f86-837b40e6c4b4",
   "metadata": {
    "tags": []
   },
   "outputs": [],
   "source": [
    "cm_df = pd.DataFrame(cm, index = labels_names, columns = labels_names)"
   ]
  },
  {
   "cell_type": "code",
   "execution_count": 335,
   "id": "da089d67-8451-4123-8a43-018565db0291",
   "metadata": {
    "tags": []
   },
   "outputs": [
    {
     "data": {
      "image/png": "[encoded data removed]",
      "text/plain": [
       "<Figure size 800x550 with 2 Axes>"
      ]
     },
     "metadata": {},
     "output_type": "display_data"
    }
   ],
   "source": [
    "sns.heatmap(cm_df\n",
    "            , annot = True\n",
    "            , fmt = \"g\"\n",
    "            , cmap = \"crest\"\n",
    "           )\n",
    "plt.ylabel(\"Prediction\", fontsize = 13)\n",
    "plt.xlabel(\"Actual\", fontsize = 13)\n",
    "plt.title(\"Confusion Matrix\", fontsize = 17)\n",
    "plt.show()"
   ]
  },
  {
   "cell_type": "markdown",
   "id": "a749288d-095c-4db0-a0bf-a1534507d3bd",
   "metadata": {},
   "source": [
    "#### Classes histogram"
   ]
  },
  {
   "cell_type": "code",
   "execution_count": 287,
   "id": "c18d4350-8ea6-4c36-a07e-77e1b57893a6",
   "metadata": {
    "tags": []
   },
   "outputs": [
    {
     "data": {
      "image/png": "[encoded data removed]",
      "text/plain": [
       "<Figure size 640x480 with 1 Axes>"
      ]
     },
     "metadata": {},
     "output_type": "display_data"
    }
   ],
   "source": [
    "plt.hist(sleep_labels_test, color = \"c\", alpha = 0.7, label = \"Actuals\")\n",
    "plt.hist(predictions, color = \"y\", alpha = 0.7, label = \"Predictions\")\n",
    "\n",
    "plt.title(\"Labels Histogram\")\n",
    "plt.xlabel(\"Classes\")\n",
    "plt.ylabel(\"Frequency\")\n",
    "plt.xticks([-1, 0, 1])\n",
    "plt.ylim(0, 1300)\n",
    "plt.legend()\n",
    "plt.show()"
   ]
  },
  {
   "cell_type": "markdown",
   "id": "ae702669-c5f1-4449-bd58-334cbf63f643",
   "metadata": {},
   "source": [
    "#### One-vs-one multiclass ROC"
   ]
  },
  {
   "cell_type": "code",
   "execution_count": 309,
   "id": "56247908-133c-440a-87ae-9e36ff35073f",
   "metadata": {},
   "outputs": [
    {
     "name": "stdout",
     "output_type": "stream",
     "text": [
      "ROC AUC: 0.9645\n"
     ]
    }
   ],
   "source": [
    "# This metric will help us evaluate different ROC curves\n",
    "\n",
    "roc_auc_score = roc_auc_score(sleep_labels_test, predictions_proba, multi_class = \"ovo\")\n",
    "\n",
    "print(f\"ROC AUC: {roc_auc_score:.4f}\")"
   ]
  },
  {
   "cell_type": "code",
   "execution_count": 363,
   "id": "35a7aefe-6197-4016-b5a0-108a73f1404b",
   "metadata": {
    "tags": []
   },
   "outputs": [
    {
     "data": {
      "text/plain": [
       "0.9645"
      ]
     },
     "execution_count": 363,
     "metadata": {},
     "output_type": "execute_result"
    }
   ],
   "source": [
    "mlflow.log_param(\"roc_auc_score\", 0.9645)"
   ]
  },
  {
   "cell_type": "markdown",
   "id": "7e0c50b9-8fb5-4f79-9c5a-57c794168ad4",
   "metadata": {
    "tags": []
   },
   "source": [
    "#### visualize ROC curve\n",
    "plot allows the user to visualize the tradeoff between the classifier’s sensitivity and specificity"
   ]
  },
  {
   "cell_type": "code",
   "execution_count": 358,
   "id": "58cd2dad-d934-4063-be3f-da84e1ead782",
   "metadata": {
    "tags": []
   },
   "outputs": [],
   "source": [
    "# with yellowbrick\n",
    "\n",
    "# visualizer = ROCAUC(nu_svm)"
   ]
  },
  {
   "cell_type": "code",
   "execution_count": 359,
   "id": "bed8b3b6-fc2b-4456-b6d1-73dff97473a4",
   "metadata": {
    "collapsed": true,
    "jupyter": {
     "outputs_hidden": true
    },
    "tags": []
   },
   "outputs": [
    {
     "name": "stderr",
     "output_type": "stream",
     "text": [
      "C:\\Users\\User\\anaconda3\\lib\\site-packages\\sklearn\\base.py:464: UserWarning: X does not have valid feature names, but NuSVC was fitted with feature names\n",
      "  warnings.warn(\n"
     ]
    },
    {
     "data": {
      "text/html": [
       "<style>#sk-container-id-12 {color: black;}#sk-container-id-12 pre{padding: 0;}#sk-container-id-12 div.sk-toggleable {background-color: white;}#sk-container-id-12 label.sk-toggleable__label {cursor: pointer;display: block;width: 100%;margin-bottom: 0;padding: 0.3em;box-sizing: border-box;text-align: center;}#sk-container-id-12 label.sk-toggleable__label-arrow:before {content: \"▸\";float: left;margin-right: 0.25em;color: #696969;}#sk-container-id-12 label.sk-toggleable__label-arrow:hover:before {color: black;}#sk-container-id-12 div.sk-estimator:hover label.sk-toggleable__label-arrow:before {color: black;}#sk-container-id-12 div.sk-toggleable__content {max-height: 0;max-width: 0;overflow: hidden;text-align: left;background-color: #f0f8ff;}#sk-container-id-12 div.sk-toggleable__content pre {margin: 0.2em;color: black;border-radius: 0.25em;background-color: #f0f8ff;}#sk-container-id-12 input.sk-toggleable__control:checked~div.sk-toggleable__content {max-height: 200px;max-width: 100%;overflow: auto;}#sk-container-id-12 input.sk-toggleable__control:checked~label.sk-toggleable__label-arrow:before {content: \"▾\";}#sk-container-id-12 div.sk-estimator input.sk-toggleable__control:checked~label.sk-toggleable__label {background-color: #d4ebff;}#sk-container-id-12 div.sk-label input.sk-toggleable__control:checked~label.sk-toggleable__label {background-color: #d4ebff;}#sk-container-id-12 input.sk-hidden--visually {border: 0;clip: rect(1px 1px 1px 1px);clip: rect(1px, 1px, 1px, 1px);height: 1px;margin: -1px;overflow: hidden;padding: 0;position: absolute;width: 1px;}#sk-container-id-12 div.sk-estimator {font-family: monospace;background-color: #f0f8ff;border: 1px dotted black;border-radius: 0.25em;box-sizing: border-box;margin-bottom: 0.5em;}#sk-container-id-12 div.sk-estimator:hover {background-color: #d4ebff;}#sk-container-id-12 div.sk-parallel-item::after {content: \"\";width: 100%;border-bottom: 1px solid gray;flex-grow: 1;}#sk-container-id-12 div.sk-label:hover label.sk-toggleable__label {background-color: #d4ebff;}#sk-container-id-12 div.sk-serial::before {content: \"\";position: absolute;border-left: 1px solid gray;box-sizing: border-box;top: 0;bottom: 0;left: 50%;z-index: 0;}#sk-container-id-12 div.sk-serial {display: flex;flex-direction: column;align-items: center;background-color: white;padding-right: 0.2em;padding-left: 0.2em;position: relative;}#sk-container-id-12 div.sk-item {position: relative;z-index: 1;}#sk-container-id-12 div.sk-parallel {display: flex;align-items: stretch;justify-content: center;background-color: white;position: relative;}#sk-container-id-12 div.sk-item::before, #sk-container-id-12 div.sk-parallel-item::before {content: \"\";position: absolute;border-left: 1px solid gray;box-sizing: border-box;top: 0;bottom: 0;left: 50%;z-index: -1;}#sk-container-id-12 div.sk-parallel-item {display: flex;flex-direction: column;z-index: 1;position: relative;background-color: white;}#sk-container-id-12 div.sk-parallel-item:first-child::after {align-self: flex-end;width: 50%;}#sk-container-id-12 div.sk-parallel-item:last-child::after {align-self: flex-start;width: 50%;}#sk-container-id-12 div.sk-parallel-item:only-child::after {width: 0;}#sk-container-id-12 div.sk-dashed-wrapped {border: 1px dashed gray;margin: 0 0.4em 0.5em 0.4em;box-sizing: border-box;padding-bottom: 0.4em;background-color: white;}#sk-container-id-12 div.sk-label label {font-family: monospace;font-weight: bold;display: inline-block;line-height: 1.2em;}#sk-container-id-12 div.sk-label-container {text-align: center;}#sk-container-id-12 div.sk-container {/* jupyter's `normalize.less` sets `[hidden] { display: none; }` but bootstrap.min.css set `[hidden] { display: none !important; }` so we also need the `!important` here to be able to override the default hidden behavior on the sphinx rendered scikit-learn.org. See: https://github.com/scikit-learn/scikit-learn/issues/21755 */display: inline-block !important;position: relative;}#sk-container-id-12 div.sk-text-repr-fallback {display: none;}</style><div id=\"sk-container-id-12\" class=\"sk-top-container\"><div class=\"sk-text-repr-fallback\"><pre>ROCAUC(ax=&lt;Axes: &gt;, estimator=NuSVC(probability=True, random_state=11))</pre><b>In a Jupyter environment, please rerun this cell to show the HTML representation or trust the notebook. <br />On GitHub, the HTML representation is unable to render, please try loading this page with nbviewer.org.</b></div><div class=\"sk-container\" hidden><div class=\"sk-item sk-dashed-wrapped\"><div class=\"sk-label-container\"><div class=\"sk-label sk-toggleable\"><input class=\"sk-toggleable__control sk-hidden--visually\" id=\"sk-estimator-id-20\" type=\"checkbox\" ><label for=\"sk-estimator-id-20\" class=\"sk-toggleable__label sk-toggleable__label-arrow\">ROCAUC</label><div class=\"sk-toggleable__content\"><pre>ROCAUC(ax=&lt;Axes: &gt;, estimator=NuSVC(probability=True, random_state=11))</pre></div></div></div><div class=\"sk-parallel\"><div class=\"sk-parallel-item\"><div class=\"sk-item\"><div class=\"sk-label-container\"><div class=\"sk-label sk-toggleable\"><input class=\"sk-toggleable__control sk-hidden--visually\" id=\"sk-estimator-id-21\" type=\"checkbox\" ><label for=\"sk-estimator-id-21\" class=\"sk-toggleable__label sk-toggleable__label-arrow\">estimator: NuSVC</label><div class=\"sk-toggleable__content\"><pre>NuSVC(probability=True, random_state=11)</pre></div></div></div><div class=\"sk-serial\"><div class=\"sk-item\"><div class=\"sk-estimator sk-toggleable\"><input class=\"sk-toggleable__control sk-hidden--visually\" id=\"sk-estimator-id-22\" type=\"checkbox\" ><label for=\"sk-estimator-id-22\" class=\"sk-toggleable__label sk-toggleable__label-arrow\">NuSVC</label><div class=\"sk-toggleable__content\"><pre>NuSVC(probability=True, random_state=11)</pre></div></div></div></div></div></div></div></div></div></div>"
      ],
      "text/plain": [
       "ROCAUC(ax=<Axes: >, estimator=NuSVC(probability=True, random_state=11))"
      ]
     },
     "execution_count": 359,
     "metadata": {},
     "output_type": "execute_result"
    },
    {
     "data": {
      "image/png": "[encoded data removed]",
      "text/plain": [
       "<Figure size 800x550 with 1 Axes>"
      ]
     },
     "metadata": {},
     "output_type": "display_data"
    }
   ],
   "source": [
    "# visualizer.fit(sleep_attributes_train, sleep_labels_train)"
   ]
  },
  {
   "cell_type": "code",
   "execution_count": 346,
   "id": "f852810f-1733-42a2-9078-b1ffd9f86f2f",
   "metadata": {
    "tags": []
   },
   "outputs": [
    {
     "data": {
      "text/plain": [
       "0.9646936408370393"
      ]
     },
     "execution_count": 346,
     "metadata": {},
     "output_type": "execute_result"
    }
   ],
   "source": [
    "# visualizer.score(sleep_attributes_test, sleep_labels_test)"
   ]
  },
  {
   "cell_type": "code",
   "execution_count": null,
   "id": "c1888dc9-7e71-4af3-9748-2ca587e9ab60",
   "metadata": {
    "tags": []
   },
   "outputs": [],
   "source": [
    "# visualizer.show()"
   ]
  },
  {
   "cell_type": "code",
   "execution_count": 362,
   "id": "8fa80741-91e0-46d5-94f4-162b2fab5328",
   "metadata": {
    "tags": []
   },
   "outputs": [
    {
     "name": "stderr",
     "output_type": "stream",
     "text": [
      "C:\\Users\\User\\anaconda3\\lib\\site-packages\\sklearn\\base.py:464: UserWarning: X does not have valid feature names, but NuSVC was fitted with feature names\n",
      "  warnings.warn(\n"
     ]
    },
    {
     "data": {
      "image/png": "[encoded data removed]",
      "text/plain": [
       "<Figure size 800x550 with 1 Axes>"
      ]
     },
     "metadata": {},
     "output_type": "display_data"
    },
    {
     "data": {
      "text/html": [
       "<style>#sk-container-id-13 {color: black;}#sk-container-id-13 pre{padding: 0;}#sk-container-id-13 div.sk-toggleable {background-color: white;}#sk-container-id-13 label.sk-toggleable__label {cursor: pointer;display: block;width: 100%;margin-bottom: 0;padding: 0.3em;box-sizing: border-box;text-align: center;}#sk-container-id-13 label.sk-toggleable__label-arrow:before {content: \"▸\";float: left;margin-right: 0.25em;color: #696969;}#sk-container-id-13 label.sk-toggleable__label-arrow:hover:before {color: black;}#sk-container-id-13 div.sk-estimator:hover label.sk-toggleable__label-arrow:before {color: black;}#sk-container-id-13 div.sk-toggleable__content {max-height: 0;max-width: 0;overflow: hidden;text-align: left;background-color: #f0f8ff;}#sk-container-id-13 div.sk-toggleable__content pre {margin: 0.2em;color: black;border-radius: 0.25em;background-color: #f0f8ff;}#sk-container-id-13 input.sk-toggleable__control:checked~div.sk-toggleable__content {max-height: 200px;max-width: 100%;overflow: auto;}#sk-container-id-13 input.sk-toggleable__control:checked~label.sk-toggleable__label-arrow:before {content: \"▾\";}#sk-container-id-13 div.sk-estimator input.sk-toggleable__control:checked~label.sk-toggleable__label {background-color: #d4ebff;}#sk-container-id-13 div.sk-label input.sk-toggleable__control:checked~label.sk-toggleable__label {background-color: #d4ebff;}#sk-container-id-13 input.sk-hidden--visually {border: 0;clip: rect(1px 1px 1px 1px);clip: rect(1px, 1px, 1px, 1px);height: 1px;margin: -1px;overflow: hidden;padding: 0;position: absolute;width: 1px;}#sk-container-id-13 div.sk-estimator {font-family: monospace;background-color: #f0f8ff;border: 1px dotted black;border-radius: 0.25em;box-sizing: border-box;margin-bottom: 0.5em;}#sk-container-id-13 div.sk-estimator:hover {background-color: #d4ebff;}#sk-container-id-13 div.sk-parallel-item::after {content: \"\";width: 100%;border-bottom: 1px solid gray;flex-grow: 1;}#sk-container-id-13 div.sk-label:hover label.sk-toggleable__label {background-color: #d4ebff;}#sk-container-id-13 div.sk-serial::before {content: \"\";position: absolute;border-left: 1px solid gray;box-sizing: border-box;top: 0;bottom: 0;left: 50%;z-index: 0;}#sk-container-id-13 div.sk-serial {display: flex;flex-direction: column;align-items: center;background-color: white;padding-right: 0.2em;padding-left: 0.2em;position: relative;}#sk-container-id-13 div.sk-item {position: relative;z-index: 1;}#sk-container-id-13 div.sk-parallel {display: flex;align-items: stretch;justify-content: center;background-color: white;position: relative;}#sk-container-id-13 div.sk-item::before, #sk-container-id-13 div.sk-parallel-item::before {content: \"\";position: absolute;border-left: 1px solid gray;box-sizing: border-box;top: 0;bottom: 0;left: 50%;z-index: -1;}#sk-container-id-13 div.sk-parallel-item {display: flex;flex-direction: column;z-index: 1;position: relative;background-color: white;}#sk-container-id-13 div.sk-parallel-item:first-child::after {align-self: flex-end;width: 50%;}#sk-container-id-13 div.sk-parallel-item:last-child::after {align-self: flex-start;width: 50%;}#sk-container-id-13 div.sk-parallel-item:only-child::after {width: 0;}#sk-container-id-13 div.sk-dashed-wrapped {border: 1px dashed gray;margin: 0 0.4em 0.5em 0.4em;box-sizing: border-box;padding-bottom: 0.4em;background-color: white;}#sk-container-id-13 div.sk-label label {font-family: monospace;font-weight: bold;display: inline-block;line-height: 1.2em;}#sk-container-id-13 div.sk-label-container {text-align: center;}#sk-container-id-13 div.sk-container {/* jupyter's `normalize.less` sets `[hidden] { display: none; }` but bootstrap.min.css set `[hidden] { display: none !important; }` so we also need the `!important` here to be able to override the default hidden behavior on the sphinx rendered scikit-learn.org. See: https://github.com/scikit-learn/scikit-learn/issues/21755 */display: inline-block !important;position: relative;}#sk-container-id-13 div.sk-text-repr-fallback {display: none;}</style><div id=\"sk-container-id-13\" class=\"sk-top-container\"><div class=\"sk-text-repr-fallback\"><pre>ROCAUC(ax=&lt;Axes: title={&#x27;center&#x27;: &#x27;ROC Curves for NuSVC&#x27;}, xlabel=&#x27;False Positive Rate&#x27;, ylabel=&#x27;True Positive Rate&#x27;&gt;,\n",
       "       estimator=NuSVC(probability=True, random_state=11))</pre><b>In a Jupyter environment, please rerun this cell to show the HTML representation or trust the notebook. <br />On GitHub, the HTML representation is unable to render, please try loading this page with nbviewer.org.</b></div><div class=\"sk-container\" hidden><div class=\"sk-item sk-dashed-wrapped\"><div class=\"sk-label-container\"><div class=\"sk-label sk-toggleable\"><input class=\"sk-toggleable__control sk-hidden--visually\" id=\"sk-estimator-id-23\" type=\"checkbox\" ><label for=\"sk-estimator-id-23\" class=\"sk-toggleable__label sk-toggleable__label-arrow\">ROCAUC</label><div class=\"sk-toggleable__content\"><pre>ROCAUC(ax=&lt;Axes: title={&#x27;center&#x27;: &#x27;ROC Curves for NuSVC&#x27;}, xlabel=&#x27;False Positive Rate&#x27;, ylabel=&#x27;True Positive Rate&#x27;&gt;,\n",
       "       estimator=NuSVC(probability=True, random_state=11))</pre></div></div></div><div class=\"sk-parallel\"><div class=\"sk-parallel-item\"><div class=\"sk-item\"><div class=\"sk-label-container\"><div class=\"sk-label sk-toggleable\"><input class=\"sk-toggleable__control sk-hidden--visually\" id=\"sk-estimator-id-24\" type=\"checkbox\" ><label for=\"sk-estimator-id-24\" class=\"sk-toggleable__label sk-toggleable__label-arrow\">estimator: NuSVC</label><div class=\"sk-toggleable__content\"><pre>NuSVC(probability=True, random_state=11)</pre></div></div></div><div class=\"sk-serial\"><div class=\"sk-item\"><div class=\"sk-estimator sk-toggleable\"><input class=\"sk-toggleable__control sk-hidden--visually\" id=\"sk-estimator-id-25\" type=\"checkbox\" ><label for=\"sk-estimator-id-25\" class=\"sk-toggleable__label sk-toggleable__label-arrow\">NuSVC</label><div class=\"sk-toggleable__content\"><pre>NuSVC(probability=True, random_state=11)</pre></div></div></div></div></div></div></div></div></div></div>"
      ],
      "text/plain": [
       "ROCAUC(ax=<Axes: title={'center': 'ROC Curves for NuSVC'}, xlabel='False Positive Rate', ylabel='True Positive Rate'>,\n",
       "       estimator=NuSVC(probability=True, random_state=11))"
      ]
     },
     "execution_count": 362,
     "metadata": {},
     "output_type": "execute_result"
    }
   ],
   "source": [
    "roc_auc(nu_svm, sleep_attributes_train, sleep_labels_train, X_test = sleep_attributes_test, y_test = sleep_labels_test)"
   ]
  },
  {
   "cell_type": "markdown",
   "id": "35d6ea93-2a6d-4aa3-8f1a-0d3574e6c2ea",
   "metadata": {},
   "source": [
    "#### linear svm"
   ]
  },
  {
   "cell_type": "code",
   "execution_count": 13,
   "id": "10a6a1ef-5796-4950-85ae-041dfc380647",
   "metadata": {
    "tags": []
   },
   "outputs": [],
   "source": [
    "lin_svm = LinearSVC(C = 0.6,\n",
    "                        # loss = ,\n",
    "                       multi_class = \"ovr\",\n",
    "                       dual = \"auto\",\n",
    "                       random_state = 11)"
   ]
  },
  {
   "cell_type": "code",
   "execution_count": 14,
   "id": "a4ccc121-4a2b-47e0-ac91-ed19eb783139",
   "metadata": {
    "tags": []
   },
   "outputs": [
    {
     "data": {
      "text/html": [
       "<style>#sk-container-id-1 {color: black;}#sk-container-id-1 pre{padding: 0;}#sk-container-id-1 div.sk-toggleable {background-color: white;}#sk-container-id-1 label.sk-toggleable__label {cursor: pointer;display: block;width: 100%;margin-bottom: 0;padding: 0.3em;box-sizing: border-box;text-align: center;}#sk-container-id-1 label.sk-toggleable__label-arrow:before {content: \"▸\";float: left;margin-right: 0.25em;color: #696969;}#sk-container-id-1 label.sk-toggleable__label-arrow:hover:before {color: black;}#sk-container-id-1 div.sk-estimator:hover label.sk-toggleable__label-arrow:before {color: black;}#sk-container-id-1 div.sk-toggleable__content {max-height: 0;max-width: 0;overflow: hidden;text-align: left;background-color: #f0f8ff;}#sk-container-id-1 div.sk-toggleable__content pre {margin: 0.2em;color: black;border-radius: 0.25em;background-color: #f0f8ff;}#sk-container-id-1 input.sk-toggleable__control:checked~div.sk-toggleable__content {max-height: 200px;max-width: 100%;overflow: auto;}#sk-container-id-1 input.sk-toggleable__control:checked~label.sk-toggleable__label-arrow:before {content: \"▾\";}#sk-container-id-1 div.sk-estimator input.sk-toggleable__control:checked~label.sk-toggleable__label {background-color: #d4ebff;}#sk-container-id-1 div.sk-label input.sk-toggleable__control:checked~label.sk-toggleable__label {background-color: #d4ebff;}#sk-container-id-1 input.sk-hidden--visually {border: 0;clip: rect(1px 1px 1px 1px);clip: rect(1px, 1px, 1px, 1px);height: 1px;margin: -1px;overflow: hidden;padding: 0;position: absolute;width: 1px;}#sk-container-id-1 div.sk-estimator {font-family: monospace;background-color: #f0f8ff;border: 1px dotted black;border-radius: 0.25em;box-sizing: border-box;margin-bottom: 0.5em;}#sk-container-id-1 div.sk-estimator:hover {background-color: #d4ebff;}#sk-container-id-1 div.sk-parallel-item::after {content: \"\";width: 100%;border-bottom: 1px solid gray;flex-grow: 1;}#sk-container-id-1 div.sk-label:hover label.sk-toggleable__label {background-color: #d4ebff;}#sk-container-id-1 div.sk-serial::before {content: \"\";position: absolute;border-left: 1px solid gray;box-sizing: border-box;top: 0;bottom: 0;left: 50%;z-index: 0;}#sk-container-id-1 div.sk-serial {display: flex;flex-direction: column;align-items: center;background-color: white;padding-right: 0.2em;padding-left: 0.2em;position: relative;}#sk-container-id-1 div.sk-item {position: relative;z-index: 1;}#sk-container-id-1 div.sk-parallel {display: flex;align-items: stretch;justify-content: center;background-color: white;position: relative;}#sk-container-id-1 div.sk-item::before, #sk-container-id-1 div.sk-parallel-item::before {content: \"\";position: absolute;border-left: 1px solid gray;box-sizing: border-box;top: 0;bottom: 0;left: 50%;z-index: -1;}#sk-container-id-1 div.sk-parallel-item {display: flex;flex-direction: column;z-index: 1;position: relative;background-color: white;}#sk-container-id-1 div.sk-parallel-item:first-child::after {align-self: flex-end;width: 50%;}#sk-container-id-1 div.sk-parallel-item:last-child::after {align-self: flex-start;width: 50%;}#sk-container-id-1 div.sk-parallel-item:only-child::after {width: 0;}#sk-container-id-1 div.sk-dashed-wrapped {border: 1px dashed gray;margin: 0 0.4em 0.5em 0.4em;box-sizing: border-box;padding-bottom: 0.4em;background-color: white;}#sk-container-id-1 div.sk-label label {font-family: monospace;font-weight: bold;display: inline-block;line-height: 1.2em;}#sk-container-id-1 div.sk-label-container {text-align: center;}#sk-container-id-1 div.sk-container {/* jupyter's `normalize.less` sets `[hidden] { display: none; }` but bootstrap.min.css set `[hidden] { display: none !important; }` so we also need the `!important` here to be able to override the default hidden behavior on the sphinx rendered scikit-learn.org. See: https://github.com/scikit-learn/scikit-learn/issues/21755 */display: inline-block !important;position: relative;}#sk-container-id-1 div.sk-text-repr-fallback {display: none;}</style><div id=\"sk-container-id-1\" class=\"sk-top-container\"><div class=\"sk-text-repr-fallback\"><pre>LinearSVC(C=0.6, dual=&#x27;auto&#x27;, random_state=11)</pre><b>In a Jupyter environment, please rerun this cell to show the HTML representation or trust the notebook. <br />On GitHub, the HTML representation is unable to render, please try loading this page with nbviewer.org.</b></div><div class=\"sk-container\" hidden><div class=\"sk-item\"><div class=\"sk-estimator sk-toggleable\"><input class=\"sk-toggleable__control sk-hidden--visually\" id=\"sk-estimator-id-1\" type=\"checkbox\" checked><label for=\"sk-estimator-id-1\" class=\"sk-toggleable__label sk-toggleable__label-arrow\">LinearSVC</label><div class=\"sk-toggleable__content\"><pre>LinearSVC(C=0.6, dual=&#x27;auto&#x27;, random_state=11)</pre></div></div></div></div></div>"
      ],
      "text/plain": [
       "LinearSVC(C=0.6, dual='auto', random_state=11)"
      ]
     },
     "execution_count": 14,
     "metadata": {},
     "output_type": "execute_result"
    }
   ],
   "source": [
    "lin_svm.fit(sleep_attributes_train, sleep_labels_train)"
   ]
  },
  {
   "cell_type": "code",
   "execution_count": 15,
   "id": "b808046a-a6a2-4bb5-a601-81f24721385c",
   "metadata": {
    "tags": []
   },
   "outputs": [],
   "source": [
    "predictions_2 = lin_svm.predict(sleep_attributes_test)"
   ]
  },
  {
   "cell_type": "code",
   "execution_count": 16,
   "id": "0a522e4a-7218-4452-8bc7-4127a3150803",
   "metadata": {},
   "outputs": [
    {
     "data": {
      "text/plain": [
       "0.9246031746031746"
      ]
     },
     "execution_count": 16,
     "metadata": {},
     "output_type": "execute_result"
    }
   ],
   "source": [
    "lin_svm.score(sleep_attributes_train, sleep_labels_train)"
   ]
  },
  {
   "cell_type": "code",
   "execution_count": 17,
   "id": "dc44a344-04b3-47ad-8d7f-38479d1be669",
   "metadata": {
    "tags": []
   },
   "outputs": [
    {
     "data": {
      "text/plain": [
       "0.9299719887955182"
      ]
     },
     "execution_count": 17,
     "metadata": {},
     "output_type": "execute_result"
    }
   ],
   "source": [
    "lin_svm.score(sleep_attributes_test, sleep_labels_test)"
   ]
  },
  {
   "cell_type": "code",
   "execution_count": 18,
   "id": "baed9919-2255-4b67-ac0a-1b99349eeda1",
   "metadata": {
    "tags": []
   },
   "outputs": [
    {
     "data": {
      "text/plain": [
       "array([[-1.91183102e+01,  9.74015917e-01,  2.05081753e-01,\n",
       "        -5.21655405e-01, -7.42771156e+00, -3.24043957e-02],\n",
       "       [ 1.23825035e+00,  2.15440476e+00, -2.35197279e+00,\n",
       "         9.66841091e+00,  3.72406404e-01,  7.17591580e-04],\n",
       "       [ 1.70341809e+00, -7.61265302e+00,  1.04484411e+00,\n",
       "        -2.51934324e+00,  3.25821174e-01,  4.51400954e-02]])"
      ]
     },
     "execution_count": 18,
     "metadata": {},
     "output_type": "execute_result"
    }
   ],
   "source": [
    "lin_svm.coef_"
   ]
  },
  {
   "cell_type": "code",
   "execution_count": 33,
   "id": "ae6789ba-e45c-479e-9023-ef4879e406d5",
   "metadata": {
    "tags": []
   },
   "outputs": [
    {
     "data": {
      "text/plain": [
       "0.929"
      ]
     },
     "execution_count": 33,
     "metadata": {},
     "output_type": "execute_result"
    }
   ],
   "source": [
    "# mlflow.create_experiment(name = \"LinearSVM\")\n",
    "# mlflow.start_run()\n",
    "mlflow.log_param(\"test_score\", 0.929)"
   ]
  },
  {
   "cell_type": "markdown",
   "id": "6355fe35-b112-4658-b803-8a3c966d5485",
   "metadata": {},
   "source": [
    "#### poly svm"
   ]
  },
  {
   "cell_type": "code",
   "execution_count": 478,
   "id": "cb88702b-be45-485e-a32b-04029b884c69",
   "metadata": {
    "tags": []
   },
   "outputs": [],
   "source": [
    "poly_svm = SVC(C = 1, kernel = \"poly\", degree = 2, random_state = 11)"
   ]
  },
  {
   "cell_type": "code",
   "execution_count": 479,
   "id": "99c2e9c4-3dbf-44cb-957c-dcd81be8fabc",
   "metadata": {
    "tags": []
   },
   "outputs": [
    {
     "data": {
      "text/html": [
       "<style>#sk-container-id-32 {color: black;}#sk-container-id-32 pre{padding: 0;}#sk-container-id-32 div.sk-toggleable {background-color: white;}#sk-container-id-32 label.sk-toggleable__label {cursor: pointer;display: block;width: 100%;margin-bottom: 0;padding: 0.3em;box-sizing: border-box;text-align: center;}#sk-container-id-32 label.sk-toggleable__label-arrow:before {content: \"▸\";float: left;margin-right: 0.25em;color: #696969;}#sk-container-id-32 label.sk-toggleable__label-arrow:hover:before {color: black;}#sk-container-id-32 div.sk-estimator:hover label.sk-toggleable__label-arrow:before {color: black;}#sk-container-id-32 div.sk-toggleable__content {max-height: 0;max-width: 0;overflow: hidden;text-align: left;background-color: #f0f8ff;}#sk-container-id-32 div.sk-toggleable__content pre {margin: 0.2em;color: black;border-radius: 0.25em;background-color: #f0f8ff;}#sk-container-id-32 input.sk-toggleable__control:checked~div.sk-toggleable__content {max-height: 200px;max-width: 100%;overflow: auto;}#sk-container-id-32 input.sk-toggleable__control:checked~label.sk-toggleable__label-arrow:before {content: \"▾\";}#sk-container-id-32 div.sk-estimator input.sk-toggleable__control:checked~label.sk-toggleable__label {background-color: #d4ebff;}#sk-container-id-32 div.sk-label input.sk-toggleable__control:checked~label.sk-toggleable__label {background-color: #d4ebff;}#sk-container-id-32 input.sk-hidden--visually {border: 0;clip: rect(1px 1px 1px 1px);clip: rect(1px, 1px, 1px, 1px);height: 1px;margin: -1px;overflow: hidden;padding: 0;position: absolute;width: 1px;}#sk-container-id-32 div.sk-estimator {font-family: monospace;background-color: #f0f8ff;border: 1px dotted black;border-radius: 0.25em;box-sizing: border-box;margin-bottom: 0.5em;}#sk-container-id-32 div.sk-estimator:hover {background-color: #d4ebff;}#sk-container-id-32 div.sk-parallel-item::after {content: \"\";width: 100%;border-bottom: 1px solid gray;flex-grow: 1;}#sk-container-id-32 div.sk-label:hover label.sk-toggleable__label {background-color: #d4ebff;}#sk-container-id-32 div.sk-serial::before {content: \"\";position: absolute;border-left: 1px solid gray;box-sizing: border-box;top: 0;bottom: 0;left: 50%;z-index: 0;}#sk-container-id-32 div.sk-serial {display: flex;flex-direction: column;align-items: center;background-color: white;padding-right: 0.2em;padding-left: 0.2em;position: relative;}#sk-container-id-32 div.sk-item {position: relative;z-index: 1;}#sk-container-id-32 div.sk-parallel {display: flex;align-items: stretch;justify-content: center;background-color: white;position: relative;}#sk-container-id-32 div.sk-item::before, #sk-container-id-32 div.sk-parallel-item::before {content: \"\";position: absolute;border-left: 1px solid gray;box-sizing: border-box;top: 0;bottom: 0;left: 50%;z-index: -1;}#sk-container-id-32 div.sk-parallel-item {display: flex;flex-direction: column;z-index: 1;position: relative;background-color: white;}#sk-container-id-32 div.sk-parallel-item:first-child::after {align-self: flex-end;width: 50%;}#sk-container-id-32 div.sk-parallel-item:last-child::after {align-self: flex-start;width: 50%;}#sk-container-id-32 div.sk-parallel-item:only-child::after {width: 0;}#sk-container-id-32 div.sk-dashed-wrapped {border: 1px dashed gray;margin: 0 0.4em 0.5em 0.4em;box-sizing: border-box;padding-bottom: 0.4em;background-color: white;}#sk-container-id-32 div.sk-label label {font-family: monospace;font-weight: bold;display: inline-block;line-height: 1.2em;}#sk-container-id-32 div.sk-label-container {text-align: center;}#sk-container-id-32 div.sk-container {/* jupyter's `normalize.less` sets `[hidden] { display: none; }` but bootstrap.min.css set `[hidden] { display: none !important; }` so we also need the `!important` here to be able to override the default hidden behavior on the sphinx rendered scikit-learn.org. See: https://github.com/scikit-learn/scikit-learn/issues/21755 */display: inline-block !important;position: relative;}#sk-container-id-32 div.sk-text-repr-fallback {display: none;}</style><div id=\"sk-container-id-32\" class=\"sk-top-container\"><div class=\"sk-text-repr-fallback\"><pre>SVC(C=1, degree=2, kernel=&#x27;poly&#x27;, random_state=11)</pre><b>In a Jupyter environment, please rerun this cell to show the HTML representation or trust the notebook. <br />On GitHub, the HTML representation is unable to render, please try loading this page with nbviewer.org.</b></div><div class=\"sk-container\" hidden><div class=\"sk-item\"><div class=\"sk-estimator sk-toggleable\"><input class=\"sk-toggleable__control sk-hidden--visually\" id=\"sk-estimator-id-44\" type=\"checkbox\" checked><label for=\"sk-estimator-id-44\" class=\"sk-toggleable__label sk-toggleable__label-arrow\">SVC</label><div class=\"sk-toggleable__content\"><pre>SVC(C=1, degree=2, kernel=&#x27;poly&#x27;, random_state=11)</pre></div></div></div></div></div>"
      ],
      "text/plain": [
       "SVC(C=1, degree=2, kernel='poly', random_state=11)"
      ]
     },
     "execution_count": 479,
     "metadata": {},
     "output_type": "execute_result"
    }
   ],
   "source": [
    "poly_svm.fit(sleep_attributes_train, sleep_labels_train)"
   ]
  },
  {
   "cell_type": "code",
   "execution_count": 480,
   "id": "765639a8-5188-4a1b-9e74-8ddf334b52f1",
   "metadata": {
    "tags": []
   },
   "outputs": [],
   "source": [
    "predictions_3 = poly_svm.predict(sleep_attributes_test)"
   ]
  },
  {
   "cell_type": "code",
   "execution_count": 481,
   "id": "32b157ec-c0c7-4da2-8ef2-0eb14d1bd365",
   "metadata": {
    "tags": []
   },
   "outputs": [
    {
     "data": {
      "text/plain": [
       "0.9502801120448179"
      ]
     },
     "execution_count": 481,
     "metadata": {},
     "output_type": "execute_result"
    }
   ],
   "source": [
    "poly_svm.score(sleep_attributes_train, sleep_labels_train)"
   ]
  },
  {
   "cell_type": "code",
   "execution_count": 482,
   "id": "70561bb5-c7a6-4861-9682-d926e5e14610",
   "metadata": {
    "tags": []
   },
   "outputs": [
    {
     "data": {
      "text/plain": [
       "0.954248366013072"
      ]
     },
     "execution_count": 482,
     "metadata": {},
     "output_type": "execute_result"
    }
   ],
   "source": [
    "poly_svm.score(sleep_attributes_test, sleep_labels_test)"
   ]
  },
  {
   "cell_type": "code",
   "execution_count": 483,
   "id": "5ba01c83-1c7a-4160-bb46-09b0bfdbc202",
   "metadata": {
    "tags": []
   },
   "outputs": [
    {
     "data": {
      "text/plain": [
       "array([-1.,  0.,  1.])"
      ]
     },
     "execution_count": 483,
     "metadata": {},
     "output_type": "execute_result"
    }
   ],
   "source": [
    "poly_svm.classes_"
   ]
  },
  {
   "cell_type": "code",
   "execution_count": 484,
   "id": "d3e67cf9-be4c-450a-a47c-0bb788b1289e",
   "metadata": {
    "tags": []
   },
   "outputs": [
    {
     "data": {
      "text/plain": [
       "array([1., 1., 1.])"
      ]
     },
     "execution_count": 484,
     "metadata": {},
     "output_type": "execute_result"
    }
   ],
   "source": [
    "poly_svm.class_weight_"
   ]
  },
  {
   "cell_type": "code",
   "execution_count": 486,
   "id": "c2d17aa9-81e5-436b-a9bf-aa4c521fb544",
   "metadata": {
    "tags": []
   },
   "outputs": [
    {
     "data": {
      "text/plain": [
       "array([[ 1.,  1.,  1., ..., -0., -0., -0.],\n",
       "       [ 0.,  1.,  0., ..., -1., -1., -1.]])"
      ]
     },
     "execution_count": 486,
     "metadata": {},
     "output_type": "execute_result"
    }
   ],
   "source": [
    "poly_svm.dual_coef_"
   ]
  },
  {
   "cell_type": "code",
   "execution_count": null,
   "id": "806ae485-c007-42e8-9ded-489ac97eaebd",
   "metadata": {},
   "outputs": [],
   "source": []
  },
  {
   "cell_type": "code",
   "execution_count": 35,
   "id": "9e4c98ce-57fe-4c3a-b11d-156e4bbcf715",
   "metadata": {
    "tags": []
   },
   "outputs": [],
   "source": [
    "# add validation sets"
   ]
  },
  {
   "cell_type": "markdown",
   "id": "55838476-603f-4873-a98f-18eec13190c5",
   "metadata": {},
   "source": [
    "### Try algorithm with trees"
   ]
  },
  {
   "cell_type": "code",
   "execution_count": 130,
   "id": "74f77149-9f3e-4ce2-a5b8-1dc3daee13ca",
   "metadata": {},
   "outputs": [],
   "source": [
    "tree = DecisionTreeClassifier(criterion = \"gini\", splitter = \"best\", max_depth = 10, random_state = 11)"
   ]
  },
  {
   "cell_type": "code",
   "execution_count": 131,
   "id": "e807ee27-dc19-4293-82e7-c76b7634bab8",
   "metadata": {},
   "outputs": [
    {
     "data": {
      "text/html": [
       "<style>#sk-container-id-9 {color: black;}#sk-container-id-9 pre{padding: 0;}#sk-container-id-9 div.sk-toggleable {background-color: white;}#sk-container-id-9 label.sk-toggleable__label {cursor: pointer;display: block;width: 100%;margin-bottom: 0;padding: 0.3em;box-sizing: border-box;text-align: center;}#sk-container-id-9 label.sk-toggleable__label-arrow:before {content: \"▸\";float: left;margin-right: 0.25em;color: #696969;}#sk-container-id-9 label.sk-toggleable__label-arrow:hover:before {color: black;}#sk-container-id-9 div.sk-estimator:hover label.sk-toggleable__label-arrow:before {color: black;}#sk-container-id-9 div.sk-toggleable__content {max-height: 0;max-width: 0;overflow: hidden;text-align: left;background-color: #f0f8ff;}#sk-container-id-9 div.sk-toggleable__content pre {margin: 0.2em;color: black;border-radius: 0.25em;background-color: #f0f8ff;}#sk-container-id-9 input.sk-toggleable__control:checked~div.sk-toggleable__content {max-height: 200px;max-width: 100%;overflow: auto;}#sk-container-id-9 input.sk-toggleable__control:checked~label.sk-toggleable__label-arrow:before {content: \"▾\";}#sk-container-id-9 div.sk-estimator input.sk-toggleable__control:checked~label.sk-toggleable__label {background-color: #d4ebff;}#sk-container-id-9 div.sk-label input.sk-toggleable__control:checked~label.sk-toggleable__label {background-color: #d4ebff;}#sk-container-id-9 input.sk-hidden--visually {border: 0;clip: rect(1px 1px 1px 1px);clip: rect(1px, 1px, 1px, 1px);height: 1px;margin: -1px;overflow: hidden;padding: 0;position: absolute;width: 1px;}#sk-container-id-9 div.sk-estimator {font-family: monospace;background-color: #f0f8ff;border: 1px dotted black;border-radius: 0.25em;box-sizing: border-box;margin-bottom: 0.5em;}#sk-container-id-9 div.sk-estimator:hover {background-color: #d4ebff;}#sk-container-id-9 div.sk-parallel-item::after {content: \"\";width: 100%;border-bottom: 1px solid gray;flex-grow: 1;}#sk-container-id-9 div.sk-label:hover label.sk-toggleable__label {background-color: #d4ebff;}#sk-container-id-9 div.sk-serial::before {content: \"\";position: absolute;border-left: 1px solid gray;box-sizing: border-box;top: 0;bottom: 0;left: 50%;z-index: 0;}#sk-container-id-9 div.sk-serial {display: flex;flex-direction: column;align-items: center;background-color: white;padding-right: 0.2em;padding-left: 0.2em;position: relative;}#sk-container-id-9 div.sk-item {position: relative;z-index: 1;}#sk-container-id-9 div.sk-parallel {display: flex;align-items: stretch;justify-content: center;background-color: white;position: relative;}#sk-container-id-9 div.sk-item::before, #sk-container-id-9 div.sk-parallel-item::before {content: \"\";position: absolute;border-left: 1px solid gray;box-sizing: border-box;top: 0;bottom: 0;left: 50%;z-index: -1;}#sk-container-id-9 div.sk-parallel-item {display: flex;flex-direction: column;z-index: 1;position: relative;background-color: white;}#sk-container-id-9 div.sk-parallel-item:first-child::after {align-self: flex-end;width: 50%;}#sk-container-id-9 div.sk-parallel-item:last-child::after {align-self: flex-start;width: 50%;}#sk-container-id-9 div.sk-parallel-item:only-child::after {width: 0;}#sk-container-id-9 div.sk-dashed-wrapped {border: 1px dashed gray;margin: 0 0.4em 0.5em 0.4em;box-sizing: border-box;padding-bottom: 0.4em;background-color: white;}#sk-container-id-9 div.sk-label label {font-family: monospace;font-weight: bold;display: inline-block;line-height: 1.2em;}#sk-container-id-9 div.sk-label-container {text-align: center;}#sk-container-id-9 div.sk-container {/* jupyter's `normalize.less` sets `[hidden] { display: none; }` but bootstrap.min.css set `[hidden] { display: none !important; }` so we also need the `!important` here to be able to override the default hidden behavior on the sphinx rendered scikit-learn.org. See: https://github.com/scikit-learn/scikit-learn/issues/21755 */display: inline-block !important;position: relative;}#sk-container-id-9 div.sk-text-repr-fallback {display: none;}</style><div id=\"sk-container-id-9\" class=\"sk-top-container\"><div class=\"sk-text-repr-fallback\"><pre>DecisionTreeClassifier(max_depth=10, random_state=11)</pre><b>In a Jupyter environment, please rerun this cell to show the HTML representation or trust the notebook. <br />On GitHub, the HTML representation is unable to render, please try loading this page with nbviewer.org.</b></div><div class=\"sk-container\" hidden><div class=\"sk-item\"><div class=\"sk-estimator sk-toggleable\"><input class=\"sk-toggleable__control sk-hidden--visually\" id=\"sk-estimator-id-9\" type=\"checkbox\" checked><label for=\"sk-estimator-id-9\" class=\"sk-toggleable__label sk-toggleable__label-arrow\">DecisionTreeClassifier</label><div class=\"sk-toggleable__content\"><pre>DecisionTreeClassifier(max_depth=10, random_state=11)</pre></div></div></div></div></div>"
      ],
      "text/plain": [
       "DecisionTreeClassifier(max_depth=10, random_state=11)"
      ]
     },
     "execution_count": 131,
     "metadata": {},
     "output_type": "execute_result"
    }
   ],
   "source": [
    "tree.fit(sleep_attributes_train, sleep_labels_train)"
   ]
  },
  {
   "cell_type": "code",
   "execution_count": 132,
   "id": "de443e27-07c2-40be-a703-8725a9fa9107",
   "metadata": {},
   "outputs": [],
   "source": [
    "predictions_tree = tree.predict(sleep_attributes_test)"
   ]
  },
  {
   "cell_type": "code",
   "execution_count": 133,
   "id": "4a117efd-d362-4fdd-b8f8-725b23d0a703",
   "metadata": {},
   "outputs": [
    {
     "data": {
      "text/plain": [
       "array([0.49931179, 0.00359717, 0.44930412, 0.02697946, 0.01737153,\n",
       "       0.00343593])"
      ]
     },
     "execution_count": 133,
     "metadata": {},
     "output_type": "execute_result"
    }
   ],
   "source": [
    "tree.feature_importances_"
   ]
  },
  {
   "cell_type": "code",
   "execution_count": 134,
   "id": "76652f67-a471-4716-8d9b-8ac39782f56e",
   "metadata": {
    "tags": []
   },
   "outputs": [
    {
     "data": {
      "text/plain": [
       "{'importances_mean': array([0.44042951, 0.00477747, 0.31243386, 0.03485839, 0.01392779,\n",
       "        0.00298786]),\n",
       " 'importances_std': array([0.00390895, 0.00049358, 0.00217342, 0.00076078, 0.00054355,\n",
       "        0.0004307 ]),\n",
       " 'importances': array([[0.43557423, 0.43853097, 0.44273265, 0.44677871, 0.43853097],\n",
       "        [0.00474634, 0.00427949, 0.00420168, 0.0052132 , 0.00544662],\n",
       "        [0.31255836, 0.31084656, 0.30929038, 0.31528167, 0.31419234],\n",
       "        [0.0340803 , 0.03392468, 0.03548086, 0.0358699 , 0.0349362 ],\n",
       "        [0.01384998, 0.01338313, 0.01330532, 0.01447246, 0.01462807],\n",
       "        [0.0026455 , 0.0026455 , 0.00381264, 0.00287893, 0.00295674]])}"
      ]
     },
     "execution_count": 134,
     "metadata": {},
     "output_type": "execute_result"
    }
   ],
   "source": [
    "permutation_importance(tree, sleep_attributes_train, sleep_labels_train)"
   ]
  },
  {
   "cell_type": "code",
   "execution_count": 135,
   "id": "15333972-925e-4954-aaec-924606679a79",
   "metadata": {
    "tags": []
   },
   "outputs": [
    {
     "data": {
      "text/plain": [
       "array(['step', 'enmo', 'hour', 'step_diff', 'hour_diff', 'anglez'],\n",
       "      dtype=object)"
      ]
     },
     "execution_count": 135,
     "metadata": {},
     "output_type": "execute_result"
    }
   ],
   "source": [
    "tree.feature_names_in_"
   ]
  },
  {
   "cell_type": "code",
   "execution_count": 136,
   "id": "d5237a56-376e-4e52-8921-cafec98d6747",
   "metadata": {
    "tags": []
   },
   "outputs": [
    {
     "data": {
      "text/plain": [
       "10"
      ]
     },
     "execution_count": 136,
     "metadata": {},
     "output_type": "execute_result"
    }
   ],
   "source": [
    "tree.get_depth()"
   ]
  },
  {
   "cell_type": "code",
   "execution_count": 137,
   "id": "6eec66ed-61a2-42be-a577-f60a309753c7",
   "metadata": {
    "tags": []
   },
   "outputs": [
    {
     "data": {
      "text/plain": [
       "0.9939309056956116"
      ]
     },
     "execution_count": 137,
     "metadata": {},
     "output_type": "execute_result"
    }
   ],
   "source": [
    "tree.score(sleep_attributes_train, sleep_labels_train)"
   ]
  },
  {
   "cell_type": "code",
   "execution_count": 138,
   "id": "a75671e7-5361-4c03-ab39-56529e8f7c2c",
   "metadata": {
    "tags": []
   },
   "outputs": [
    {
     "data": {
      "text/plain": [
       "0.9835045129162776"
      ]
     },
     "execution_count": 138,
     "metadata": {},
     "output_type": "execute_result"
    }
   ],
   "source": [
    "tree.score(sleep_attributes_test, sleep_labels_test)"
   ]
  },
  {
   "cell_type": "code",
   "execution_count": 139,
   "id": "a9de5621-9964-4cbd-938f-b34ea34187b5",
   "metadata": {
    "tags": []
   },
   "outputs": [],
   "source": [
    "# mlflow.log_param(\"perm_f_importance\", \"first and third\")"
   ]
  },
  {
   "cell_type": "markdown",
   "id": "4838976c-610d-49e5-a036-e8559d86a288",
   "metadata": {},
   "source": [
    "### load test set just to preview"
   ]
  },
  {
   "cell_type": "code",
   "execution_count": null,
   "id": "40d94efc-f8ba-42e4-b3fe-2e69b54a0c98",
   "metadata": {},
   "outputs": [],
   "source": [
    "sleep_test = pd.read_parquet(\"data/test_series.parquet\")"
   ]
  },
  {
   "cell_type": "code",
   "execution_count": null,
   "id": "af8d4260-4af3-496f-b299-14e7f1d66260",
   "metadata": {
    "tags": []
   },
   "outputs": [],
   "source": [
    "sleep_test.head()"
   ]
  },
  {
   "cell_type": "code",
   "execution_count": null,
   "id": "6698e7f6-5f8e-481d-94c5-7cc0e0b100cd",
   "metadata": {},
   "outputs": [],
   "source": [
    "sleep_test.shape"
   ]
  },
  {
   "cell_type": "code",
   "execution_count": null,
   "id": "d4b70798-962c-4a44-af9e-c23a7399ee14",
   "metadata": {},
   "outputs": [],
   "source": []
  },
  {
   "cell_type": "code",
   "execution_count": null,
   "id": "a679338f-6438-4494-8ad2-6e89c69615b9",
   "metadata": {},
   "outputs": [],
   "source": []
  },
  {
   "cell_type": "code",
   "execution_count": null,
   "id": "ae3c097a-f0d2-4b2a-8ebf-e4b5ed9ff260",
   "metadata": {},
   "outputs": [],
   "source": []
  },
  {
   "cell_type": "code",
   "execution_count": null,
   "id": "7c139613-43cf-459b-bec1-765ce7ce3bb6",
   "metadata": {},
   "outputs": [],
   "source": []
  },
  {
   "cell_type": "code",
   "execution_count": null,
   "id": "2c2297f1-39c3-4701-9a1a-f05b3abd6979",
   "metadata": {},
   "outputs": [],
   "source": []
  },
  {
   "cell_type": "code",
   "execution_count": null,
   "id": "5db1c21d-9c7f-437e-b97e-31c35dc931d5",
   "metadata": {},
   "outputs": [],
   "source": []
  },
  {
   "cell_type": "code",
   "execution_count": null,
   "id": "3247c9ce-5fa1-41e9-97ec-5211d2343d76",
   "metadata": {},
   "outputs": [],
   "source": []
  },
  {
   "cell_type": "code",
   "execution_count": null,
   "id": "7fbb2717-7c77-485a-ac7c-6cf8bee70f0c",
   "metadata": {},
   "outputs": [],
   "source": []
  },
  {
   "cell_type": "markdown",
   "id": "653ca823-c058-4996-93b5-88c371303e88",
   "metadata": {},
   "source": [
    "References:\n",
    "\n",
    "    https://neptune.ai/blog/time-series-prediction-vs-machine-learning\n",
    "    \n",
    "    https://towardsdatascience.com/ml-approaches-for-time-series-4d44722e48fe\n",
    "    \n",
    "    https://ml-cheatsheet.readthedocs.io/en/latest/classification_algos.html?highlight=svm#support-vector-machine\n",
    "    \n",
    "    https://www.analyticsvidhya.com/blog/2021/06/confusion-matrix-for-multi-class-classification/#Confusion_Matrix_for_Multi-Class_Classification\n",
    "    \n",
    "    https://afioto.medium.com/classification-visualizations-with-yellowbrick-d6f6150d7a32\n",
    "    \n",
    "    https://www.freecodecamp.org/news/machine-learning-pipeline/#:~:text=There%20is%20a%20big%20difference,ColumnTransformer%20that%20you%20should%20understand.&text=You%20use%20the%20pipeline%20for,separately%20before%20combining%20them%20later."
   ]
  },
  {
   "cell_type": "code",
   "execution_count": null,
   "id": "c9d4a877-b8b4-4cd2-9723-81b53ee92206",
   "metadata": {},
   "outputs": [],
   "source": []
  }
 ],
 "metadata": {
  "kernelspec": {
   "display_name": "Python 3 (ipykernel)",
   "language": "python",
   "name": "python3"
  },
  "language_info": {
   "codemirror_mode": {
    "name": "ipython",
    "version": 3
   },
   "file_extension": ".py",
   "mimetype": "text/x-python",
   "name": "python",
   "nbconvert_exporter": "python",
   "pygments_lexer": "ipython3",
   "version": "3.9.18"
  }
 },
 "nbformat": 4,
 "nbformat_minor": 5
}
