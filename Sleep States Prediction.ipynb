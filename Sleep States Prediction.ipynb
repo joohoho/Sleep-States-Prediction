{
 "cells": [
  {
   "cell_type": "code",
   "execution_count": 1,
   "id": "5f940934-d9a1-47e4-8597-699e1f87e408",
   "metadata": {},
   "outputs": [],
   "source": [
    "# inline plotting\n",
    "\n",
    "%matplotlib inline"
   ]
  },
  {
   "cell_type": "code",
   "execution_count": 2,
   "id": "501ab95b-96a3-4761-aae6-da20227308ac",
   "metadata": {
    "tags": []
   },
   "outputs": [],
   "source": [
    "# imports\n",
    "\n",
    "import numpy as np\n",
    "import pandas as pd\n",
    "import matplotlib.pyplot as plt\n",
    "\n",
    "from statsmodels.graphics.tsaplots import plot_acf\n",
    "from imblearn.under_sampling import RandomUnderSampler\n",
    "\n",
    "from sklearn.preprocessing import OrdinalEncoder, MinMaxScaler, StandardScaler, FunctionTransformer\n",
    "from sklearn.model_selection import train_test_split, cross_val_score\n",
    "from sklearn.svm import SVC, NuSVC, LinearSVC\n",
    "from sklearn.tree import DecisionTreeClassifier\n",
    "from sklearn.inspection import permutation_importance\n",
    "from sklearn.metrics import classification_report, mean_squared_error, confusion_matrix, RocCurveDisplay, roc_auc_score\n",
    "\n",
    "import pickle\n",
    "import mlflow\n",
    "from joblib import parallel_backend\n",
    "\n",
    "import seaborn as sns\n",
    "\n",
    "from yellowbrick.classifier import ROCAUC\n",
    "from yellowbrick.classifier.rocauc import roc_auc"
   ]
  },
  {
   "cell_type": "markdown",
   "id": "14873da6-c534-47c1-885a-a7a15ee00ba2",
   "metadata": {},
   "source": [
    "# Sleep States Prediction"
   ]
  },
  {
   "cell_type": "markdown",
   "id": "ed3a5db4-45fb-459c-b091-eac9d0079909",
   "metadata": {},
   "source": [
    "### Course project including exploratory data analysis, working with time series, prediction with SVM and Decision Tree."
   ]
  },
  {
   "cell_type": "markdown",
   "id": "ae1d6638-32fe-4943-b7a8-1a2b67b433f5",
   "metadata": {},
   "source": [
    "### Context "
   ]
  },
  {
   "cell_type": "markdown",
   "id": "0d8ac293-aad4-49e3-830b-797e9c49cf5d",
   "metadata": {},
   "source": [
    "The \"Zzz\" you catch each night are crucial for your overall health. Sleep affects everything from your development to cognitive functioning. Even so, sleep research has proved challenging, due to the lack of naturalistic data capture alongside accurate annotation. If data science could help researchers better analyze wrist-worn accelerometer data for sleep monitoring, sleep experts could more easily conduct large-scale studies of sleep, thus improving the understanding of sleep's importance and function."
   ]
  },
  {
   "cell_type": "markdown",
   "id": "4aafa84a-e508-4aad-9fc9-a0ed592d13c1",
   "metadata": {},
   "source": [
    "### Problem to solve"
   ]
  },
  {
   "cell_type": "markdown",
   "id": "3e172d7c-73f4-4897-9a67-d0d828c58a3d",
   "metadata": {},
   "source": [
    "The lack of sleep could have implications for children and youth, especially those with mood and behavior difficulties. Sleep is crucial in regulating mood, emotions, and behavior in individuals of all ages, particularly children. By accurately detecting periods of sleep and wakefulness from wrist-worn accelerometer data, researchers can gain a deeper understanding of sleep patterns and better understand disturbances in children."
   ]
  },
  {
   "cell_type": "markdown",
   "id": "d3e05602-23ed-4572-a794-a0f4250fca5c",
   "metadata": {},
   "source": [
    "We can gain useful knowledge about sleep by developing models and determining a person's sleep state. The goal of this research is to detect sleep onset and wake."
   ]
  },
  {
   "cell_type": "markdown",
   "id": "53c2c50e-2800-4568-8d05-561c5d43075e",
   "metadata": {},
   "source": [
    "### Data "
   ]
  },
  {
   "cell_type": "markdown",
   "id": "ed52a2f4-2eb1-485a-8a5f-5b2517d4bebc",
   "metadata": {},
   "source": [
    "We have two datasets. The first one is wih recorded events - onset and wakeup. The second one is very large without events of interest, but with additional features."
   ]
  },
  {
   "cell_type": "markdown",
   "id": "0743f044-5eba-499d-bf3c-9e1bb5218919",
   "metadata": {},
   "source": [
    "### Read Dataset 1 "
   ]
  },
  {
   "cell_type": "markdown",
   "id": "05c663c6-fa84-42cc-99c7-1ddf2ebdafa9",
   "metadata": {},
   "source": [
    "Let's read the first dataset and get sense of the data we have :)"
   ]
  },
  {
   "cell_type": "code",
   "execution_count": 3,
   "id": "1ab38c35-b240-461d-82af-ee76ecdb8be3",
   "metadata": {
    "tags": []
   },
   "outputs": [],
   "source": [
    "sleep_events = pd.read_csv(\"data/train_events.csv\")"
   ]
  },
  {
   "cell_type": "code",
   "execution_count": 4,
   "id": "18a06ad1-516d-403a-ab20-fc027c9d9aeb",
   "metadata": {
    "tags": []
   },
   "outputs": [
    {
     "data": {
      "text/html": [
       "<div>\n",
       "<style scoped>\n",
       "    .dataframe tbody tr th:only-of-type {\n",
       "        vertical-align: middle;\n",
       "    }\n",
       "\n",
       "    .dataframe tbody tr th {\n",
       "        vertical-align: top;\n",
       "    }\n",
       "\n",
       "    .dataframe thead th {\n",
       "        text-align: right;\n",
       "    }\n",
       "</style>\n",
       "<table border=\"1\" class=\"dataframe\">\n",
       "  <thead>\n",
       "    <tr style=\"text-align: right;\">\n",
       "      <th></th>\n",
       "      <th>series_id</th>\n",
       "      <th>night</th>\n",
       "      <th>event</th>\n",
       "      <th>step</th>\n",
       "      <th>timestamp</th>\n",
       "    </tr>\n",
       "  </thead>\n",
       "  <tbody>\n",
       "    <tr>\n",
       "      <th>0</th>\n",
       "      <td>038441c925bb</td>\n",
       "      <td>1</td>\n",
       "      <td>onset</td>\n",
       "      <td>4992.0</td>\n",
       "      <td>2018-08-14T22:26:00-0400</td>\n",
       "    </tr>\n",
       "    <tr>\n",
       "      <th>1</th>\n",
       "      <td>038441c925bb</td>\n",
       "      <td>1</td>\n",
       "      <td>wakeup</td>\n",
       "      <td>10932.0</td>\n",
       "      <td>2018-08-15T06:41:00-0400</td>\n",
       "    </tr>\n",
       "    <tr>\n",
       "      <th>2</th>\n",
       "      <td>038441c925bb</td>\n",
       "      <td>2</td>\n",
       "      <td>onset</td>\n",
       "      <td>20244.0</td>\n",
       "      <td>2018-08-15T19:37:00-0400</td>\n",
       "    </tr>\n",
       "    <tr>\n",
       "      <th>3</th>\n",
       "      <td>038441c925bb</td>\n",
       "      <td>2</td>\n",
       "      <td>wakeup</td>\n",
       "      <td>27492.0</td>\n",
       "      <td>2018-08-16T05:41:00-0400</td>\n",
       "    </tr>\n",
       "    <tr>\n",
       "      <th>4</th>\n",
       "      <td>038441c925bb</td>\n",
       "      <td>3</td>\n",
       "      <td>onset</td>\n",
       "      <td>39996.0</td>\n",
       "      <td>2018-08-16T23:03:00-0400</td>\n",
       "    </tr>\n",
       "  </tbody>\n",
       "</table>\n",
       "</div>"
      ],
      "text/plain": [
       "      series_id  night   event     step                 timestamp\n",
       "0  038441c925bb      1   onset   4992.0  2018-08-14T22:26:00-0400\n",
       "1  038441c925bb      1  wakeup  10932.0  2018-08-15T06:41:00-0400\n",
       "2  038441c925bb      2   onset  20244.0  2018-08-15T19:37:00-0400\n",
       "3  038441c925bb      2  wakeup  27492.0  2018-08-16T05:41:00-0400\n",
       "4  038441c925bb      3   onset  39996.0  2018-08-16T23:03:00-0400"
      ]
     },
     "execution_count": 4,
     "metadata": {},
     "output_type": "execute_result"
    }
   ],
   "source": [
    "sleep_events.head()"
   ]
  },
  {
   "cell_type": "code",
   "execution_count": 5,
   "id": "85025637-3eb3-439c-9437-5d6225c5c639",
   "metadata": {
    "tags": []
   },
   "outputs": [
    {
     "data": {
      "text/plain": [
       "(14508, 5)"
      ]
     },
     "execution_count": 5,
     "metadata": {},
     "output_type": "execute_result"
    }
   ],
   "source": [
    "sleep_events.shape"
   ]
  },
  {
   "cell_type": "code",
   "execution_count": 6,
   "id": "41108ed6-3f1a-4c5a-b9e9-6c8ec31f5c0e",
   "metadata": {
    "tags": []
   },
   "outputs": [
    {
     "data": {
      "text/html": [
       "<div>\n",
       "<style scoped>\n",
       "    .dataframe tbody tr th:only-of-type {\n",
       "        vertical-align: middle;\n",
       "    }\n",
       "\n",
       "    .dataframe tbody tr th {\n",
       "        vertical-align: top;\n",
       "    }\n",
       "\n",
       "    .dataframe thead th {\n",
       "        text-align: right;\n",
       "    }\n",
       "</style>\n",
       "<table border=\"1\" class=\"dataframe\">\n",
       "  <thead>\n",
       "    <tr style=\"text-align: right;\">\n",
       "      <th></th>\n",
       "      <th>count</th>\n",
       "      <th>mean</th>\n",
       "      <th>std</th>\n",
       "      <th>min</th>\n",
       "      <th>25%</th>\n",
       "      <th>50%</th>\n",
       "      <th>75%</th>\n",
       "      <th>max</th>\n",
       "    </tr>\n",
       "  </thead>\n",
       "  <tbody>\n",
       "    <tr>\n",
       "      <th>night</th>\n",
       "      <td>14508.0</td>\n",
       "      <td>15.120072</td>\n",
       "      <td>10.286758</td>\n",
       "      <td>1.0</td>\n",
       "      <td>7.0</td>\n",
       "      <td>14.0</td>\n",
       "      <td>21.0</td>\n",
       "      <td>84.0</td>\n",
       "    </tr>\n",
       "    <tr>\n",
       "      <th>step</th>\n",
       "      <td>9585.0</td>\n",
       "      <td>214352.123944</td>\n",
       "      <td>141268.408192</td>\n",
       "      <td>936.0</td>\n",
       "      <td>95436.0</td>\n",
       "      <td>200604.0</td>\n",
       "      <td>317520.0</td>\n",
       "      <td>739392.0</td>\n",
       "    </tr>\n",
       "  </tbody>\n",
       "</table>\n",
       "</div>"
      ],
      "text/plain": [
       "         count           mean            std    min      25%       50%  \\\n",
       "night  14508.0      15.120072      10.286758    1.0      7.0      14.0   \n",
       "step    9585.0  214352.123944  141268.408192  936.0  95436.0  200604.0   \n",
       "\n",
       "            75%       max  \n",
       "night      21.0      84.0  \n",
       "step   317520.0  739392.0  "
      ]
     },
     "execution_count": 6,
     "metadata": {},
     "output_type": "execute_result"
    }
   ],
   "source": [
    "sleep_events.describe().T"
   ]
  },
  {
   "cell_type": "code",
   "execution_count": 7,
   "id": "2b75ccbc-49b6-460b-b7e3-725c8c688be6",
   "metadata": {},
   "outputs": [
    {
     "data": {
      "text/plain": [
       "277"
      ]
     },
     "execution_count": 7,
     "metadata": {},
     "output_type": "execute_result"
    }
   ],
   "source": [
    "# Count of uniqie series observations\n",
    "\n",
    "np.count_nonzero(sleep_events.series_id.unique())"
   ]
  },
  {
   "cell_type": "code",
   "execution_count": 8,
   "id": "cbf3ce20-ae48-4822-8ed6-43be95f80014",
   "metadata": {
    "tags": []
   },
   "outputs": [
    {
     "name": "stdout",
     "output_type": "stream",
     "text": [
      "<class 'pandas.core.frame.DataFrame'>\n",
      "RangeIndex: 14508 entries, 0 to 14507\n",
      "Data columns (total 5 columns):\n",
      " #   Column     Non-Null Count  Dtype  \n",
      "---  ------     --------------  -----  \n",
      " 0   series_id  14508 non-null  object \n",
      " 1   night      14508 non-null  int64  \n",
      " 2   event      14508 non-null  object \n",
      " 3   step       9585 non-null   float64\n",
      " 4   timestamp  9585 non-null   object \n",
      "dtypes: float64(1), int64(1), object(3)\n",
      "memory usage: 566.8+ KB\n"
     ]
    }
   ],
   "source": [
    "sleep_events.info()"
   ]
  },
  {
   "cell_type": "markdown",
   "id": "89e92d7a-acb0-4feb-9ec9-a6253afd4ead",
   "metadata": {
    "tags": []
   },
   "source": [
    "#### Observations "
   ]
  },
  {
   "cell_type": "markdown",
   "id": "9bdda431-2b45-410e-8a80-dd2b2945fc23",
   "metadata": {},
   "source": [
    "We have a relatevely small dataset with 277 unique persons' records of sleep events - \"onset\" and \"wakeup\". The data is logged in different nights - up to 84th night. There is a information about person's \"step\" number of event's occurence. "
   ]
  },
  {
   "cell_type": "markdown",
   "id": "ab4e0344-e32a-45e0-a68a-80695b631f33",
   "metadata": {},
   "source": [
    "There are missing values in columns \"step\" and \"timestamp\". Also we need to take care of data types for \"series_id\", \"event\", \"timestamp\"."
   ]
  },
  {
   "cell_type": "markdown",
   "id": "4846675e-139d-40eb-b3f4-082707162fc4",
   "metadata": {},
   "source": [
    "#### Feature selection"
   ]
  },
  {
   "cell_type": "markdown",
   "id": "0173e712-cca9-4dab-b7eb-2a3a0d8e0449",
   "metadata": {},
   "source": [
    "The attribute \"step\" needs some attention in order to fill NaN observations. As the field is closely time related the best approach here is to linearly interpolate the missing data points. Let's visualize the data of this column, make transformation and visualize the results. "
   ]
  },
  {
   "cell_type": "code",
   "execution_count": 9,
   "id": "c440210f-62bc-463f-926e-27bca44eabab",
   "metadata": {
    "tags": []
   },
   "outputs": [
    {
     "data": {
      "text/plain": [
       "0          4992.0\n",
       "1         10932.0\n",
       "2         20244.0\n",
       "3         27492.0\n",
       "4         39996.0\n",
       "           ...   \n",
       "14503    560604.0\n",
       "14504    574620.0\n",
       "14505    581604.0\n",
       "14506         NaN\n",
       "14507         NaN\n",
       "Name: step, Length: 14508, dtype: float64"
      ]
     },
     "execution_count": 9,
     "metadata": {},
     "output_type": "execute_result"
    }
   ],
   "source": [
    "sleep_events.step"
   ]
  },
  {
   "cell_type": "code",
   "execution_count": 10,
   "id": "b9ff2e7c-8cfe-4aea-90e9-23b7f4e1a9e4",
   "metadata": {
    "tags": []
   },
   "outputs": [],
   "source": [
    "def plot_step(num_steps, steps):\n",
    "    \"\"\"\n",
    "    This is function to visualize step attribute.\n",
    "    \n",
    "    Parameters:\n",
    "    num_steps - full sequence of steps recorded (without repetition) as a timeline\n",
    "    steps - actual recorded steps for each person\n",
    "    \"\"\"\n",
    "\n",
    "    plt.plot(np.arange(0, num_steps), steps)\n",
    "\n",
    "    plt.xlabel(\"n steps\")\n",
    "    plt.ylabel(\"step\")\n",
    "    plt.title(\"Step Development\")\n",
    "    plt.semilogx()\n",
    "    plt.semilogy()\n",
    "    plt.show()"
   ]
  },
  {
   "cell_type": "code",
   "execution_count": 11,
   "id": "a0f6e399-2a35-416d-be8b-f08c9f452746",
   "metadata": {
    "tags": []
   },
   "outputs": [
    {
     "data": {
      "image/png": "[encoded data removed]",
      "text/plain": [
       "<Figure size 800x550 with 1 Axes>"
      ]
     },
     "metadata": {},
     "output_type": "display_data"
    }
   ],
   "source": [
    "plot_step(len(sleep_events.step), sleep_events.step)"
   ]
  },
  {
   "cell_type": "code",
   "execution_count": 12,
   "id": "c1a38262-3fc4-4500-a47f-71ae3dd5b87a",
   "metadata": {
    "tags": []
   },
   "outputs": [
    {
     "data": {
      "image/png": "[encoded data removed]",
      "text/plain": [
       "<Figure size 800x550 with 1 Axes>"
      ]
     },
     "metadata": {},
     "output_type": "display_data"
    }
   ],
   "source": [
    "sleep_events[\"step\"] = sleep_events.step.interpolate(Axis = 0)\n",
    "\n",
    "plot_step(len(sleep_events.step), sleep_events.step)"
   ]
  },
  {
   "cell_type": "markdown",
   "id": "5f174b77-c3b7-4c6f-abc7-7b83c3479398",
   "metadata": {},
   "source": [
    "Now the column \"step\" looks better. The results we see are expected and what we were aiming for."
   ]
  },
  {
   "cell_type": "markdown",
   "id": "3ed34d07-2824-4eba-82b1-ea19f5444e26",
   "metadata": {},
   "source": [
    "Next column we need to take care of is \"timestamp\". We have missing values and not suitable data type format. First we will change type and then interpolate the column's values."
   ]
  },
  {
   "cell_type": "code",
   "execution_count": 13,
   "id": "a74733c2-cbf1-4f3c-9d0f-47cc6db4c36c",
   "metadata": {
    "tags": []
   },
   "outputs": [
    {
     "data": {
      "text/plain": [
       "0       2018-08-15 02:26:00+00:00\n",
       "1       2018-08-15 10:41:00+00:00\n",
       "2       2018-08-15 23:37:00+00:00\n",
       "3       2018-08-16 09:41:00+00:00\n",
       "4       2018-08-17 03:03:00+00:00\n",
       "                   ...           \n",
       "14503   2017-09-06 08:07:00+00:00\n",
       "14504   2017-09-07 03:35:00+00:00\n",
       "14505   2017-09-07 13:17:00+00:00\n",
       "14506                         NaT\n",
       "14507                         NaT\n",
       "Name: timestamp, Length: 14508, dtype: datetime64[ns, UTC]"
      ]
     },
     "execution_count": 13,
     "metadata": {},
     "output_type": "execute_result"
    }
   ],
   "source": [
    "sleep_events[\"timestamp\"] = sleep_events.timestamp.astype(\"datetime64[ns, UTC]\")\n",
    "sleep_events.timestamp"
   ]
  },
  {
   "cell_type": "code",
   "execution_count": 14,
   "id": "7fc11011-e22a-4a6d-b9ba-e5c91ad333d5",
   "metadata": {
    "tags": []
   },
   "outputs": [
    {
     "data": {
      "text/plain": [
       "0       2018-08-15 02:26:00+00:00\n",
       "1       2018-08-15 10:41:00+00:00\n",
       "2       2018-08-15 23:37:00+00:00\n",
       "3       2018-08-16 09:41:00+00:00\n",
       "4       2018-08-17 03:03:00+00:00\n",
       "                   ...           \n",
       "14503   2017-09-06 08:07:00+00:00\n",
       "14504   2017-09-07 03:35:00+00:00\n",
       "14505   2017-09-07 13:17:00+00:00\n",
       "14506   2017-09-07 13:17:00+00:00\n",
       "14507   2017-09-07 13:17:00+00:00\n",
       "Name: timestamp, Length: 14508, dtype: datetime64[ns, UTC]"
      ]
     },
     "execution_count": 14,
     "metadata": {},
     "output_type": "execute_result"
    }
   ],
   "source": [
    "# handle missing values in \"timestamp\"\n",
    "\n",
    "sleep_events[\"timestamp\"] = sleep_events[\"timestamp\"].interpolate(Axis = 0)\n",
    "sleep_events.timestamp"
   ]
  },
  {
   "cell_type": "markdown",
   "id": "30cb6366-ab02-4553-92e7-f2c568eea4ec",
   "metadata": {},
   "source": [
    "Let's check all data types once more."
   ]
  },
  {
   "cell_type": "code",
   "execution_count": 15,
   "id": "5fe1bceb-ca4c-4065-9077-06c7e287afbe",
   "metadata": {
    "tags": []
   },
   "outputs": [
    {
     "data": {
      "text/plain": [
       "series_id                 object\n",
       "night                      int64\n",
       "event                     object\n",
       "step                     float64\n",
       "timestamp    datetime64[ns, UTC]\n",
       "dtype: object"
      ]
     },
     "execution_count": 15,
     "metadata": {},
     "output_type": "execute_result"
    }
   ],
   "source": [
    "sleep_events.dtypes"
   ]
  },
  {
   "cell_type": "markdown",
   "id": "97ca27db-1e70-4a35-84ed-a7b7e453193e",
   "metadata": {},
   "source": [
    "Two of the attributes are recognised as string type. In nature \"event\" holds categorical values. The column \"series_id\" gives us differentiate the persons in the observations. In essence it is a descrete variable. \n",
    "\n",
    "We can use sklearn ordinal encoder to transform these values into numeric ones preserving their inherent ordering."
   ]
  },
  {
   "cell_type": "markdown",
   "id": "d9f894e0-4298-4a31-8203-763854eec1ed",
   "metadata": {},
   "source": [
    "#### Encoding"
   ]
  },
  {
   "cell_type": "code",
   "execution_count": 16,
   "id": "db399d89-e543-4346-bf77-4ce323b0303b",
   "metadata": {
    "tags": []
   },
   "outputs": [],
   "source": [
    "encoder = OrdinalEncoder()\n",
    "\n",
    "# nd array\n",
    "cat_features = list(zip(sleep_events.series_id, sleep_events.event))\n",
    "\n",
    "# cat_features\n",
    "cat_features_transformed = encoder.fit_transform(cat_features)"
   ]
  },
  {
   "cell_type": "code",
   "execution_count": 17,
   "id": "e6140e3a-5c19-4243-82f3-1764e8717699",
   "metadata": {
    "tags": []
   },
   "outputs": [],
   "source": [
    "sleep_events[\"series_id\"], sleep_events[\"event\"] = cat_features_transformed[:, 0], cat_features_transformed[:, 1]"
   ]
  },
  {
   "cell_type": "code",
   "execution_count": 18,
   "id": "936bc897-4433-40bb-8395-a83df9413bc1",
   "metadata": {
    "tags": []
   },
   "outputs": [
    {
     "data": {
      "text/plain": [
       "array([0., 1.])"
      ]
     },
     "execution_count": 18,
     "metadata": {},
     "output_type": "execute_result"
    }
   ],
   "source": [
    "sleep_events.event.unique()"
   ]
  },
  {
   "cell_type": "code",
   "execution_count": 19,
   "id": "fec8d2f6-05cf-4423-a082-b4a1bb085244",
   "metadata": {
    "tags": []
   },
   "outputs": [
    {
     "data": {
      "text/html": [
       "<div>\n",
       "<style scoped>\n",
       "    .dataframe tbody tr th:only-of-type {\n",
       "        vertical-align: middle;\n",
       "    }\n",
       "\n",
       "    .dataframe tbody tr th {\n",
       "        vertical-align: top;\n",
       "    }\n",
       "\n",
       "    .dataframe thead th {\n",
       "        text-align: right;\n",
       "    }\n",
       "</style>\n",
       "<table border=\"1\" class=\"dataframe\">\n",
       "  <thead>\n",
       "    <tr style=\"text-align: right;\">\n",
       "      <th></th>\n",
       "      <th>series_id</th>\n",
       "      <th>night</th>\n",
       "      <th>event</th>\n",
       "      <th>step</th>\n",
       "      <th>timestamp</th>\n",
       "    </tr>\n",
       "  </thead>\n",
       "  <tbody>\n",
       "    <tr>\n",
       "      <th>0</th>\n",
       "      <td>0.0</td>\n",
       "      <td>1</td>\n",
       "      <td>0.0</td>\n",
       "      <td>4992.0</td>\n",
       "      <td>2018-08-15 02:26:00+00:00</td>\n",
       "    </tr>\n",
       "    <tr>\n",
       "      <th>1</th>\n",
       "      <td>0.0</td>\n",
       "      <td>1</td>\n",
       "      <td>1.0</td>\n",
       "      <td>10932.0</td>\n",
       "      <td>2018-08-15 10:41:00+00:00</td>\n",
       "    </tr>\n",
       "    <tr>\n",
       "      <th>2</th>\n",
       "      <td>0.0</td>\n",
       "      <td>2</td>\n",
       "      <td>0.0</td>\n",
       "      <td>20244.0</td>\n",
       "      <td>2018-08-15 23:37:00+00:00</td>\n",
       "    </tr>\n",
       "    <tr>\n",
       "      <th>3</th>\n",
       "      <td>0.0</td>\n",
       "      <td>2</td>\n",
       "      <td>1.0</td>\n",
       "      <td>27492.0</td>\n",
       "      <td>2018-08-16 09:41:00+00:00</td>\n",
       "    </tr>\n",
       "    <tr>\n",
       "      <th>4</th>\n",
       "      <td>0.0</td>\n",
       "      <td>3</td>\n",
       "      <td>0.0</td>\n",
       "      <td>39996.0</td>\n",
       "      <td>2018-08-17 03:03:00+00:00</td>\n",
       "    </tr>\n",
       "  </tbody>\n",
       "</table>\n",
       "</div>"
      ],
      "text/plain": [
       "   series_id  night  event     step                 timestamp\n",
       "0        0.0      1    0.0   4992.0 2018-08-15 02:26:00+00:00\n",
       "1        0.0      1    1.0  10932.0 2018-08-15 10:41:00+00:00\n",
       "2        0.0      2    0.0  20244.0 2018-08-15 23:37:00+00:00\n",
       "3        0.0      2    1.0  27492.0 2018-08-16 09:41:00+00:00\n",
       "4        0.0      3    0.0  39996.0 2018-08-17 03:03:00+00:00"
      ]
     },
     "execution_count": 19,
     "metadata": {},
     "output_type": "execute_result"
    }
   ],
   "source": [
    "sleep_events.head()"
   ]
  },
  {
   "cell_type": "markdown",
   "id": "0f49b4ed-c865-476f-a999-a0c5105f9b73",
   "metadata": {},
   "source": [
    "There is something interesting we can check about this time series dataset. Let's see how the feature \"step\" is autocorrelated."
   ]
  },
  {
   "cell_type": "markdown",
   "id": "f64bced7-f603-4136-8a80-94b27482f563",
   "metadata": {
    "tags": []
   },
   "source": [
    "#### Visualize autocorrelation "
   ]
  },
  {
   "cell_type": "code",
   "execution_count": 20,
   "id": "e0d7ea9e-9339-4430-b45f-935a7f26b83f",
   "metadata": {
    "tags": []
   },
   "outputs": [],
   "source": [
    "sleep_events_indexed = sleep_events.set_index(\"timestamp\")"
   ]
  },
  {
   "cell_type": "code",
   "execution_count": 21,
   "id": "d6db2e58-95c2-44a5-a2f9-82a098237b3b",
   "metadata": {
    "tags": []
   },
   "outputs": [
    {
     "data": {
      "text/plain": [
       "(Timestamp('2017-08-06 02:44:00+0000', tz='UTC'),\n",
       " Timestamp('2019-07-05 09:33:00+0000', tz='UTC'))"
      ]
     },
     "execution_count": 21,
     "metadata": {},
     "output_type": "execute_result"
    }
   ],
   "source": [
    "sleep_events_indexed.index.min(), sleep_events_indexed.index.max()"
   ]
  },
  {
   "cell_type": "code",
   "execution_count": 22,
   "id": "b236ff67-8fc3-45e4-97e1-bd55a01c5b38",
   "metadata": {
    "tags": []
   },
   "outputs": [],
   "source": [
    "def plot_autocorr(data, n_lags):\n",
    "    \"\"\"\n",
    "    Function to visualize autocorrelation using plot_acf.\n",
    "    \n",
    "    Parameters:\n",
    "    data - column to be displayed\n",
    "    n_lags - how many lags to be included\n",
    "    \"\"\"\n",
    "    plot_acf(data, lags = n_lags)\n",
    "    \n",
    "    plt.xlabel(\"n_lags\")\n",
    "    plt.ylabel(\"Percentage autocorr\")\n",
    "    plt.show()"
   ]
  },
  {
   "cell_type": "code",
   "execution_count": 23,
   "id": "bf8054ce-0715-4a45-bd88-ff1372c81693",
   "metadata": {
    "tags": []
   },
   "outputs": [
    {
     "data": {
      "image/png": "[encoded data removed]",
      "text/plain": [
       "<Figure size 800x550 with 1 Axes>"
      ]
     },
     "metadata": {},
     "output_type": "display_data"
    }
   ],
   "source": [
    "plot_autocorr(sleep_events_indexed.step, 100)"
   ]
  },
  {
   "cell_type": "markdown",
   "id": "e6b347f6-27a0-4406-bc93-33acdc552075",
   "metadata": {
    "tags": []
   },
   "source": [
    "What we see here is very interesting. The autocorrelation is getting weaker as we are getting longer distance. After a specific moment it becomes insignificant - the slight blue area. This happens after 20 lags behind.\n",
    "\n",
    "Let's check it more closely - with shorter interval."
   ]
  },
  {
   "cell_type": "code",
   "execution_count": 24,
   "id": "a0f484b5-5d9b-4fcc-8ff5-a198d2ea12d6",
   "metadata": {
    "tags": []
   },
   "outputs": [
    {
     "data": {
      "image/png": "[encoded data removed]",
      "text/plain": [
       "<Figure size 800x550 with 1 Axes>"
      ]
     },
     "metadata": {},
     "output_type": "display_data"
    }
   ],
   "source": [
    "plot_autocorr(sleep_events_indexed.step, 20)"
   ]
  },
  {
   "cell_type": "markdown",
   "id": "0f33a749-6549-47dc-bb08-43f26340e09e",
   "metadata": {},
   "source": [
    "The inspection of the first dataset has finished. Now let's play a bit with the second one."
   ]
  },
  {
   "cell_type": "markdown",
   "id": "babe1a54-fc60-4fab-ae9e-c0ea71e390e8",
   "metadata": {},
   "source": [
    "### Dataset 2"
   ]
  },
  {
   "cell_type": "code",
   "execution_count": 25,
   "id": "d1525644-fa6c-46a1-b4d3-1b2d46153691",
   "metadata": {
    "tags": []
   },
   "outputs": [],
   "source": [
    "with parallel_backend(\"loky\", n_jobs = 100):\n",
    "    sleep_train = pd.read_parquet(\"data/train_series.parquet\")"
   ]
  },
  {
   "cell_type": "code",
   "execution_count": 26,
   "id": "04ec05d2-3d20-466b-820d-9f393a86038b",
   "metadata": {
    "tags": []
   },
   "outputs": [
    {
     "data": {
      "text/html": [
       "<div>\n",
       "<style scoped>\n",
       "    .dataframe tbody tr th:only-of-type {\n",
       "        vertical-align: middle;\n",
       "    }\n",
       "\n",
       "    .dataframe tbody tr th {\n",
       "        vertical-align: top;\n",
       "    }\n",
       "\n",
       "    .dataframe thead th {\n",
       "        text-align: right;\n",
       "    }\n",
       "</style>\n",
       "<table border=\"1\" class=\"dataframe\">\n",
       "  <thead>\n",
       "    <tr style=\"text-align: right;\">\n",
       "      <th></th>\n",
       "      <th>series_id</th>\n",
       "      <th>step</th>\n",
       "      <th>timestamp</th>\n",
       "      <th>anglez</th>\n",
       "      <th>enmo</th>\n",
       "    </tr>\n",
       "  </thead>\n",
       "  <tbody>\n",
       "    <tr>\n",
       "      <th>0</th>\n",
       "      <td>038441c925bb</td>\n",
       "      <td>0</td>\n",
       "      <td>2018-08-14T15:30:00-0400</td>\n",
       "      <td>2.6367</td>\n",
       "      <td>0.0217</td>\n",
       "    </tr>\n",
       "    <tr>\n",
       "      <th>1</th>\n",
       "      <td>038441c925bb</td>\n",
       "      <td>1</td>\n",
       "      <td>2018-08-14T15:30:05-0400</td>\n",
       "      <td>2.6368</td>\n",
       "      <td>0.0215</td>\n",
       "    </tr>\n",
       "    <tr>\n",
       "      <th>2</th>\n",
       "      <td>038441c925bb</td>\n",
       "      <td>2</td>\n",
       "      <td>2018-08-14T15:30:10-0400</td>\n",
       "      <td>2.6370</td>\n",
       "      <td>0.0216</td>\n",
       "    </tr>\n",
       "    <tr>\n",
       "      <th>3</th>\n",
       "      <td>038441c925bb</td>\n",
       "      <td>3</td>\n",
       "      <td>2018-08-14T15:30:15-0400</td>\n",
       "      <td>2.6368</td>\n",
       "      <td>0.0213</td>\n",
       "    </tr>\n",
       "    <tr>\n",
       "      <th>4</th>\n",
       "      <td>038441c925bb</td>\n",
       "      <td>4</td>\n",
       "      <td>2018-08-14T15:30:20-0400</td>\n",
       "      <td>2.6368</td>\n",
       "      <td>0.0215</td>\n",
       "    </tr>\n",
       "  </tbody>\n",
       "</table>\n",
       "</div>"
      ],
      "text/plain": [
       "      series_id  step                 timestamp  anglez    enmo\n",
       "0  038441c925bb     0  2018-08-14T15:30:00-0400  2.6367  0.0217\n",
       "1  038441c925bb     1  2018-08-14T15:30:05-0400  2.6368  0.0215\n",
       "2  038441c925bb     2  2018-08-14T15:30:10-0400  2.6370  0.0216\n",
       "3  038441c925bb     3  2018-08-14T15:30:15-0400  2.6368  0.0213\n",
       "4  038441c925bb     4  2018-08-14T15:30:20-0400  2.6368  0.0215"
      ]
     },
     "execution_count": 26,
     "metadata": {},
     "output_type": "execute_result"
    }
   ],
   "source": [
    "sleep_train.head()"
   ]
  },
  {
   "cell_type": "code",
   "execution_count": 27,
   "id": "64030704-60fb-4855-9692-e1b8d64bc231",
   "metadata": {
    "tags": []
   },
   "outputs": [
    {
     "data": {
      "text/plain": [
       "(127946340, 5)"
      ]
     },
     "execution_count": 27,
     "metadata": {},
     "output_type": "execute_result"
    }
   ],
   "source": [
    "sleep_train.shape"
   ]
  },
  {
   "cell_type": "code",
   "execution_count": 28,
   "id": "23f61305-cae7-4fc0-ac98-9943ea26b97b",
   "metadata": {
    "tags": []
   },
   "outputs": [
    {
     "data": {
      "text/html": [
       "<div>\n",
       "<style scoped>\n",
       "    .dataframe tbody tr th:only-of-type {\n",
       "        vertical-align: middle;\n",
       "    }\n",
       "\n",
       "    .dataframe tbody tr th {\n",
       "        vertical-align: top;\n",
       "    }\n",
       "\n",
       "    .dataframe thead th {\n",
       "        text-align: right;\n",
       "    }\n",
       "</style>\n",
       "<table border=\"1\" class=\"dataframe\">\n",
       "  <thead>\n",
       "    <tr style=\"text-align: right;\">\n",
       "      <th></th>\n",
       "      <th>count</th>\n",
       "      <th>mean</th>\n",
       "      <th>std</th>\n",
       "      <th>min</th>\n",
       "      <th>25%</th>\n",
       "      <th>50%</th>\n",
       "      <th>75%</th>\n",
       "      <th>max</th>\n",
       "    </tr>\n",
       "  </thead>\n",
       "  <tbody>\n",
       "    <tr>\n",
       "      <th>step</th>\n",
       "      <td>127946340.0</td>\n",
       "      <td>254804.797188</td>\n",
       "      <td>177892.965593</td>\n",
       "      <td>0.0</td>\n",
       "      <td>115812.0000</td>\n",
       "      <td>234519.0000</td>\n",
       "      <td>357196.0000</td>\n",
       "      <td>1.433879e+06</td>\n",
       "    </tr>\n",
       "    <tr>\n",
       "      <th>anglez</th>\n",
       "      <td>127946340.0</td>\n",
       "      <td>-8.810453</td>\n",
       "      <td>30.157093</td>\n",
       "      <td>-90.0</td>\n",
       "      <td>-31.8589</td>\n",
       "      <td>-9.5979</td>\n",
       "      <td>11.3002</td>\n",
       "      <td>9.000000e+01</td>\n",
       "    </tr>\n",
       "    <tr>\n",
       "      <th>enmo</th>\n",
       "      <td>127946340.0</td>\n",
       "      <td>0.041315</td>\n",
       "      <td>0.097438</td>\n",
       "      <td>0.0</td>\n",
       "      <td>0.0013</td>\n",
       "      <td>0.0172</td>\n",
       "      <td>0.0437</td>\n",
       "      <td>1.143370e+01</td>\n",
       "    </tr>\n",
       "  </tbody>\n",
       "</table>\n",
       "</div>"
      ],
      "text/plain": [
       "              count           mean            std   min          25%  \\\n",
       "step    127946340.0  254804.797188  177892.965593   0.0  115812.0000   \n",
       "anglez  127946340.0      -8.810453      30.157093 -90.0     -31.8589   \n",
       "enmo    127946340.0       0.041315       0.097438   0.0       0.0013   \n",
       "\n",
       "                50%          75%           max  \n",
       "step    234519.0000  357196.0000  1.433879e+06  \n",
       "anglez      -9.5979      11.3002  9.000000e+01  \n",
       "enmo         0.0172       0.0437  1.143370e+01  "
      ]
     },
     "execution_count": 28,
     "metadata": {},
     "output_type": "execute_result"
    }
   ],
   "source": [
    "sleep_train.describe().T"
   ]
  },
  {
   "cell_type": "code",
   "execution_count": 29,
   "id": "8f10f1cb-d78a-4196-adc8-49fd22173791",
   "metadata": {
    "tags": []
   },
   "outputs": [
    {
     "data": {
      "text/plain": [
       "277"
      ]
     },
     "execution_count": 29,
     "metadata": {},
     "output_type": "execute_result"
    }
   ],
   "source": [
    "# number of unique series\n",
    "\n",
    "np.count_nonzero(sleep_train.series_id.unique())"
   ]
  },
  {
   "cell_type": "code",
   "execution_count": 30,
   "id": "080aebe8-6d38-49c6-acd0-fac0a2be6a90",
   "metadata": {
    "tags": []
   },
   "outputs": [
    {
     "name": "stdout",
     "output_type": "stream",
     "text": [
      "<class 'pandas.core.frame.DataFrame'>\n",
      "RangeIndex: 127946340 entries, 0 to 127946339\n",
      "Data columns (total 5 columns):\n",
      " #   Column     Dtype  \n",
      "---  ------     -----  \n",
      " 0   series_id  object \n",
      " 1   step       uint32 \n",
      " 2   timestamp  object \n",
      " 3   anglez     float32\n",
      " 4   enmo       float32\n",
      "dtypes: float32(2), object(2), uint32(1)\n",
      "memory usage: 3.3+ GB\n"
     ]
    }
   ],
   "source": [
    "sleep_train.info()"
   ]
  },
  {
   "cell_type": "code",
   "execution_count": 31,
   "id": "7876b03b-9006-47b5-b065-4bda47839aaf",
   "metadata": {
    "tags": []
   },
   "outputs": [
    {
     "data": {
      "text/plain": [
       "'2017-08-04T17:30:00-0400'"
      ]
     },
     "execution_count": 31,
     "metadata": {},
     "output_type": "execute_result"
    }
   ],
   "source": [
    "sleep_train.timestamp.min()"
   ]
  },
  {
   "cell_type": "code",
   "execution_count": 32,
   "id": "9cb3ee9b-d832-4a6b-a126-e317e611ed5d",
   "metadata": {
    "tags": []
   },
   "outputs": [
    {
     "data": {
      "text/plain": [
       "'2019-07-09T09:44:55-0400'"
      ]
     },
     "execution_count": 32,
     "metadata": {},
     "output_type": "execute_result"
    }
   ],
   "source": [
    "sleep_train.timestamp.max()"
   ]
  },
  {
   "cell_type": "markdown",
   "id": "40963139-ff13-4026-a397-852bb3865429",
   "metadata": {},
   "source": [
    "#### Observations"
   ]
  },
  {
   "cell_type": "markdown",
   "id": "d678c851-fbbf-4c50-b4ba-e4664c6b48a6",
   "metadata": {},
   "source": [
    "The second dataset is sensibly larger. The total unique ids are the same count in both tables. We can conclude that this data represents the observations of the same people (same ids). It includes all records of their routine and lacks the labeling of the two events of interest - \"onset\" and \"wakeup\". Two additional features we gain - \"anglez\" and \"enmo\". \n",
    "\n",
    "There are no missing values. Two of the attributes are type \"object\" - \"series_id\" and \"timestamp\".\n",
    "\n",
    "The time interval is the same in both datasets."
   ]
  },
  {
   "cell_type": "markdown",
   "id": "9531f8f5-c332-4ec8-ba85-16f8a39e9465",
   "metadata": {},
   "source": [
    "We need to think of how to merge the two tables. The data match on the granularity. Let's change the types of columns \"step\" and \"series_id\" to prepare them for a merge."
   ]
  },
  {
   "cell_type": "markdown",
   "id": "b9e8db19-76cf-4861-9767-cd6bd7026341",
   "metadata": {},
   "source": [
    "#### Feature Transformations"
   ]
  },
  {
   "cell_type": "code",
   "execution_count": 33,
   "id": "18b0ed6f-21a3-417d-8e10-80fb3beccab8",
   "metadata": {
    "tags": []
   },
   "outputs": [],
   "source": [
    "sleep_train[\"step\"] = sleep_train.step.astype(float)"
   ]
  },
  {
   "cell_type": "code",
   "execution_count": 34,
   "id": "105843e1-3b90-476b-a60e-f1863eaf82fc",
   "metadata": {
    "tags": []
   },
   "outputs": [],
   "source": [
    "# convert series_id to float64.\n",
    "\n",
    "series_ids = np.array(sleep_train.series_id).reshape(-1, 1)\n",
    "\n",
    "series_ids = encoder.fit_transform(series_ids)"
   ]
  },
  {
   "cell_type": "code",
   "execution_count": 35,
   "id": "db8cb5ee-e10b-4256-93ce-8bc830b27975",
   "metadata": {
    "tags": []
   },
   "outputs": [],
   "source": [
    "sleep_train[\"series_id\"] = series_ids"
   ]
  },
  {
   "cell_type": "code",
   "execution_count": 36,
   "id": "12c5a117-96c3-469f-a79b-32f416c49773",
   "metadata": {
    "tags": []
   },
   "outputs": [
    {
     "data": {
      "text/plain": [
       "series_id    float64\n",
       "step         float64\n",
       "timestamp     object\n",
       "anglez       float32\n",
       "enmo         float32\n",
       "dtype: object"
      ]
     },
     "execution_count": 36,
     "metadata": {},
     "output_type": "execute_result"
    }
   ],
   "source": [
    "sleep_train.dtypes"
   ]
  },
  {
   "cell_type": "code",
   "execution_count": 37,
   "id": "21a02763-5f82-44bb-9f61-75f54146495d",
   "metadata": {
    "tags": []
   },
   "outputs": [
    {
     "data": {
      "text/html": [
       "<div>\n",
       "<style scoped>\n",
       "    .dataframe tbody tr th:only-of-type {\n",
       "        vertical-align: middle;\n",
       "    }\n",
       "\n",
       "    .dataframe tbody tr th {\n",
       "        vertical-align: top;\n",
       "    }\n",
       "\n",
       "    .dataframe thead th {\n",
       "        text-align: right;\n",
       "    }\n",
       "</style>\n",
       "<table border=\"1\" class=\"dataframe\">\n",
       "  <thead>\n",
       "    <tr style=\"text-align: right;\">\n",
       "      <th></th>\n",
       "      <th>series_id</th>\n",
       "      <th>step</th>\n",
       "      <th>timestamp</th>\n",
       "      <th>anglez</th>\n",
       "      <th>enmo</th>\n",
       "    </tr>\n",
       "  </thead>\n",
       "  <tbody>\n",
       "    <tr>\n",
       "      <th>0</th>\n",
       "      <td>0.0</td>\n",
       "      <td>0.0</td>\n",
       "      <td>2018-08-14T15:30:00-0400</td>\n",
       "      <td>2.6367</td>\n",
       "      <td>0.0217</td>\n",
       "    </tr>\n",
       "    <tr>\n",
       "      <th>1</th>\n",
       "      <td>0.0</td>\n",
       "      <td>1.0</td>\n",
       "      <td>2018-08-14T15:30:05-0400</td>\n",
       "      <td>2.6368</td>\n",
       "      <td>0.0215</td>\n",
       "    </tr>\n",
       "    <tr>\n",
       "      <th>2</th>\n",
       "      <td>0.0</td>\n",
       "      <td>2.0</td>\n",
       "      <td>2018-08-14T15:30:10-0400</td>\n",
       "      <td>2.6370</td>\n",
       "      <td>0.0216</td>\n",
       "    </tr>\n",
       "    <tr>\n",
       "      <th>3</th>\n",
       "      <td>0.0</td>\n",
       "      <td>3.0</td>\n",
       "      <td>2018-08-14T15:30:15-0400</td>\n",
       "      <td>2.6368</td>\n",
       "      <td>0.0213</td>\n",
       "    </tr>\n",
       "    <tr>\n",
       "      <th>4</th>\n",
       "      <td>0.0</td>\n",
       "      <td>4.0</td>\n",
       "      <td>2018-08-14T15:30:20-0400</td>\n",
       "      <td>2.6368</td>\n",
       "      <td>0.0215</td>\n",
       "    </tr>\n",
       "  </tbody>\n",
       "</table>\n",
       "</div>"
      ],
      "text/plain": [
       "   series_id  step                 timestamp  anglez    enmo\n",
       "0        0.0   0.0  2018-08-14T15:30:00-0400  2.6367  0.0217\n",
       "1        0.0   1.0  2018-08-14T15:30:05-0400  2.6368  0.0215\n",
       "2        0.0   2.0  2018-08-14T15:30:10-0400  2.6370  0.0216\n",
       "3        0.0   3.0  2018-08-14T15:30:15-0400  2.6368  0.0213\n",
       "4        0.0   4.0  2018-08-14T15:30:20-0400  2.6368  0.0215"
      ]
     },
     "execution_count": 37,
     "metadata": {},
     "output_type": "execute_result"
    }
   ],
   "source": [
    "sleep_train.head()"
   ]
  },
  {
   "cell_type": "markdown",
   "id": "d04b9dde-a6e7-400c-bbf2-e8b7be00a0b6",
   "metadata": {},
   "source": [
    "### Merge train dataset with labels and useful features"
   ]
  },
  {
   "cell_type": "code",
   "execution_count": null,
   "id": "07a90962-6a87-4f25-a28c-b212f2a0dc13",
   "metadata": {},
   "outputs": [],
   "source": [
    "# merge useful information \n",
    "\n",
    "with parallel_backend(\"loky\", n_jobs = 300):\n",
    "    sleep_train_labeled = pd.merge(sleep_train, sleep_events, how = \"left\", on = [\"series_id\", \"step\"], sort = False)"
   ]
  },
  {
   "cell_type": "code",
   "execution_count": null,
   "id": "874f23bf-8d2b-4ab9-b016-d33e170af1f2",
   "metadata": {
    "tags": []
   },
   "outputs": [],
   "source": [
    "sleep_train_labeled.head()"
   ]
  },
  {
   "cell_type": "code",
   "execution_count": null,
   "id": "47821f18-5c5f-4294-b843-b540bfb8f795",
   "metadata": {
    "tags": []
   },
   "outputs": [],
   "source": [
    "sleep_train_labeled.shape"
   ]
  },
  {
   "cell_type": "code",
   "execution_count": null,
   "id": "a7d83bcc-44df-47ef-b16d-318ca5e489fc",
   "metadata": {},
   "outputs": [],
   "source": [
    "sleep_train_labeled.info()"
   ]
  },
  {
   "cell_type": "markdown",
   "id": "eaecd05b-080c-49dd-b48a-503fbd3cd79c",
   "metadata": {},
   "source": [
    "The new dataset consists of the two datasets merged on \"series_id\" and \"step\". The data keeps the original ordering. As the second dataset is larger the order follows the order of the bigger dataset."
   ]
  },
  {
   "cell_type": "markdown",
   "id": "1dd217b9-f3e0-4282-9dac-00f7cde24b11",
   "metadata": {},
   "source": [
    "We end here with events that are none, e.g. we get missing values for column \"event\" for the records of the second dataset that do not match records from the first one.\n",
    "\n",
    "As per documentation there is only one sleep logged in the first dataset per series_id per night. We can then make the assumption that all these events (that are not matching and are none) represent an activity that doesn't interests us.\n",
    "\n",
    "Although the second table is very large it doesn't provide us in essence with significant information, as its events are \"no events\". We get high quantities of close to insignificant data. \n",
    "\n",
    "I decided to replace nones with -1."
   ]
  },
  {
   "cell_type": "code",
   "execution_count": null,
   "id": "b6973d5d-cf36-4121-b822-e414446737f9",
   "metadata": {
    "tags": []
   },
   "outputs": [],
   "source": [
    "sleep_train_labeled[\"event\"] = sleep_train_labeled.event.fillna(-1)\n",
    "\n",
    "sleep_train_labeled.event.unique()"
   ]
  },
  {
   "cell_type": "markdown",
   "id": "0a91bc7a-cf34-4b0b-99b4-692fbc79c6a7",
   "metadata": {},
   "source": [
    "There is a huge class imbalance we need to approach.\n",
    "\n",
    "We need to show during training enough \"no events\" just to give our algorithm sense of what is not an event that interests us. I assume that the loss of \"no event\" data won't detain the algorithm to learn correctly the behavior of the dependant variable.  \n",
    "\n",
    "One very hard decision, but I think most logical thing to do, is to resample the merged data in order to balance the classes. \n",
    "\n",
    "Then I decided to cut down to 5356 the observations with \"no event\". "
   ]
  },
  {
   "cell_type": "markdown",
   "id": "3d2c9fe0-373a-4995-a0b4-a560a1336713",
   "metadata": {},
   "source": [
    "### Undersampling"
   ]
  },
  {
   "cell_type": "code",
   "execution_count": null,
   "id": "d7a19e35-427b-4912-86af-1584aef4973f",
   "metadata": {
    "tags": []
   },
   "outputs": [],
   "source": [
    "# count the classes\n",
    "\n",
    "class_counts = sleep_train_labeled.event.value_counts()\n",
    "class_counts"
   ]
  },
  {
   "cell_type": "code",
   "execution_count": null,
   "id": "426a590e-e803-47dd-a465-88b0ad9db7fc",
   "metadata": {
    "tags": []
   },
   "outputs": [],
   "source": [
    "# find the minimum class counts\n",
    "\n",
    "min_class_count = class_counts.min()\n",
    "min_class_count"
   ]
  },
  {
   "cell_type": "markdown",
   "id": "4a1da7ef-5a4d-475d-a470-c6122045c8e2",
   "metadata": {},
   "source": [
    "One very mportant thing is to keep the original timeline. Through some experiments we get to the knowledge that timeline weights on the work of the algorithm and brought worse results when rows were randomly selected. The preservation of the historical order is important as it gives the patterns of \"sleep events\".\n",
    "\n",
    "With other words we need to make the resampling without shuffling the observations. "
   ]
  },
  {
   "cell_type": "code",
   "execution_count": null,
   "id": "43f9937c-faac-43b9-924c-7dd6a013944a",
   "metadata": {
    "tags": []
   },
   "outputs": [],
   "source": [
    "# Resample each class to have an equal number of samples without shuffling\n",
    "\n",
    "sleep_train_resampled = sleep_train_labeled.groupby(\"event\", group_keys = False).apply(lambda x: x.head(min_class_count))\n",
    "sleep_train_resampled.head()"
   ]
  },
  {
   "cell_type": "code",
   "execution_count": null,
   "id": "11970904-02c4-420e-ae59-8216b86d6741",
   "metadata": {
    "tags": []
   },
   "outputs": [],
   "source": [
    "sleep_train_resampled.event.value_counts()"
   ]
  },
  {
   "cell_type": "markdown",
   "id": "9c6f7e32-6025-4d46-919d-efb5ee64b520",
   "metadata": {},
   "source": [
    "Before we continue let's separate the attributes and labels columns."
   ]
  },
  {
   "cell_type": "markdown",
   "id": "15e7dde9-22b7-4938-84f2-7d39fe56d1db",
   "metadata": {},
   "source": [
    "#### Separate attributes from labels"
   ]
  },
  {
   "cell_type": "code",
   "execution_count": null,
   "id": "6ae8c57c-f550-489b-ab28-3c56c2585700",
   "metadata": {
    "tags": []
   },
   "outputs": [],
   "source": [
    "sleep_train_att_resample = sleep_train_resampled.drop(columns = \"event\")"
   ]
  },
  {
   "cell_type": "code",
   "execution_count": null,
   "id": "08a12271-7350-417e-9f4a-bed6b8289d1c",
   "metadata": {
    "tags": []
   },
   "outputs": [],
   "source": [
    "sleep_train_att_resample.shape"
   ]
  },
  {
   "cell_type": "code",
   "execution_count": null,
   "id": "487d91f4-bd9f-4954-b6a3-d6a7d88b9f7d",
   "metadata": {
    "tags": []
   },
   "outputs": [],
   "source": [
    "sleep_train_lab_resample = sleep_train_resampled.event"
   ]
  },
  {
   "cell_type": "code",
   "execution_count": null,
   "id": "81de671f-1b17-4ff0-9a33-4f6d3986fe11",
   "metadata": {
    "tags": []
   },
   "outputs": [],
   "source": [
    "sleep_train_lab_resample.shape"
   ]
  },
  {
   "cell_type": "markdown",
   "id": "d070d73e-ae95-42ab-a477-bc4b332a07e9",
   "metadata": {},
   "source": [
    "We need to make some final transformations on the values, as when merged we get \"timestamp\" column twice."
   ]
  },
  {
   "cell_type": "markdown",
   "id": "1aac811e-6fb7-4b23-8eed-b414b500269b",
   "metadata": {},
   "source": [
    "### Feature engeneering"
   ]
  },
  {
   "cell_type": "code",
   "execution_count": null,
   "id": "ff062497-f4c2-43fd-9fef-d2b4eb4f7cdd",
   "metadata": {},
   "outputs": [],
   "source": [
    "sleep_train_att_resample[\"timestamp_x\"] = sleep_train_att_resample.timestamp_x.astype(\"datetime64[ns, UTC]\")"
   ]
  },
  {
   "cell_type": "code",
   "execution_count": null,
   "id": "7ee316d5-59ed-49d6-873a-6ee19c3a22d0",
   "metadata": {
    "tags": []
   },
   "outputs": [],
   "source": [
    "sleep_train_att_resample.dtypes"
   ]
  },
  {
   "cell_type": "code",
   "execution_count": null,
   "id": "a4ba13a8-2de4-415d-8e63-69dbc28ac7a5",
   "metadata": {
    "tags": []
   },
   "outputs": [],
   "source": [
    "# Merge two columns timestamp in one\n",
    "\n",
    "sleep_train_att_resample[\"timestamp\"] = sleep_train_att_resample.timestamp_y.fillna(sleep_train_att_resample.timestamp_x)\n",
    "sleep_train_att_resample = sleep_train_att_resample.drop(columns = [\"timestamp_x\", \"timestamp_y\"])\n",
    "sleep_train_att_resample.head()"
   ]
  },
  {
   "cell_type": "markdown",
   "id": "53361645-6f80-43e5-a178-c15e907ddaac",
   "metadata": {},
   "source": [
    "We want to give some higher order features to the algorithm. I assume they might be of big use to understand the wanted function."
   ]
  },
  {
   "cell_type": "markdown",
   "id": "98ba4115-f60c-413d-90c7-307305867514",
   "metadata": {},
   "source": [
    "#### Higher Order Features"
   ]
  },
  {
   "cell_type": "code",
   "execution_count": null,
   "id": "9f4c4a1c-843e-4a1c-a466-d87617cf1c36",
   "metadata": {},
   "outputs": [],
   "source": [
    "# Add columns date and hour\n",
    "\n",
    "sleep_train_att_resample[\"date\"] = sleep_train_att_resample.timestamp.dt.date\n",
    "sleep_train_att_resample[\"hour\"] = sleep_train_att_resample.timestamp.dt.hour"
   ]
  },
  {
   "cell_type": "code",
   "execution_count": null,
   "id": "9761fe9c-0fda-4eaf-bbc9-565d547dfe6e",
   "metadata": {},
   "outputs": [],
   "source": [
    "# Add time delta and step delta between events\n",
    "\n",
    "sleep_train_att_resample[\"step_diff\"] = sleep_train_att_resample.groupby(\"series_id\")[\"step\"].diff()\n",
    "sleep_train_att_resample[\"hour_diff\"] = sleep_train_att_resample.groupby(\"series_id\")[\"hour\"].diff()"
   ]
  },
  {
   "cell_type": "code",
   "execution_count": null,
   "id": "38c1ea6d-9971-4acb-876c-60bd296cb3a1",
   "metadata": {},
   "outputs": [],
   "source": [
    "# Working out the 24 hours substraction\n",
    "\n",
    "hour_diff = [hour_diff + 24 if hour_diff < 0 else hour_diff for hour_diff in sleep_train_att_resample.hour_diff]\n",
    "sleep_train_att_resample.hour_diff = hour_diff"
   ]
  },
  {
   "cell_type": "code",
   "execution_count": null,
   "id": "e17c91e6-6163-40a1-a94b-2c0d811202e1",
   "metadata": {
    "tags": []
   },
   "outputs": [],
   "source": [
    "# Add four new columns for each observation as a \"step\" sliding window \n",
    "\n",
    "def create_shifted_columns(dataset, column_name, shift_range):\n",
    "    \"\"\"\n",
    "    Functions to create new columns that holds information of previous lags.\n",
    "    \n",
    "    Parameters:\n",
    "    dataset - dataset name\n",
    "    column_name - column name to be used for the shift\n",
    "    shift_range - how many columns to be made and lags \n",
    "    \"\"\"\n",
    "    for shift in shift_range:\n",
    "        new_column_name = f\"{column_name}_shifted_{shift}\"\n",
    "        dataset[new_column_name] = dataset[column_name].shift(shift)\n",
    "\n",
    "    return dataset"
   ]
  },
  {
   "cell_type": "code",
   "execution_count": null,
   "id": "7c1124b1-eea2-41d8-8210-a99b30b1a2f3",
   "metadata": {},
   "outputs": [],
   "source": [
    "sleep_train_att_resample = create_shifted_columns(sleep_train_att_resample, \"step\", range(2, 6))"
   ]
  },
  {
   "cell_type": "code",
   "execution_count": null,
   "id": "b63f5e52-ff9b-4536-9490-7dcf74b48b3b",
   "metadata": {},
   "outputs": [],
   "source": [
    "# Fill NA\n",
    "\n",
    "sleep_train_att_resample = sleep_train_att_resample.fillna(0)\n",
    "sleep_train_att_resample.head()"
   ]
  },
  {
   "cell_type": "markdown",
   "id": "7ab916ac-0984-4c47-803d-8fe1ef1f133f",
   "metadata": {},
   "source": [
    "At this point we already derived the usefull information from \"timestamp\". Features \"series_id\", \"night\", \"timestamp\" and \"date\" contain of high entropy. They are not useful features for the predictions and we can drop them.  "
   ]
  },
  {
   "cell_type": "markdown",
   "id": "baa5f3b8-7d9e-4403-904f-ee1a8799f36c",
   "metadata": {},
   "source": [
    "#### Drop Columns"
   ]
  },
  {
   "cell_type": "code",
   "execution_count": null,
   "id": "d1f64be0-dff5-448e-95cd-671f666dd438",
   "metadata": {},
   "outputs": [],
   "source": [
    "sleep_train_att_resample = sleep_train_att_resample.drop(columns = [\"series_id\", \"night\", \"timestamp\", \"date\"])"
   ]
  },
  {
   "cell_type": "code",
   "execution_count": null,
   "id": "41b0995e-ae34-43c9-80a3-d45e4b6cc4d6",
   "metadata": {
    "tags": []
   },
   "outputs": [],
   "source": [
    "sleep_train_att_resample.dtypes"
   ]
  },
  {
   "cell_type": "markdown",
   "id": "df5ac2a8-2be3-4253-8101-62e193e0aca7",
   "metadata": {},
   "source": [
    "I am curious about the features \"anglez\" and \"enmo\". Let's visualize them to better undersand what we have. "
   ]
  },
  {
   "cell_type": "markdown",
   "id": "81be7dbf-e40d-4642-aa9d-cfbb89d61cf9",
   "metadata": {
    "tags": []
   },
   "source": [
    "#### Distributions of variables \"anglez\" and \"enmo\""
   ]
  },
  {
   "cell_type": "markdown",
   "id": "796eec3a-f323-4bfe-8392-6d63f6e938f4",
   "metadata": {},
   "source": [
    "Z-angle is a metric derived from individual accelerometer components that is commonly used in sleep detection, and refers to the angle of the arm relative to the vertical axis of the body."
   ]
  },
  {
   "cell_type": "code",
   "execution_count": null,
   "id": "39791650-1225-4de3-8611-b8eab519b46c",
   "metadata": {
    "tags": []
   },
   "outputs": [],
   "source": [
    "def show_distr(dataset, column, num_bins):\n",
    "    \"\"\"\n",
    "    Visualize variable distribution.\n",
    "    \n",
    "    Parameters:\n",
    "    dataset - name of the dataset\n",
    "    column - name of the column\n",
    "    num_bins - number of bins to display\n",
    "    \"\"\"\n",
    "\n",
    "    plt.hist(dataset[column], alpha = 0.7)\n",
    "    \n",
    "    plt.semilogy()\n",
    "    plt.xlabel(\"Value\")\n",
    "    plt.ylabel(\"Frequency\")\n",
    "    plt.title(column)\n",
    "    plt.show()"
   ]
  },
  {
   "cell_type": "code",
   "execution_count": null,
   "id": "8819792d-d905-4555-a0f4-3968509ee896",
   "metadata": {
    "tags": []
   },
   "outputs": [],
   "source": [
    "show_distr(sleep_train_att_resample, \"anglez\", \"fd\")"
   ]
  },
  {
   "cell_type": "markdown",
   "id": "fa4e678f-6228-477d-9331-7f6cb409ec3b",
   "metadata": {},
   "source": [
    "What we see is close to Gaussian distribution. There are equally spread values around the median, which centers at zero. For better understanding let's check minimum and maximum value."
   ]
  },
  {
   "cell_type": "code",
   "execution_count": null,
   "id": "b773bd7f-3714-4f7c-8483-a5b2f46b88a5",
   "metadata": {
    "tags": []
   },
   "outputs": [],
   "source": [
    "min_anglez, max_anglez = sleep_train_att_resample.anglez.min(), sleep_train_att_resample.anglez.max()"
   ]
  },
  {
   "cell_type": "code",
   "execution_count": null,
   "id": "88a0f0c1-5c66-4826-ab62-ca96cc61f028",
   "metadata": {
    "tags": []
   },
   "outputs": [],
   "source": [
    "min_anglez, max_anglez"
   ]
  },
  {
   "cell_type": "markdown",
   "id": "6cc256ec-5ead-43a9-83cd-144e676c6ed7",
   "metadata": {},
   "source": [
    "Anglez feature is with Gaussian distribution, so we will use standart scaling for its values."
   ]
  },
  {
   "cell_type": "markdown",
   "id": "10672b3f-4a0e-43fc-9d00-2f7c3a46b61a",
   "metadata": {},
   "source": [
    "ENMO is the Euclidean Norm Minus One of all accelerometer signals, with negative values rounded to zero. Let's see how \"enmo\" distribution looks like. "
   ]
  },
  {
   "cell_type": "code",
   "execution_count": null,
   "id": "19912a44-7fe7-4f7f-8e66-e9708d75b09d",
   "metadata": {
    "tags": []
   },
   "outputs": [],
   "source": [
    "show_distr(sleep_train_att_resample, \"enmo\", \"fd\")"
   ]
  },
  {
   "cell_type": "code",
   "execution_count": null,
   "id": "1b1753c4-6908-4f86-a01b-11e7a8f436d0",
   "metadata": {
    "tags": []
   },
   "outputs": [],
   "source": [
    "min_enmo, max_enmo = sleep_train_att_resample.enmo.min(), sleep_train_att_resample.enmo.max()"
   ]
  },
  {
   "cell_type": "code",
   "execution_count": null,
   "id": "f0bbe108-9565-4b88-bc17-b7ec9123e744",
   "metadata": {
    "tags": []
   },
   "outputs": [],
   "source": [
    "min_enmo, max_enmo"
   ]
  },
  {
   "cell_type": "markdown",
   "id": "cb499623-d7ba-4fb7-80ae-e4f54b7c40ec",
   "metadata": {},
   "source": [
    "We see typical exponential decay, distributed between 0 and 1.2."
   ]
  },
  {
   "cell_type": "markdown",
   "id": "bbda421e-e807-4a4d-a118-4263144dca2e",
   "metadata": {},
   "source": [
    "Enmo feature is with Exponential distribution, so we will use MinMax scaling for its values."
   ]
  },
  {
   "cell_type": "markdown",
   "id": "19d2d3a6-2a2a-4715-ab39-4dfff709141a",
   "metadata": {},
   "source": [
    "### Features Engeneering\n",
    "#### Scaling the data"
   ]
  },
  {
   "cell_type": "markdown",
   "id": "329cceaa-2351-4cd1-ae06-ff5f2bdb51ea",
   "metadata": {},
   "source": [
    "To assure all data points lie in the same scale, we need to do some rescaling. All features are suitable for MinMaxScaler, except \"anglez\". We will transform \"anglez\" on the standard scale."
   ]
  },
  {
   "cell_type": "markdown",
   "id": "faec69ba-07f6-40f1-95c8-20c0c1a717ce",
   "metadata": {},
   "source": [
    "##### Anglez with StandardScaler"
   ]
  },
  {
   "cell_type": "code",
   "execution_count": null,
   "id": "1bca42bb-898d-45ab-a34d-e63c434fa733",
   "metadata": {},
   "outputs": [],
   "source": [
    "std_scaler = StandardScaler()"
   ]
  },
  {
   "cell_type": "code",
   "execution_count": null,
   "id": "ef39fc13-9772-4ad9-9e23-36ab99775e18",
   "metadata": {
    "tags": []
   },
   "outputs": [],
   "source": [
    "anglez = np.array(sleep_train_att_resample.anglez).reshape(-1, 1)"
   ]
  },
  {
   "cell_type": "code",
   "execution_count": null,
   "id": "1e2c362c-5d60-4ca0-8374-f535ea6ebe1b",
   "metadata": {
    "tags": []
   },
   "outputs": [],
   "source": [
    "std_scaler.fit(anglez)"
   ]
  },
  {
   "cell_type": "code",
   "execution_count": null,
   "id": "04105f86-b69f-47e5-8258-ca9464c937a8",
   "metadata": {
    "tags": []
   },
   "outputs": [],
   "source": [
    "anglez = std_scaler.transform(anglez)"
   ]
  },
  {
   "cell_type": "code",
   "execution_count": null,
   "id": "2eb6e699-19e5-4ca6-bf30-65bd6da6285f",
   "metadata": {
    "tags": []
   },
   "outputs": [],
   "source": [
    "anglez.min(), anglez.max(), anglez.mean(), anglez.std()"
   ]
  },
  {
   "cell_type": "markdown",
   "id": "5c591364-3d93-4214-9035-f4f1c440021f",
   "metadata": {},
   "source": [
    "##### Others with MinMaxScaler"
   ]
  },
  {
   "cell_type": "code",
   "execution_count": null,
   "id": "7376b46f-5e48-4db6-a9ef-124e62ba30a6",
   "metadata": {},
   "outputs": [],
   "source": [
    "mm_scaler = MinMaxScaler()"
   ]
  },
  {
   "cell_type": "code",
   "execution_count": null,
   "id": "c29b6694-db10-4d36-bf19-c1904cf16ed1",
   "metadata": {},
   "outputs": [],
   "source": [
    "mm_features = np.array(sleep_train_att_resample.drop(columns = [\"anglez\"]))"
   ]
  },
  {
   "cell_type": "code",
   "execution_count": null,
   "id": "e02a1d56-8f90-4364-bcef-852c706ac5a2",
   "metadata": {},
   "outputs": [],
   "source": [
    "mm_scaler.fit(mm_features)"
   ]
  },
  {
   "cell_type": "code",
   "execution_count": null,
   "id": "8ce1787a-a5b4-4a23-8c13-602d0fd3e046",
   "metadata": {
    "tags": []
   },
   "outputs": [],
   "source": [
    "mm_features = mm_scaler.transform(mm_features)"
   ]
  },
  {
   "cell_type": "code",
   "execution_count": null,
   "id": "60b69b7e-c81d-4c76-8643-c57af7369152",
   "metadata": {
    "tags": []
   },
   "outputs": [],
   "source": [
    "col_names = [\"step\", \"enmo\", \"hour\", \"step_diff\", \"hour_diff\", \"step_shifted_2\", \"step_shifted_3\", \"step_shifted_4\", \"step_shifted_5\"]"
   ]
  },
  {
   "cell_type": "code",
   "execution_count": null,
   "id": "47475d4d-7fc2-41e7-a981-f6f872eb773c",
   "metadata": {
    "tags": []
   },
   "outputs": [],
   "source": [
    "sleep_train_att_resample = pd.DataFrame(mm_features)"
   ]
  },
  {
   "cell_type": "code",
   "execution_count": null,
   "id": "ee572d7a-78d5-4a1d-951f-fdd680e5e0f4",
   "metadata": {
    "tags": []
   },
   "outputs": [],
   "source": [
    "sleep_train_att_resample.columns = col_names"
   ]
  },
  {
   "cell_type": "code",
   "execution_count": null,
   "id": "32c3a9a8-2dd9-48e4-af65-d84ef3547850",
   "metadata": {
    "tags": []
   },
   "outputs": [],
   "source": [
    "sleep_train_att_resample[\"anglez\"] = anglez"
   ]
  },
  {
   "cell_type": "code",
   "execution_count": null,
   "id": "0d4a764c-3d4a-4831-b20b-f2310bb5cc23",
   "metadata": {
    "tags": []
   },
   "outputs": [],
   "source": [
    "sleep_train_att_resample.head()"
   ]
  },
  {
   "cell_type": "code",
   "execution_count": null,
   "id": "3b4fc402-1932-4be1-8139-947889c01748",
   "metadata": {
    "tags": []
   },
   "outputs": [],
   "source": [
    "sleep_train_att_resample.shape"
   ]
  },
  {
   "cell_type": "markdown",
   "id": "2164a487-7609-4195-bf87-3451485b3e40",
   "metadata": {},
   "source": [
    "One very important step on the way is to split our dataset to four pieces. All four pieces will be functionally separated to do different tasks. We need two pieces to train our models (attributes and labels) and two to perform some tests."
   ]
  },
  {
   "cell_type": "markdown",
   "id": "2a7716b6-e565-42d9-86ae-8c2d580d6b7b",
   "metadata": {},
   "source": [
    "### Train and test split"
   ]
  },
  {
   "cell_type": "code",
   "execution_count": null,
   "id": "f8f1f656-7cca-48c3-9760-0cbe207f3415",
   "metadata": {
    "tags": []
   },
   "outputs": [],
   "source": [
    "sleep_attributes, sleep_labels = sleep_train_att_resample, sleep_train_lab_resample"
   ]
  },
  {
   "cell_type": "code",
   "execution_count": null,
   "id": "9fb31abe-53f1-4190-8ecd-9fabe97466d0",
   "metadata": {},
   "outputs": [],
   "source": [
    "sleep_attributes_train, sleep_attributes_test, sleep_labels_train, sleep_labels_test = train_test_split(sleep_attributes, sleep_labels, test_size = 0.35, random_state = 11)"
   ]
  },
  {
   "cell_type": "markdown",
   "id": "b898d69f-a35b-4412-b0e7-c9aa94ed94a6",
   "metadata": {},
   "source": [
    "There are two parameters that were fixed during this process. Random state so we could have reproducible research. Test size was fixed to 35% of total data. \n",
    "\n",
    "This is higher that the default size, as during algorithm testing I have the hypothesis that testset was too easy in some way. I get consistently higher accuracy scores on the testset than the trainset."
   ]
  },
  {
   "cell_type": "markdown",
   "id": "75269bc4-c0b0-41aa-b2d9-45f2d77a5791",
   "metadata": {},
   "source": [
    "It is good and timesaving practice to save these 4 final data pieces as pickle objects. This could save us tons of time to rerun the whole preprocessing.  "
   ]
  },
  {
   "cell_type": "markdown",
   "id": "e20de60a-f25e-4a3d-a719-18bdb4630cc0",
   "metadata": {},
   "source": [
    "### Pickle Files"
   ]
  },
  {
   "cell_type": "markdown",
   "id": "0f2ce98f-7ece-4488-88af-8b41177f8d9a",
   "metadata": {},
   "source": [
    "We did a great job. Let'save the train and test datasets with serialization."
   ]
  },
  {
   "cell_type": "code",
   "execution_count": null,
   "id": "5de8b799-4976-481b-baad-9bf322688e30",
   "metadata": {
    "tags": []
   },
   "outputs": [],
   "source": [
    "with open(\"sleep_attributes_train.pkl\", \"wb\") as f:   # open a pkl file\n",
    "    pickle.dump(sleep_attributes_train, f)            # serialize the attributes trainset\n",
    "f.close"
   ]
  },
  {
   "cell_type": "code",
   "execution_count": null,
   "id": "5febf670-4d16-4e06-a4d2-09bf0ac9b67a",
   "metadata": {
    "tags": []
   },
   "outputs": [],
   "source": [
    "with open(\"sleep_attributes_test.pkl\", \"wb\") as f:   # open a pkl file\n",
    "    pickle.dump(sleep_attributes_test, f)            # serialize the attributes testset\n",
    "f.close"
   ]
  },
  {
   "cell_type": "code",
   "execution_count": null,
   "id": "69c80a77-37dc-4910-85da-5189eb88ad30",
   "metadata": {
    "tags": []
   },
   "outputs": [],
   "source": [
    "with open(\"sleep_labels_train.pkl\", \"wb\") as f:   # open a pkl file\n",
    "    pickle.dump(sleep_labels_train, f)            # serialize the labels trainset\n",
    "f.close"
   ]
  },
  {
   "cell_type": "code",
   "execution_count": null,
   "id": "8f00af50-ac04-4a08-b6fe-adca90b12079",
   "metadata": {
    "tags": []
   },
   "outputs": [],
   "source": [
    "with open(\"sleep_labels_test.pkl\", \"wb\") as f:   # open a pkl file\n",
    "    pickle.dump(sleep_labels_test, f)            # serialize the labels testset\n",
    "f.close"
   ]
  },
  {
   "cell_type": "markdown",
   "id": "9cecd31d-4a78-4891-a908-f8c95be3cf23",
   "metadata": {},
   "source": [
    "### Algorithm"
   ]
  },
  {
   "cell_type": "markdown",
   "id": "9ef58575-fc3a-449d-b216-40466e6bcbb2",
   "metadata": {},
   "source": [
    "We do a classification on 3 classes with relatively small dataset (16 065 records). Let's try SVMs and Decision Tree (or Forest/s) for our predictive algorithm. "
   ]
  },
  {
   "cell_type": "markdown",
   "id": "ece1dd8e-0fbe-4cbd-b578-552fe766a5c4",
   "metadata": {},
   "source": [
    "### SVMs \n",
    "For 3 classes the algorithm trains three algorithms separately as calculated in the formula:\n",
    "\n",
    "$$ \\frac{c \\times (c - 1)}{2} $$\n",
    "\n",
    "where $c$ = n_classes"
   ]
  },
  {
   "cell_type": "markdown",
   "id": "02a2f5f8-1d69-4465-9cc4-bc7030ff1407",
   "metadata": {
    "tags": []
   },
   "source": [
    "SVMs computation is with high complexity, that strongly depends on the number of observations, as well the number of features.\n",
    "$$ m \\times n^2 $$\n",
    "$m$ - features\n",
    "$n$ - observations\n",
    "\n",
    "However our dataset is relatively small and suitable to be used with SVM."
   ]
  },
  {
   "cell_type": "markdown",
   "id": "4bdf0e38-3ea5-423a-92e0-a4bd1a3d5ee1",
   "metadata": {},
   "source": [
    "### Nu SVM"
   ]
  },
  {
   "cell_type": "code",
   "execution_count": null,
   "id": "90130466-26f3-456d-b3e6-a7d077991c8a",
   "metadata": {},
   "outputs": [],
   "source": [
    "nu_svm = NuSVC(kernel = \"rbf\", \n",
    "               gamma = \"scale\", \n",
    "               nu = 0.28, \n",
    "               random_state = 11, \n",
    "               probability = True)"
   ]
  },
  {
   "cell_type": "code",
   "execution_count": null,
   "id": "74a84dc7-7355-4443-bfec-8a2146a89647",
   "metadata": {},
   "outputs": [],
   "source": [
    "nu_svm.fit(sleep_attributes_train, sleep_labels_train)"
   ]
  },
  {
   "cell_type": "code",
   "execution_count": null,
   "id": "a6bf4933-59aa-40fd-83bf-c2e237159f62",
   "metadata": {
    "tags": []
   },
   "outputs": [],
   "source": [
    "predictions_nu_svm = nu_svm.predict(sleep_attributes_test)"
   ]
  },
  {
   "cell_type": "code",
   "execution_count": null,
   "id": "c35fe7d6-ac41-4244-bf80-90b31781a90b",
   "metadata": {
    "tags": []
   },
   "outputs": [],
   "source": [
    "predictions_proba = nu_svm.predict_proba(sleep_attributes_test)"
   ]
  },
  {
   "cell_type": "markdown",
   "id": "14a1d7f4-08a6-4285-bf22-00aad573c512",
   "metadata": {},
   "source": [
    "#### Evaluation metrics"
   ]
  },
  {
   "cell_type": "code",
   "execution_count": null,
   "id": "a6fd4953-0c29-4997-b0bc-7e5b5a2aee34",
   "metadata": {
    "tags": []
   },
   "outputs": [],
   "source": [
    "scores_nu_svm = cross_val_score(nu_svm, sleep_attributes_train, sleep_labels_train, cv = 4)\n",
    "scores_nu_svm"
   ]
  },
  {
   "cell_type": "code",
   "execution_count": null,
   "id": "247c0c3b-f3a7-4b45-9928-d04085251715",
   "metadata": {
    "tags": []
   },
   "outputs": [],
   "source": [
    "nu_svm.score(sleep_attributes_test, sleep_labels_test)"
   ]
  },
  {
   "cell_type": "code",
   "execution_count": null,
   "id": "8b1399f5-fc2c-4065-90a1-940eaafe1a65",
   "metadata": {
    "tags": []
   },
   "outputs": [],
   "source": [
    "len(nu_svm.support_vectors_)"
   ]
  },
  {
   "cell_type": "code",
   "execution_count": null,
   "id": "df5f4b23-e6e3-40fc-8209-5aebb5a20e1a",
   "metadata": {
    "tags": []
   },
   "outputs": [],
   "source": [
    "nu_svm.intercept_"
   ]
  },
  {
   "cell_type": "markdown",
   "id": "48dbb9ad-4bae-49db-a11b-4b58c807fdf2",
   "metadata": {},
   "source": [
    "#### One-vs-one multiclass ROC"
   ]
  },
  {
   "cell_type": "code",
   "execution_count": null,
   "id": "20957892-1df1-4e5a-88e1-32a1f9f338af",
   "metadata": {
    "tags": []
   },
   "outputs": [],
   "source": [
    "roc_auc_score = roc_auc_score(sleep_labels_test, predictions_proba, multi_class = \"ovo\")"
   ]
  },
  {
   "cell_type": "code",
   "execution_count": null,
   "id": "9e7a8f2a-1289-4a52-b3f4-fda08be4a176",
   "metadata": {
    "tags": []
   },
   "outputs": [],
   "source": [
    "roc_auc_score"
   ]
  },
  {
   "cell_type": "markdown",
   "id": "35d6ea93-2a6d-4aa3-8f1a-0d3574e6c2ea",
   "metadata": {},
   "source": [
    "### Linear SVM"
   ]
  },
  {
   "cell_type": "code",
   "execution_count": null,
   "id": "10a6a1ef-5796-4950-85ae-041dfc380647",
   "metadata": {
    "tags": []
   },
   "outputs": [],
   "source": [
    "lin_svm = LinearSVC(C = 0.6,\n",
    "                       multi_class = \"ovr\",\n",
    "                       dual = \"auto\",\n",
    "                       random_state = 11)"
   ]
  },
  {
   "cell_type": "code",
   "execution_count": null,
   "id": "a4ccc121-4a2b-47e0-ac91-ed19eb783139",
   "metadata": {
    "tags": []
   },
   "outputs": [],
   "source": [
    "lin_svm.fit(sleep_attributes_train, sleep_labels_train)"
   ]
  },
  {
   "cell_type": "code",
   "execution_count": null,
   "id": "b808046a-a6a2-4bb5-a601-81f24721385c",
   "metadata": {
    "tags": []
   },
   "outputs": [],
   "source": [
    "predictions_lin_svm = lin_svm.predict(sleep_attributes_test)"
   ]
  },
  {
   "cell_type": "markdown",
   "id": "246ed813-88d6-410c-9063-49e360ba6a8d",
   "metadata": {
    "tags": []
   },
   "source": [
    "#### Evaluation Metrics"
   ]
  },
  {
   "cell_type": "code",
   "execution_count": null,
   "id": "2c9de92e-ced4-4462-8785-fa3839c101cd",
   "metadata": {
    "tags": []
   },
   "outputs": [],
   "source": [
    "cv_scores_lin_svm = cross_val_score(lin_svm, sleep_attributes_train, sleep_labels_train, cv = 4)\n",
    "cv_scores_lin_svm"
   ]
  },
  {
   "cell_type": "code",
   "execution_count": null,
   "id": "dc44a344-04b3-47ad-8d7f-38479d1be669",
   "metadata": {
    "tags": []
   },
   "outputs": [],
   "source": [
    "lin_svm.score(sleep_attributes_test, sleep_labels_test)"
   ]
  },
  {
   "cell_type": "code",
   "execution_count": null,
   "id": "baed9919-2255-4b67-ac0a-1b99349eeda1",
   "metadata": {
    "tags": []
   },
   "outputs": [],
   "source": [
    "lin_svm.coef_"
   ]
  },
  {
   "cell_type": "markdown",
   "id": "6355fe35-b112-4658-b803-8a3c966d5485",
   "metadata": {},
   "source": [
    "### Polinomial SVM"
   ]
  },
  {
   "cell_type": "code",
   "execution_count": null,
   "id": "cb88702b-be45-485e-a32b-04029b884c69",
   "metadata": {
    "tags": []
   },
   "outputs": [],
   "source": [
    "poly_svm = SVC(C = 1, \n",
    "               kernel = \"poly\", \n",
    "               degree = 2, \n",
    "               random_state = 11)"
   ]
  },
  {
   "cell_type": "code",
   "execution_count": null,
   "id": "99c2e9c4-3dbf-44cb-957c-dcd81be8fabc",
   "metadata": {
    "tags": []
   },
   "outputs": [],
   "source": [
    "poly_svm.fit(sleep_attributes_train, sleep_labels_train)"
   ]
  },
  {
   "cell_type": "code",
   "execution_count": null,
   "id": "765639a8-5188-4a1b-9e74-8ddf334b52f1",
   "metadata": {
    "tags": []
   },
   "outputs": [],
   "source": [
    "predictions_poly_svm = poly_svm.predict(sleep_attributes_test)"
   ]
  },
  {
   "cell_type": "markdown",
   "id": "95db7b84-7fe7-4852-a8e2-03d44a6a8458",
   "metadata": {},
   "source": [
    "#### Evaluation Metrics"
   ]
  },
  {
   "cell_type": "code",
   "execution_count": null,
   "id": "4cba53ab-82e7-475e-862d-2fbf7d23c1ec",
   "metadata": {
    "tags": []
   },
   "outputs": [],
   "source": [
    "cv_scores_poly_svm = cross_val_score(poly_svm, sleep_attributes_train, sleep_labels_train, cv = 4)\n",
    "cv_scores_poly_svm"
   ]
  },
  {
   "cell_type": "code",
   "execution_count": null,
   "id": "70561bb5-c7a6-4861-9682-d926e5e14610",
   "metadata": {
    "tags": []
   },
   "outputs": [],
   "source": [
    "poly_svm.score(sleep_attributes_test, sleep_labels_test)"
   ]
  },
  {
   "cell_type": "code",
   "execution_count": null,
   "id": "5ba01c83-1c7a-4160-bb46-09b0bfdbc202",
   "metadata": {
    "tags": []
   },
   "outputs": [],
   "source": [
    "poly_svm.classes_"
   ]
  },
  {
   "cell_type": "code",
   "execution_count": null,
   "id": "d3e67cf9-be4c-450a-a47c-0bb788b1289e",
   "metadata": {
    "tags": []
   },
   "outputs": [],
   "source": [
    "poly_svm.class_weight_"
   ]
  },
  {
   "cell_type": "code",
   "execution_count": null,
   "id": "c2d17aa9-81e5-436b-a9bf-aa4c521fb544",
   "metadata": {
    "tags": []
   },
   "outputs": [],
   "source": [
    "poly_svm.dual_coef_"
   ]
  },
  {
   "cell_type": "markdown",
   "id": "55838476-603f-4873-a98f-18eec13190c5",
   "metadata": {},
   "source": [
    "### Decision Tree"
   ]
  },
  {
   "cell_type": "code",
   "execution_count": null,
   "id": "74f77149-9f3e-4ce2-a5b8-1dc3daee13ca",
   "metadata": {},
   "outputs": [],
   "source": [
    "tree = DecisionTreeClassifier(criterion = \"gini\", splitter = \"best\", max_depth = 10, random_state = 11)"
   ]
  },
  {
   "cell_type": "code",
   "execution_count": null,
   "id": "e807ee27-dc19-4293-82e7-c76b7634bab8",
   "metadata": {},
   "outputs": [],
   "source": [
    "tree.fit(sleep_attributes_train, sleep_labels_train)"
   ]
  },
  {
   "cell_type": "code",
   "execution_count": null,
   "id": "de443e27-07c2-40be-a703-8725a9fa9107",
   "metadata": {},
   "outputs": [],
   "source": [
    "predictions_tree = tree.predict(sleep_attributes_test)"
   ]
  },
  {
   "cell_type": "code",
   "execution_count": null,
   "id": "4a117efd-d362-4fdd-b8f8-725b23d0a703",
   "metadata": {},
   "outputs": [],
   "source": [
    "tree.feature_importances_"
   ]
  },
  {
   "cell_type": "code",
   "execution_count": null,
   "id": "76652f67-a471-4716-8d9b-8ac39782f56e",
   "metadata": {
    "tags": []
   },
   "outputs": [],
   "source": [
    "permutation_importance(tree, sleep_attributes_train, sleep_labels_train)"
   ]
  },
  {
   "cell_type": "code",
   "execution_count": null,
   "id": "15333972-925e-4954-aaec-924606679a79",
   "metadata": {
    "tags": []
   },
   "outputs": [],
   "source": [
    "tree.feature_names_in_"
   ]
  },
  {
   "cell_type": "markdown",
   "id": "a9c114d5-d2bb-44cb-9033-83bcd3a6d8ec",
   "metadata": {},
   "source": [
    "#### Evaluation Metrics"
   ]
  },
  {
   "cell_type": "code",
   "execution_count": null,
   "id": "6eec66ed-61a2-42be-a577-f60a309753c7",
   "metadata": {
    "tags": []
   },
   "outputs": [],
   "source": [
    "cv_scores_tree = cross_val_score(tree, sleep_attributes_train, sleep_labels_train, cv = 4)\n",
    "cv_scores_tree"
   ]
  },
  {
   "cell_type": "code",
   "execution_count": null,
   "id": "a75671e7-5361-4c03-ab39-56529e8f7c2c",
   "metadata": {
    "tags": []
   },
   "outputs": [],
   "source": [
    "tree.score(sleep_attributes_test, sleep_labels_test)"
   ]
  },
  {
   "cell_type": "markdown",
   "id": "144f817b-70d7-4e9e-842a-b732a83f9156",
   "metadata": {},
   "source": [
    "### Other Evaluation Metrics"
   ]
  },
  {
   "cell_type": "markdown",
   "id": "ff3e0d98-074d-4e61-981d-b62e3303f517",
   "metadata": {},
   "source": [
    "#### Classification report"
   ]
  },
  {
   "cell_type": "code",
   "execution_count": null,
   "id": "a679338f-6438-4494-8ad2-6e89c69615b9",
   "metadata": {},
   "outputs": [],
   "source": [
    "labels_names = [\"no_event\", \"onset\", \"wakeup\"]"
   ]
  },
  {
   "cell_type": "code",
   "execution_count": null,
   "id": "ae3c097a-f0d2-4b2a-8ebf-e4b5ed9ff260",
   "metadata": {},
   "outputs": [],
   "source": [
    "print(\"Nu SVM \" + classification_report(sleep_labels_test, predictions_nu_svm))\n",
    "print(\"Linear SVM \" + classification_report(sleep_labels_test, predictions_lin_svm))\n",
    "print(\"Poly SVM \" + classification_report(sleep_labels_test, predictions_poly_svm))\n",
    "print(\"Decision Tree \" + classification_report(sleep_labels_test, predictions_tree))"
   ]
  },
  {
   "cell_type": "markdown",
   "id": "afa12c74-b123-4b27-852c-1ae8b096918f",
   "metadata": {},
   "source": [
    "#### Classes histogram"
   ]
  },
  {
   "cell_type": "markdown",
   "id": "a8f04737-6ffd-4286-9ddf-578d2405358e",
   "metadata": {},
   "source": [
    "Let's visualize the actual labels versus predictions. "
   ]
  },
  {
   "cell_type": "code",
   "execution_count": null,
   "id": "cdc625f7-79ff-44cb-a00b-de03a263a76d",
   "metadata": {},
   "outputs": [],
   "source": [
    "def display_resuduals(actual_set_name, prediction_set_name, title):\n",
    "    \"\"\"\n",
    "    Function to display resudual histogram.\n",
    "    \n",
    "    Parameters:\n",
    "    actual_set_name - dataset name with actuals\n",
    "    prediction_set_name - dataset name with predictions\n",
    "    title - title of the diagram\n",
    "    \"\"\"\n",
    "    \n",
    "    plt.hist(actual_set_name, color = \"c\", alpha = 0.7, label = \"Actuals\")\n",
    "    plt.hist(prediction_set_name, color = \"y\", alpha = 0.7, label = \"Predictions\")\n",
    "\n",
    "    plt.title(title)\n",
    "    plt.xlabel(\"Classes\")\n",
    "    plt.ylabel(\"Frequency\")\n",
    "    plt.xticks([-1, 0, 1])\n",
    "    plt.ylim(0, 2350)\n",
    "    plt.legend()"
   ]
  },
  {
   "cell_type": "code",
   "execution_count": null,
   "id": "47151f70-33ab-40f6-b9a7-fa7c2bc21a24",
   "metadata": {},
   "outputs": [],
   "source": [
    "fig = plt.figure(figsize = (9, 11))\n",
    "rows, cols = 2, 2\n",
    "\n",
    "fig.add_subplot(rows, cols, 1)\n",
    "display_resuduals(sleep_labels_test, predictions_nu_svm, \"Nu SVM\")\n",
    "\n",
    "fig.add_subplot(rows, cols, 2)\n",
    "display_resuduals(sleep_labels_test, predictions_lin_svm, \"Linear SVM\")\n",
    "\n",
    "fig.add_subplot(rows, cols, 3)\n",
    "display_resuduals(sleep_labels_test, predictions_poly_svm, \"Polinomial SVM\")\n",
    "\n",
    "fig.add_subplot(rows, cols, 4)\n",
    "display_resuduals(sleep_labels_test, predictions_tree, \"Decision Tree\")\n",
    "\n",
    "plt.show()"
   ]
  },
  {
   "cell_type": "markdown",
   "id": "5995bc95-d706-4571-9fd9-7a10af4ee890",
   "metadata": {},
   "source": [
    "#### Confusion Matrix"
   ]
  },
  {
   "cell_type": "code",
   "execution_count": null,
   "id": "42c75c3a-aeca-4e5a-92ab-5a7ab327201c",
   "metadata": {
    "tags": []
   },
   "outputs": [],
   "source": [
    "def make_cm_df(predictions):\n",
    "    cm_name = confusion_matrix(sleep_labels_test, predictions)\n",
    "    cm_df = pd.DataFrame(cm_name, index = labels_names, columns = labels_names)\n",
    "    return cm_df"
   ]
  },
  {
   "cell_type": "code",
   "execution_count": null,
   "id": "83ae22fb-9280-4b3c-9906-e1d09e96ba1a",
   "metadata": {
    "tags": []
   },
   "outputs": [],
   "source": [
    "def visualize_cm(data, title):\n",
    "    \"\"\"\n",
    "    Plots a Confusion Matrix.\n",
    "    \n",
    "    Parameters:\n",
    "    data - dataset name\n",
    "    title - title for the matrix\n",
    "    \"\"\"\n",
    "    sns.heatmap(data\n",
    "            , annot = True\n",
    "            , fmt = \"g\"\n",
    "            , cmap = \"crest\"\n",
    "           )\n",
    "    plt.ylabel(\"Prediction\", fontsize = 13)\n",
    "    plt.xlabel(\"Actual\", fontsize = 13)\n",
    "    plt.title(title, fontsize = 17)\n",
    "    plt.show()"
   ]
  },
  {
   "cell_type": "code",
   "execution_count": null,
   "id": "caae2d00-e47d-4fd4-8d8a-ca45f05fc85f",
   "metadata": {
    "tags": []
   },
   "outputs": [],
   "source": [
    "visualize_cm(make_cm_df(predictions_nu_svm), \"Nu SVM Confusion Matrix\")"
   ]
  },
  {
   "cell_type": "code",
   "execution_count": null,
   "id": "a5fdc501-757c-482f-b734-2e77be3c92d9",
   "metadata": {
    "tags": []
   },
   "outputs": [],
   "source": [
    "visualize_cm(make_cm_df(predictions_lin_svm), \"Linear SVM Confusion Matrix\")"
   ]
  },
  {
   "cell_type": "code",
   "execution_count": null,
   "id": "0a393a00-1155-4124-867c-60971a6300bb",
   "metadata": {
    "tags": []
   },
   "outputs": [],
   "source": [
    "visualize_cm(make_cm_df(predictions_poly_svm), \"Poly SVM Confusion Matrix\")"
   ]
  },
  {
   "cell_type": "code",
   "execution_count": null,
   "id": "78a506d8-0465-4204-b1aa-79f587582dea",
   "metadata": {
    "tags": []
   },
   "outputs": [],
   "source": [
    "visualize_cm(make_cm_df(predictions_tree), \"Decision Tree Confusion Matrix\")"
   ]
  },
  {
   "cell_type": "markdown",
   "id": "43183553-9ed5-4252-a5db-49a85171a026",
   "metadata": {},
   "source": [
    "#### Visualize ROC curve\n",
    "This plot allows us to visualize the tradeoff between the classifier’s sensitivity and specificity."
   ]
  },
  {
   "cell_type": "code",
   "execution_count": null,
   "id": "c33c659f-1e1d-40aa-b9e5-93196ad2c2e0",
   "metadata": {
    "tags": []
   },
   "outputs": [],
   "source": [
    "def display_roc_auc(model):\n",
    "    roc_auc(model, sleep_attributes_train, sleep_labels_train, X_test = sleep_attributes_test, y_test = sleep_labels_test)"
   ]
  },
  {
   "cell_type": "code",
   "execution_count": null,
   "id": "892d8ee3-a91c-4f9c-a689-3b5e856c37af",
   "metadata": {
    "tags": []
   },
   "outputs": [],
   "source": [
    "display_roc_auc(nu_svm)"
   ]
  },
  {
   "cell_type": "code",
   "execution_count": null,
   "id": "40b2cf38-61aa-49f5-aa54-50d68604199f",
   "metadata": {
    "tags": []
   },
   "outputs": [],
   "source": [
    "display_roc_auc(lin_svm)"
   ]
  },
  {
   "cell_type": "code",
   "execution_count": null,
   "id": "b4d5c3e6-7e72-467f-89a5-fba192f532f5",
   "metadata": {
    "tags": []
   },
   "outputs": [],
   "source": [
    "display_roc_auc(poly_svm)"
   ]
  },
  {
   "cell_type": "code",
   "execution_count": null,
   "id": "e559324f-5d88-4d25-9708-30b6d4f17ad9",
   "metadata": {
    "tags": []
   },
   "outputs": [],
   "source": [
    "display_roc_auc(tree)"
   ]
  },
  {
   "cell_type": "markdown",
   "id": "cff43858-1129-4c3f-89ae-1e71d79176f4",
   "metadata": {},
   "source": [
    "### Final Conclusions\n",
    "All four algorithms make amazing job. However according to all evaluation metrics shown a single decision tree beats them all. \n",
    "\n",
    "There is something very important to be noticed. No matter the algorithm types and hyperparameter tuning, the thing that brought us these amazing results is the right preprocessing of the data."
   ]
  },
  {
   "cell_type": "markdown",
   "id": "b182d7bc-aa38-4da0-a052-e7c4ed0a122d",
   "metadata": {},
   "source": [
    "### References"
   ]
  },
  {
   "cell_type": "markdown",
   "id": "ae7a933f-4910-4027-bdcf-5259ff1c05d3",
   "metadata": {},
   "source": [
    "[sklearn doc](https://scikit-learn.org/stable/)"
   ]
  },
  {
   "cell_type": "markdown",
   "id": "4ab858fd-be84-4569-83ac-b4d979d7008c",
   "metadata": {},
   "source": [
    "[neptune ai](https://neptune.ai/blog/time-series-prediction-vs-machine-learning)"
   ]
  },
  {
   "cell_type": "markdown",
   "id": "9ebf6342-0b01-42bc-80dc-cbce524ef633",
   "metadata": {
    "tags": []
   },
   "source": [
    "[towardsdatascience time series](https://towardsdatascience.com/ml-approaches-for-time-series-4d44722e48fe)"
   ]
  },
  {
   "cell_type": "markdown",
   "id": "5b493769-0676-497d-bb58-7f004c90f305",
   "metadata": {
    "tags": []
   },
   "source": [
    "[ml-cheatsheet](https://ml-cheatsheet.readthedocs.io/en/latest/classification_algos.html?highlight=svm#support-vector-machine)"
   ]
  },
  {
   "cell_type": "markdown",
   "id": "298bc4d6-b475-4a11-a221-46555d6c5b1f",
   "metadata": {},
   "source": [
    "[analyticsvidhya](https://www.analyticsvidhya.com/blog/2021/06/confusion-matrix-for-multi-class-classification/#Confusion_Matrix_for_Multi-Class_Classification)"
   ]
  },
  {
   "cell_type": "markdown",
   "id": "f75606dd-0325-46bc-848b-c58cb5a9cb2c",
   "metadata": {
    "tags": []
   },
   "source": [
    "[medium yellowbrick](https://afioto.medium.com/classification-visualizations-with-yellowbrick-d6f6150d7a32)"
   ]
  },
  {
   "cell_type": "markdown",
   "id": "af58f1be-f81a-4074-ae17-39f785c2f690",
   "metadata": {},
   "source": [
    "[freecodecamp](https://www.freecodecamp.org/news/machine-learning-pipeline/#:~:text=There%20is%20a%20big%20difference,ColumnTransformer%20that%20you%20should%20understand.&text=You%20use%20the%20pipeline%20for,separately%20before%20combining%20them%20later)"
   ]
  },
  {
   "cell_type": "markdown",
   "id": "653ca823-c058-4996-93b5-88c371303e88",
   "metadata": {},
   "source": [
    "[medium pipelines](https://medium.com/analytics-vidhya/getting-started-with-scikit-learn-pipelines-for-machine-learning-fa88efdca3b9)"
   ]
  },
  {
   "cell_type": "markdown",
   "id": "3b1503ff-53c4-4b77-941e-11d79db7d36d",
   "metadata": {
    "tags": []
   },
   "source": [
    "[open ai](https://openai.com)"
   ]
  },
  {
   "cell_type": "markdown",
   "id": "d36d067f-7041-4103-aef3-86fd110773d4",
   "metadata": {
    "tags": []
   },
   "source": [
    "[scikit-yb.org](https://www.scikit-yb.org/en/latest/api/classifier/index.html)"
   ]
  },
  {
   "cell_type": "markdown",
   "id": "9bd1b0af-79c9-426c-ac40-1c72c5c40c97",
   "metadata": {},
   "source": [
    "[towardsai.net](https://towardsai.net/p/data-science/how-when-and-why-should-you-normalize-standardize-rescale-your-data-3f083def38ff)"
   ]
  },
  {
   "cell_type": "markdown",
   "id": "b097e6ae-77b0-4b1a-a215-4141cdfcc24c",
   "metadata": {},
   "source": [
    "[towardsdatascience ROCAUC](https://towardsdatascience.com/interpreting-roc-curve-and-roc-auc-for-classification-evaluation-28ec3983f077)"
   ]
  }
 ],
 "metadata": {
  "kernelspec": {
   "display_name": "Python 3 (ipykernel)",
   "language": "python",
   "name": "python3"
  },
  "language_info": {
   "codemirror_mode": {
    "name": "ipython",
    "version": 3
   },
   "file_extension": ".py",
   "mimetype": "text/x-python",
   "name": "python",
   "nbconvert_exporter": "python",
   "pygments_lexer": "ipython3",
   "version": "3.9.18"
  }
 },
 "nbformat": 4,
 "nbformat_minor": 5
}
